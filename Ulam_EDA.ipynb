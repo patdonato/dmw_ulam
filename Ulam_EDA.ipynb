{
 "cells": [
  {
   "cell_type": "code",
   "execution_count": 1,
   "metadata": {
    "ExecuteTime": {
     "end_time": "2021-09-05T16:04:35.896376Z",
     "start_time": "2021-09-05T16:04:34.238163Z"
    }
   },
   "outputs": [],
   "source": [
    "# For data prep\n",
    "import numpy as np\n",
    "import pandas as pd\n",
    "import sqlite3\n",
    "from sqlalchemy import create_engine\n",
    "\n",
    "# For PCA\n",
    "from sklearn.preprocessing import LabelEncoder\n",
    "from sklearn.feature_selection import VarianceThreshold\n",
    "from scipy.spatial.distance import euclidean\n",
    "from sklearn.preprocessing import StandardScaler, MinMaxScaler\n",
    "import math\n",
    "import bisect\n",
    "\n",
    "# For Clustering\n",
    "from sklearn.cluster import AgglomerativeClustering\n",
    "from scipy.cluster.hierarchy import linkage, dendrogram\n",
    "from scipy.cluster.hierarchy import fcluster\n",
    "\n",
    "# For plotting\n",
    "import matplotlib.pyplot as plt\n",
    "import plotly.graph_objects as go\n",
    "import plotly.express as px\n",
    "from plotnine import *\n",
    "\n",
    "# For writeup\n",
    "from IPython.display import display, HTML\n",
    "import warnings\n",
    "warnings.filterwarnings('ignore')"
   ]
  },
  {
   "cell_type": "markdown",
   "metadata": {},
   "source": [
    "# 1. Loading database"
   ]
  },
  {
   "cell_type": "code",
   "execution_count": 2,
   "metadata": {
    "ExecuteTime": {
     "end_time": "2021-09-05T16:04:36.069558Z",
     "start_time": "2021-09-05T16:04:35.898374Z"
    }
   },
   "outputs": [
    {
     "data": {
      "text/html": [
       "<div>\n",
       "<style scoped>\n",
       "    .dataframe tbody tr th:only-of-type {\n",
       "        vertical-align: middle;\n",
       "    }\n",
       "\n",
       "    .dataframe tbody tr th {\n",
       "        vertical-align: top;\n",
       "    }\n",
       "\n",
       "    .dataframe thead th {\n",
       "        text-align: right;\n",
       "    }\n",
       "</style>\n",
       "<table border=\"1\" class=\"dataframe\">\n",
       "  <thead>\n",
       "    <tr style=\"text-align: right;\">\n",
       "      <th></th>\n",
       "      <th>dish_name</th>\n",
       "      <th>yeast</th>\n",
       "      <th>wrapper</th>\n",
       "      <th>worcestershire_sauce</th>\n",
       "      <th>winged_bean</th>\n",
       "      <th>vinegar</th>\n",
       "      <th>turmeric</th>\n",
       "      <th>tomato</th>\n",
       "      <th>tofu</th>\n",
       "      <th>toasted_rice_powder</th>\n",
       "      <th>...</th>\n",
       "      <th>shrimp</th>\n",
       "      <th>pineapple</th>\n",
       "      <th>water</th>\n",
       "      <th>salt</th>\n",
       "      <th>rice</th>\n",
       "      <th>pork</th>\n",
       "      <th>corn</th>\n",
       "      <th>chicken</th>\n",
       "      <th>beef</th>\n",
       "      <th>banana</th>\n",
       "    </tr>\n",
       "  </thead>\n",
       "  <tbody>\n",
       "    <tr>\n",
       "      <th>0</th>\n",
       "      <td>Sinarsahang Manok</td>\n",
       "      <td>0.0</td>\n",
       "      <td>0.0</td>\n",
       "      <td>0.0</td>\n",
       "      <td>0.0</td>\n",
       "      <td>0.0000</td>\n",
       "      <td>0.0</td>\n",
       "      <td>2.5</td>\n",
       "      <td>0.0</td>\n",
       "      <td>0.0</td>\n",
       "      <td>...</td>\n",
       "      <td>0.0</td>\n",
       "      <td>0.0</td>\n",
       "      <td>1.50</td>\n",
       "      <td>0.000000</td>\n",
       "      <td>0.0</td>\n",
       "      <td>0.0</td>\n",
       "      <td>0.000</td>\n",
       "      <td>680.389364</td>\n",
       "      <td>0.000000</td>\n",
       "      <td>0.0</td>\n",
       "    </tr>\n",
       "    <tr>\n",
       "      <th>1</th>\n",
       "      <td>Pinoy Chicken Curry Recipe</td>\n",
       "      <td>0.0</td>\n",
       "      <td>0.0</td>\n",
       "      <td>0.0</td>\n",
       "      <td>0.0</td>\n",
       "      <td>0.0000</td>\n",
       "      <td>0.0</td>\n",
       "      <td>0.0</td>\n",
       "      <td>0.0</td>\n",
       "      <td>0.0</td>\n",
       "      <td>...</td>\n",
       "      <td>0.0</td>\n",
       "      <td>0.0</td>\n",
       "      <td>1.00</td>\n",
       "      <td>0.000000</td>\n",
       "      <td>0.0</td>\n",
       "      <td>0.0</td>\n",
       "      <td>0.000</td>\n",
       "      <td>907.185819</td>\n",
       "      <td>0.000000</td>\n",
       "      <td>0.0</td>\n",
       "    </tr>\n",
       "    <tr>\n",
       "      <th>2</th>\n",
       "      <td>Ketchup Fried Chicken</td>\n",
       "      <td>0.0</td>\n",
       "      <td>0.0</td>\n",
       "      <td>0.0</td>\n",
       "      <td>0.0</td>\n",
       "      <td>0.3125</td>\n",
       "      <td>0.0</td>\n",
       "      <td>0.0</td>\n",
       "      <td>0.0</td>\n",
       "      <td>0.0</td>\n",
       "      <td>...</td>\n",
       "      <td>0.0</td>\n",
       "      <td>0.0</td>\n",
       "      <td>0.00</td>\n",
       "      <td>0.000000</td>\n",
       "      <td>0.0</td>\n",
       "      <td>0.0</td>\n",
       "      <td>0.000</td>\n",
       "      <td>3.000000</td>\n",
       "      <td>0.000000</td>\n",
       "      <td>0.0</td>\n",
       "    </tr>\n",
       "    <tr>\n",
       "      <th>3</th>\n",
       "      <td>Chicken Barbecue</td>\n",
       "      <td>0.0</td>\n",
       "      <td>0.0</td>\n",
       "      <td>0.0</td>\n",
       "      <td>0.0</td>\n",
       "      <td>0.0000</td>\n",
       "      <td>0.0</td>\n",
       "      <td>0.0</td>\n",
       "      <td>0.0</td>\n",
       "      <td>0.0</td>\n",
       "      <td>...</td>\n",
       "      <td>0.0</td>\n",
       "      <td>0.0</td>\n",
       "      <td>0.00</td>\n",
       "      <td>2.000000</td>\n",
       "      <td>0.0</td>\n",
       "      <td>0.0</td>\n",
       "      <td>0.000</td>\n",
       "      <td>4.000000</td>\n",
       "      <td>0.000000</td>\n",
       "      <td>0.0</td>\n",
       "    </tr>\n",
       "    <tr>\n",
       "      <th>4</th>\n",
       "      <td>Chicken Paksiw Recipe</td>\n",
       "      <td>0.0</td>\n",
       "      <td>0.0</td>\n",
       "      <td>0.0</td>\n",
       "      <td>0.0</td>\n",
       "      <td>0.5000</td>\n",
       "      <td>0.0</td>\n",
       "      <td>0.0</td>\n",
       "      <td>0.0</td>\n",
       "      <td>0.0</td>\n",
       "      <td>...</td>\n",
       "      <td>0.0</td>\n",
       "      <td>0.0</td>\n",
       "      <td>1.00</td>\n",
       "      <td>1.000000</td>\n",
       "      <td>0.0</td>\n",
       "      <td>0.0</td>\n",
       "      <td>0.000</td>\n",
       "      <td>453.592909</td>\n",
       "      <td>0.000000</td>\n",
       "      <td>0.0</td>\n",
       "    </tr>\n",
       "    <tr>\n",
       "      <th>...</th>\n",
       "      <td>...</td>\n",
       "      <td>...</td>\n",
       "      <td>...</td>\n",
       "      <td>...</td>\n",
       "      <td>...</td>\n",
       "      <td>...</td>\n",
       "      <td>...</td>\n",
       "      <td>...</td>\n",
       "      <td>...</td>\n",
       "      <td>...</td>\n",
       "      <td>...</td>\n",
       "      <td>...</td>\n",
       "      <td>...</td>\n",
       "      <td>...</td>\n",
       "      <td>...</td>\n",
       "      <td>...</td>\n",
       "      <td>...</td>\n",
       "      <td>...</td>\n",
       "      <td>...</td>\n",
       "      <td>...</td>\n",
       "      <td>...</td>\n",
       "    </tr>\n",
       "    <tr>\n",
       "      <th>277</th>\n",
       "      <td>Papaitan Recipe</td>\n",
       "      <td>0.0</td>\n",
       "      <td>0.0</td>\n",
       "      <td>0.0</td>\n",
       "      <td>0.0</td>\n",
       "      <td>0.0000</td>\n",
       "      <td>0.0</td>\n",
       "      <td>0.0</td>\n",
       "      <td>0.0</td>\n",
       "      <td>0.0</td>\n",
       "      <td>...</td>\n",
       "      <td>0.0</td>\n",
       "      <td>0.0</td>\n",
       "      <td>8.00</td>\n",
       "      <td>0.156250</td>\n",
       "      <td>0.0</td>\n",
       "      <td>0.0</td>\n",
       "      <td>0.000</td>\n",
       "      <td>0.000000</td>\n",
       "      <td>226.796455</td>\n",
       "      <td>0.0</td>\n",
       "    </tr>\n",
       "    <tr>\n",
       "      <th>278</th>\n",
       "      <td>Morcon Recipe</td>\n",
       "      <td>0.0</td>\n",
       "      <td>0.0</td>\n",
       "      <td>0.0</td>\n",
       "      <td>0.0</td>\n",
       "      <td>0.0000</td>\n",
       "      <td>0.0</td>\n",
       "      <td>0.0</td>\n",
       "      <td>0.0</td>\n",
       "      <td>0.0</td>\n",
       "      <td>...</td>\n",
       "      <td>0.0</td>\n",
       "      <td>0.0</td>\n",
       "      <td>0.00</td>\n",
       "      <td>0.005208</td>\n",
       "      <td>0.0</td>\n",
       "      <td>0.0</td>\n",
       "      <td>0.000</td>\n",
       "      <td>0.000000</td>\n",
       "      <td>907.185819</td>\n",
       "      <td>0.0</td>\n",
       "    </tr>\n",
       "    <tr>\n",
       "      <th>279</th>\n",
       "      <td>Beef Mechado Recipe</td>\n",
       "      <td>0.0</td>\n",
       "      <td>0.0</td>\n",
       "      <td>0.0</td>\n",
       "      <td>0.0</td>\n",
       "      <td>0.0000</td>\n",
       "      <td>0.0</td>\n",
       "      <td>1.0</td>\n",
       "      <td>0.0</td>\n",
       "      <td>0.0</td>\n",
       "      <td>...</td>\n",
       "      <td>0.0</td>\n",
       "      <td>0.0</td>\n",
       "      <td>1.00</td>\n",
       "      <td>1.000000</td>\n",
       "      <td>0.0</td>\n",
       "      <td>0.0</td>\n",
       "      <td>0.000</td>\n",
       "      <td>0.000000</td>\n",
       "      <td>907.185819</td>\n",
       "      <td>0.0</td>\n",
       "    </tr>\n",
       "    <tr>\n",
       "      <th>280</th>\n",
       "      <td>Bulalo Recipe</td>\n",
       "      <td>0.0</td>\n",
       "      <td>0.0</td>\n",
       "      <td>0.0</td>\n",
       "      <td>0.0</td>\n",
       "      <td>0.0000</td>\n",
       "      <td>0.0</td>\n",
       "      <td>0.0</td>\n",
       "      <td>0.0</td>\n",
       "      <td>0.0</td>\n",
       "      <td>...</td>\n",
       "      <td>0.0</td>\n",
       "      <td>0.0</td>\n",
       "      <td>4.25</td>\n",
       "      <td>0.000000</td>\n",
       "      <td>0.0</td>\n",
       "      <td>0.0</td>\n",
       "      <td>1.125</td>\n",
       "      <td>0.000000</td>\n",
       "      <td>907.185819</td>\n",
       "      <td>0.0</td>\n",
       "    </tr>\n",
       "    <tr>\n",
       "      <th>281</th>\n",
       "      <td>Lengua Estofada Recipe</td>\n",
       "      <td>0.0</td>\n",
       "      <td>0.0</td>\n",
       "      <td>0.0</td>\n",
       "      <td>0.0</td>\n",
       "      <td>0.0000</td>\n",
       "      <td>0.0</td>\n",
       "      <td>1.0</td>\n",
       "      <td>0.0</td>\n",
       "      <td>0.0</td>\n",
       "      <td>...</td>\n",
       "      <td>0.0</td>\n",
       "      <td>0.0</td>\n",
       "      <td>3.00</td>\n",
       "      <td>0.000000</td>\n",
       "      <td>0.0</td>\n",
       "      <td>0.0</td>\n",
       "      <td>0.000</td>\n",
       "      <td>0.000000</td>\n",
       "      <td>0.000000</td>\n",
       "      <td>0.0</td>\n",
       "    </tr>\n",
       "  </tbody>\n",
       "</table>\n",
       "<p>282 rows × 137 columns</p>\n",
       "</div>"
      ],
      "text/plain": [
       "                      dish_name  yeast  wrapper  worcestershire_sauce  \\\n",
       "0             Sinarsahang Manok    0.0      0.0                   0.0   \n",
       "1    Pinoy Chicken Curry Recipe    0.0      0.0                   0.0   \n",
       "2         Ketchup Fried Chicken    0.0      0.0                   0.0   \n",
       "3              Chicken Barbecue    0.0      0.0                   0.0   \n",
       "4         Chicken Paksiw Recipe    0.0      0.0                   0.0   \n",
       "..                          ...    ...      ...                   ...   \n",
       "277             Papaitan Recipe    0.0      0.0                   0.0   \n",
       "278               Morcon Recipe    0.0      0.0                   0.0   \n",
       "279         Beef Mechado Recipe    0.0      0.0                   0.0   \n",
       "280               Bulalo Recipe    0.0      0.0                   0.0   \n",
       "281      Lengua Estofada Recipe    0.0      0.0                   0.0   \n",
       "\n",
       "     winged_bean  vinegar  turmeric  tomato  tofu  toasted_rice_powder  ...  \\\n",
       "0            0.0   0.0000       0.0     2.5   0.0                  0.0  ...   \n",
       "1            0.0   0.0000       0.0     0.0   0.0                  0.0  ...   \n",
       "2            0.0   0.3125       0.0     0.0   0.0                  0.0  ...   \n",
       "3            0.0   0.0000       0.0     0.0   0.0                  0.0  ...   \n",
       "4            0.0   0.5000       0.0     0.0   0.0                  0.0  ...   \n",
       "..           ...      ...       ...     ...   ...                  ...  ...   \n",
       "277          0.0   0.0000       0.0     0.0   0.0                  0.0  ...   \n",
       "278          0.0   0.0000       0.0     0.0   0.0                  0.0  ...   \n",
       "279          0.0   0.0000       0.0     1.0   0.0                  0.0  ...   \n",
       "280          0.0   0.0000       0.0     0.0   0.0                  0.0  ...   \n",
       "281          0.0   0.0000       0.0     1.0   0.0                  0.0  ...   \n",
       "\n",
       "     shrimp  pineapple  water      salt  rice  pork   corn     chicken  \\\n",
       "0       0.0        0.0   1.50  0.000000   0.0   0.0  0.000  680.389364   \n",
       "1       0.0        0.0   1.00  0.000000   0.0   0.0  0.000  907.185819   \n",
       "2       0.0        0.0   0.00  0.000000   0.0   0.0  0.000    3.000000   \n",
       "3       0.0        0.0   0.00  2.000000   0.0   0.0  0.000    4.000000   \n",
       "4       0.0        0.0   1.00  1.000000   0.0   0.0  0.000  453.592909   \n",
       "..      ...        ...    ...       ...   ...   ...    ...         ...   \n",
       "277     0.0        0.0   8.00  0.156250   0.0   0.0  0.000    0.000000   \n",
       "278     0.0        0.0   0.00  0.005208   0.0   0.0  0.000    0.000000   \n",
       "279     0.0        0.0   1.00  1.000000   0.0   0.0  0.000    0.000000   \n",
       "280     0.0        0.0   4.25  0.000000   0.0   0.0  1.125    0.000000   \n",
       "281     0.0        0.0   3.00  0.000000   0.0   0.0  0.000    0.000000   \n",
       "\n",
       "           beef  banana  \n",
       "0      0.000000     0.0  \n",
       "1      0.000000     0.0  \n",
       "2      0.000000     0.0  \n",
       "3      0.000000     0.0  \n",
       "4      0.000000     0.0  \n",
       "..          ...     ...  \n",
       "277  226.796455     0.0  \n",
       "278  907.185819     0.0  \n",
       "279  907.185819     0.0  \n",
       "280  907.185819     0.0  \n",
       "281    0.000000     0.0  \n",
       "\n",
       "[282 rows x 137 columns]"
      ]
     },
     "metadata": {},
     "output_type": "display_data"
    }
   ],
   "source": [
    "with create_engine('sqlite:///ulam.db').connect() as conn:\n",
    "    df_ing = pd.read_sql(\"\"\"\n",
    "    SELECT * FROM rekado\n",
    "    \"\"\", conn)\n",
    "    \n",
    "display(df_ing)"
   ]
  },
  {
   "cell_type": "markdown",
   "metadata": {},
   "source": [
    "# 2. Data Prep"
   ]
  },
  {
   "cell_type": "code",
   "execution_count": 3,
   "metadata": {
    "ExecuteTime": {
     "end_time": "2021-09-05T16:04:36.084887Z",
     "start_time": "2021-09-05T16:04:36.072551Z"
    }
   },
   "outputs": [],
   "source": [
    "def drop_features(data, irrelevant_cols, skip_cols, p):\n",
    "    \"\"\"\n",
    "    Drop features given a variance threshold\n",
    "\n",
    "    Parameters\n",
    "    ----------\n",
    "    data : dataframe\n",
    "        dataframe from which the columns will be dropped. May contain\n",
    "    a mix of numeric and categorical columns. By default, categorical\n",
    "    columns are label-encoded before getting the variance of the columns.\n",
    "\n",
    "    irrelevant_cols : list\n",
    "        list of column names. Column names in this list will be dropped\n",
    "    permanently.\n",
    "\n",
    "    skip_cols : list\n",
    "        list of column names. Column names in this list will be kept by\n",
    "    default and will not undergo variance thresholding.\n",
    "\n",
    "    p : float\n",
    "        variance threshold for dropping. A p = 0.01 would mean dropping\n",
    "    columns where 99% of the values are similar.\n",
    "\n",
    "    Returns\n",
    "    -------\n",
    "        dataframe in its original format, whose columns that did not\n",
    "    satisfy the p threshold were dropped\n",
    "\n",
    "    \"\"\"\n",
    "    orig_data = data.copy(deep=True)\n",
    "    if irrelevant_cols is not None:\n",
    "        print(f\"Dropping irrelevant columns:\\n{irrelevant_cols}\")\n",
    "        data = orig_data.drop(irrelevant_cols, axis=1)\n",
    "    if skip_cols is not None:\n",
    "        print(f\"\\nSkipping the following columns:\\n{skip_cols}\")\n",
    "        data = data.drop(skip_cols, axis=1)\n",
    "\n",
    "    num_data = pd.DataFrame(data.select_dtypes(include=np.number))\n",
    "    cat_data = pd.DataFrame(data.select_dtypes(exclude=np.number))\n",
    "\n",
    "    if cat_data.shape[1] != 0:\n",
    "        cat_data = cat_data.apply(LabelEncoder().fit_transform)\n",
    "        transformed_data = pd.concat([num_data, cat_data], axis=1)\n",
    "    else:\n",
    "        transformed_data = num_data\n",
    "\n",
    "    # threshold=0.01 means dropping the column where 99% of values are similar.\n",
    "    thresh = VarianceThreshold(threshold=p)\n",
    "    thresh.fit_transform(transformed_data)\n",
    "    ind = thresh.get_support(indices=True)\n",
    "    cols_kept = list(transformed_data.columns[ind])\n",
    "    cols_dropped = list(set(transformed_data.columns)-set(cols_kept))\n",
    "\n",
    "    print(f\"\\nGiven threshold = {p}, the following columns\"\n",
    "          f\" were dropped:\\n{cols_dropped}\")\n",
    "    \n",
    "    if skip_cols is not None:\n",
    "        return orig_data[skip_cols + cols_kept]\n",
    "    \n",
    "    return orig_data[cols_kept]\n",
    "\n",
    "def fix_dtypes(data):\n",
    "    \"\"\"Fix datatypes of the dataframe\n",
    "\n",
    "    Parameters\n",
    "    ----------\n",
    "    data : dataframe\n",
    "        dataframe from which the columns will be appropriately\n",
    "    converted into their correct data types. May contain a mix of numeric\n",
    "    and categorical columns.\n",
    "\n",
    "    \"\"\"\n",
    "    df = data.copy(deep=True)\n",
    "    df = df.convert_dtypes()\n",
    "    for i in df.columns:\n",
    "        if '_dt' in i:\n",
    "            df[i] = pd.to_datetime(df[i], errors='coerce')\n",
    "    return df"
   ]
  },
  {
   "cell_type": "code",
   "execution_count": 4,
   "metadata": {
    "ExecuteTime": {
     "end_time": "2021-09-05T16:04:36.147085Z",
     "start_time": "2021-09-05T16:04:36.085885Z"
    }
   },
   "outputs": [
    {
     "name": "stdout",
     "output_type": "stream",
     "text": [
      "Dropping irrelevant columns:\n",
      "['dish_name']\n",
      "\n",
      "Given threshold = 0, the following columns were dropped:\n",
      "['glutinous_rice', 'leeks', 'pea', 'pineapple_juice', 'turmeric', 'cucumber']\n"
     ]
    }
   ],
   "source": [
    "fixed_df = fix_dtypes(df_ing)\n",
    "dropped_df = drop_features(df_ing, irrelevant_cols=['dish_name'], skip_cols=None, p=0)\n",
    "X = np.array(dropped_df, dtype=float)\n",
    "scaler = MinMaxScaler()\n",
    "X = scaler.fit_transform(X)"
   ]
  },
  {
   "cell_type": "markdown",
   "metadata": {},
   "source": [
    "# 3a. SVD"
   ]
  },
  {
   "cell_type": "code",
   "execution_count": 5,
   "metadata": {
    "ExecuteTime": {
     "end_time": "2021-09-05T16:04:36.161574Z",
     "start_time": "2021-09-05T16:04:36.148087Z"
    },
    "scrolled": false
   },
   "outputs": [],
   "source": [
    "def truncated_svd(X, thresh=0.90):\n",
    "    \"\"\"Perform singular value decomposition on a design matrix X\"\"\"\n",
    "    \n",
    "    q, s, p = np.linalg.svd(X, full_matrices=True)\n",
    "    Q = q\n",
    "    S = np.diag(s)\n",
    "    P = p.T\n",
    "    NSSD = (s / np.sqrt(np.sum(s**2)))**2\n",
    "    \n",
    "    ind = bisect.bisect(NSSD.cumsum(), thresh) +1\n",
    "    print(f'\\nTo achieve at least {thresh*100}%, {ind} PCs are required.')\n",
    "    \n",
    "    return Q, S, P, NSSD\n",
    "\n",
    "def project_svd(q, s, k):\n",
    "    \"\"\"Project the design matrix on to the first k singular vectors\"\"\"\n",
    "    \n",
    "    return q[:,:k].dot(s[:k,:k])\n",
    "\n",
    "def plot_var(variance_explained, num_components):\n",
    "    \"\"\"\n",
    "    Plot the individual and cumulative variance explained of the resulting PCs.\n",
    "\n",
    "    Parameters\n",
    "    ----------\n",
    "    variance_explained : array\n",
    "        Eigenvalues of the PCs.\n",
    "    num_components : int or float\n",
    "        Number of components to keep; to be imposed on with a horizontal\n",
    "    dashed line.\n",
    "    species_str : str\n",
    "        String to be placed in the plot title.\n",
    "\n",
    "    \"\"\"\n",
    "    var_ind = pd.DataFrame(zip(range(1, len(variance_explained)+1),\n",
    "                                   ['Individual']*len(variance_explained),\n",
    "                                   variance_explained),\n",
    "                               columns=['SV', 'Contribution', 'Value'])\n",
    "    var_cum = pd.DataFrame(zip(range(1, len(variance_explained)+1),\n",
    "                                   ['Cumulative']*len(variance_explained),\n",
    "                                   variance_explained.cumsum()),\n",
    "                               columns=['SV', 'Contribution', 'Value'])\n",
    "    var = pd.concat([var_ind, var_cum], axis=0)\n",
    "    value = var['Value']*100\n",
    "    var['Contribution %'] = (value).round(2).astype(str) + '%'\n",
    "    var['Value'] = var['Value']*100\n",
    "\n",
    "    fig = px.line(var, x='SV', y='Value', color='Contribution',\n",
    "                  hover_data={'SV': False,\n",
    "                              'Contribution': False,\n",
    "                              'Value': False,\n",
    "                              'Contribution %': True},\n",
    "                  markers=True, color_discrete_map={'Individual': '#8F0A1B',\n",
    "                                                    'Cumulative': '#104C6B'})\n",
    "    fig.update_layout(\n",
    "            xaxis_title=\"<b>Number of SV</b>\",\n",
    "            yaxis_title=\"<b>Variance Explained</b>\",\n",
    "            title={'text': f'<b>Chosen SVs to '\n",
    "                   f'Reach 90% Cumulative Variance Explained</b>',\n",
    "                   'xanchor': 'center',\n",
    "                   'yanchor': 'top',\n",
    "                   'x': 0.5},\n",
    "            margin=dict(l=0, r=0, t=100, b=0),\n",
    "            font={'size': 14, 'color': '#333136'},\n",
    "            plot_bgcolor='white',\n",
    "            yaxis_range=[0, 100],\n",
    "            hovermode=\"x\",\n",
    "            height=500,\n",
    "            width=800)\n",
    "    fig.add_shape(\n",
    "            type='line',\n",
    "            yref='paper',\n",
    "            y0=0,\n",
    "            y1=1,\n",
    "            xref='x',\n",
    "            x0=num_components,\n",
    "            x1=num_components,\n",
    "            line=dict(\n",
    "                color='#333136',\n",
    "                dash='dash',\n",
    "                width=2))\n",
    "    fig.update_yaxes(showgrid=True, gridwidth=1, gridcolor='#EEF4ED')\n",
    "    fig.update_layout(legend=dict(\n",
    "        yanchor=\"top\",\n",
    "        y=0.99,\n",
    "        xanchor=\"left\",\n",
    "        x=0.01,\n",
    "        title='<b>Contribution</b>'\n",
    "    ))\n",
    "\n",
    "    return fig"
   ]
  },
  {
   "cell_type": "code",
   "execution_count": 6,
   "metadata": {
    "ExecuteTime": {
     "end_time": "2021-09-05T16:04:37.529757Z",
     "start_time": "2021-09-05T16:04:36.164504Z"
    }
   },
   "outputs": [
    {
     "name": "stdout",
     "output_type": "stream",
     "text": [
      "\n",
      "To achieve at least 90.0%, 60 PCs are required.\n"
     ]
    }
   ],
   "source": [
    "q, s, p, nssd = truncated_svd(X)\n",
    "# plot_var(nssd, 60)"
   ]
  },
  {
   "cell_type": "code",
   "execution_count": 7,
   "metadata": {
    "ExecuteTime": {
     "end_time": "2021-09-05T16:04:37.560647Z",
     "start_time": "2021-09-05T16:04:37.531725Z"
    }
   },
   "outputs": [
    {
     "data": {
      "text/html": [
       "<div>\n",
       "<style scoped>\n",
       "    .dataframe tbody tr th:only-of-type {\n",
       "        vertical-align: middle;\n",
       "    }\n",
       "\n",
       "    .dataframe tbody tr th {\n",
       "        vertical-align: top;\n",
       "    }\n",
       "\n",
       "    .dataframe thead th {\n",
       "        text-align: right;\n",
       "    }\n",
       "</style>\n",
       "<table border=\"1\" class=\"dataframe\">\n",
       "  <thead>\n",
       "    <tr style=\"text-align: right;\">\n",
       "      <th></th>\n",
       "      <th>SV1</th>\n",
       "      <th>SV2</th>\n",
       "      <th>SV3</th>\n",
       "      <th>SV4</th>\n",
       "      <th>SV5</th>\n",
       "      <th>SV6</th>\n",
       "      <th>SV7</th>\n",
       "      <th>SV8</th>\n",
       "      <th>SV9</th>\n",
       "      <th>SV10</th>\n",
       "      <th>...</th>\n",
       "      <th>SV51</th>\n",
       "      <th>SV52</th>\n",
       "      <th>SV53</th>\n",
       "      <th>SV54</th>\n",
       "      <th>SV55</th>\n",
       "      <th>SV56</th>\n",
       "      <th>SV57</th>\n",
       "      <th>SV58</th>\n",
       "      <th>SV59</th>\n",
       "      <th>SV60</th>\n",
       "    </tr>\n",
       "  </thead>\n",
       "  <tbody>\n",
       "    <tr>\n",
       "      <th>yeast</th>\n",
       "      <td>-0.002403</td>\n",
       "      <td>-0.004773</td>\n",
       "      <td>0.004080</td>\n",
       "      <td>-0.002764</td>\n",
       "      <td>-0.001896</td>\n",
       "      <td>0.004624</td>\n",
       "      <td>-0.021111</td>\n",
       "      <td>0.013710</td>\n",
       "      <td>-0.025298</td>\n",
       "      <td>0.021925</td>\n",
       "      <td>...</td>\n",
       "      <td>0.002139</td>\n",
       "      <td>0.009431</td>\n",
       "      <td>0.008824</td>\n",
       "      <td>-0.049502</td>\n",
       "      <td>0.007933</td>\n",
       "      <td>0.029602</td>\n",
       "      <td>0.024065</td>\n",
       "      <td>0.052074</td>\n",
       "      <td>-0.046443</td>\n",
       "      <td>-0.025464</td>\n",
       "    </tr>\n",
       "    <tr>\n",
       "      <th>wrapper</th>\n",
       "      <td>-0.015338</td>\n",
       "      <td>0.015584</td>\n",
       "      <td>0.012802</td>\n",
       "      <td>-0.002763</td>\n",
       "      <td>-0.000418</td>\n",
       "      <td>0.014742</td>\n",
       "      <td>-0.065729</td>\n",
       "      <td>0.051591</td>\n",
       "      <td>0.015981</td>\n",
       "      <td>-0.069661</td>\n",
       "      <td>...</td>\n",
       "      <td>0.008492</td>\n",
       "      <td>-0.310549</td>\n",
       "      <td>-0.005533</td>\n",
       "      <td>-0.064960</td>\n",
       "      <td>-0.032950</td>\n",
       "      <td>0.029734</td>\n",
       "      <td>-0.146654</td>\n",
       "      <td>0.066294</td>\n",
       "      <td>-0.016839</td>\n",
       "      <td>-0.127929</td>\n",
       "    </tr>\n",
       "    <tr>\n",
       "      <th>worcestershire_sauce</th>\n",
       "      <td>-0.009521</td>\n",
       "      <td>-0.000061</td>\n",
       "      <td>0.013076</td>\n",
       "      <td>-0.000535</td>\n",
       "      <td>-0.009177</td>\n",
       "      <td>-0.003211</td>\n",
       "      <td>-0.029946</td>\n",
       "      <td>-0.016476</td>\n",
       "      <td>-0.024509</td>\n",
       "      <td>-0.022969</td>\n",
       "      <td>...</td>\n",
       "      <td>-0.016853</td>\n",
       "      <td>-0.029911</td>\n",
       "      <td>-0.091708</td>\n",
       "      <td>0.005832</td>\n",
       "      <td>-0.051234</td>\n",
       "      <td>0.015906</td>\n",
       "      <td>-0.028511</td>\n",
       "      <td>-0.032802</td>\n",
       "      <td>-0.061044</td>\n",
       "      <td>-0.064772</td>\n",
       "    </tr>\n",
       "    <tr>\n",
       "      <th>winged_bean</th>\n",
       "      <td>-0.008779</td>\n",
       "      <td>0.003726</td>\n",
       "      <td>-0.022449</td>\n",
       "      <td>0.006739</td>\n",
       "      <td>-0.003181</td>\n",
       "      <td>-0.000192</td>\n",
       "      <td>0.004246</td>\n",
       "      <td>0.008007</td>\n",
       "      <td>-0.020153</td>\n",
       "      <td>0.017945</td>\n",
       "      <td>...</td>\n",
       "      <td>0.031577</td>\n",
       "      <td>0.027524</td>\n",
       "      <td>-0.040319</td>\n",
       "      <td>0.021391</td>\n",
       "      <td>-0.029198</td>\n",
       "      <td>-0.000508</td>\n",
       "      <td>0.052962</td>\n",
       "      <td>-0.020708</td>\n",
       "      <td>-0.110444</td>\n",
       "      <td>0.030894</td>\n",
       "    </tr>\n",
       "    <tr>\n",
       "      <th>vinegar</th>\n",
       "      <td>-0.116846</td>\n",
       "      <td>-0.122291</td>\n",
       "      <td>-0.036176</td>\n",
       "      <td>-0.131102</td>\n",
       "      <td>0.039716</td>\n",
       "      <td>0.001105</td>\n",
       "      <td>0.106531</td>\n",
       "      <td>0.069120</td>\n",
       "      <td>-0.097218</td>\n",
       "      <td>0.067874</td>\n",
       "      <td>...</td>\n",
       "      <td>0.168497</td>\n",
       "      <td>-0.084384</td>\n",
       "      <td>0.197693</td>\n",
       "      <td>-0.024853</td>\n",
       "      <td>0.076789</td>\n",
       "      <td>0.053772</td>\n",
       "      <td>-0.032308</td>\n",
       "      <td>0.056598</td>\n",
       "      <td>0.177027</td>\n",
       "      <td>0.039128</td>\n",
       "    </tr>\n",
       "    <tr>\n",
       "      <th>...</th>\n",
       "      <td>...</td>\n",
       "      <td>...</td>\n",
       "      <td>...</td>\n",
       "      <td>...</td>\n",
       "      <td>...</td>\n",
       "      <td>...</td>\n",
       "      <td>...</td>\n",
       "      <td>...</td>\n",
       "      <td>...</td>\n",
       "      <td>...</td>\n",
       "      <td>...</td>\n",
       "      <td>...</td>\n",
       "      <td>...</td>\n",
       "      <td>...</td>\n",
       "      <td>...</td>\n",
       "      <td>...</td>\n",
       "      <td>...</td>\n",
       "      <td>...</td>\n",
       "      <td>...</td>\n",
       "      <td>...</td>\n",
       "      <td>...</td>\n",
       "    </tr>\n",
       "    <tr>\n",
       "      <th>pork</th>\n",
       "      <td>-0.230481</td>\n",
       "      <td>-0.201200</td>\n",
       "      <td>0.260732</td>\n",
       "      <td>-0.001460</td>\n",
       "      <td>-0.056777</td>\n",
       "      <td>-0.099814</td>\n",
       "      <td>-0.291894</td>\n",
       "      <td>0.288859</td>\n",
       "      <td>0.063261</td>\n",
       "      <td>0.348667</td>\n",
       "      <td>...</td>\n",
       "      <td>0.085743</td>\n",
       "      <td>0.017898</td>\n",
       "      <td>-0.064967</td>\n",
       "      <td>-0.032282</td>\n",
       "      <td>0.028270</td>\n",
       "      <td>-0.029182</td>\n",
       "      <td>-0.005401</td>\n",
       "      <td>-0.078502</td>\n",
       "      <td>0.073715</td>\n",
       "      <td>-0.012916</td>\n",
       "    </tr>\n",
       "    <tr>\n",
       "      <th>corn</th>\n",
       "      <td>-0.005150</td>\n",
       "      <td>-0.005755</td>\n",
       "      <td>0.000389</td>\n",
       "      <td>0.013557</td>\n",
       "      <td>0.001948</td>\n",
       "      <td>0.015866</td>\n",
       "      <td>-0.024891</td>\n",
       "      <td>-0.038544</td>\n",
       "      <td>0.036503</td>\n",
       "      <td>-0.061973</td>\n",
       "      <td>...</td>\n",
       "      <td>-0.009691</td>\n",
       "      <td>0.050903</td>\n",
       "      <td>-0.090043</td>\n",
       "      <td>0.046670</td>\n",
       "      <td>-0.060181</td>\n",
       "      <td>-0.033297</td>\n",
       "      <td>0.041883</td>\n",
       "      <td>-0.007530</td>\n",
       "      <td>-0.025494</td>\n",
       "      <td>0.040268</td>\n",
       "    </tr>\n",
       "    <tr>\n",
       "      <th>chicken</th>\n",
       "      <td>-0.327709</td>\n",
       "      <td>0.436494</td>\n",
       "      <td>-0.704683</td>\n",
       "      <td>-0.044670</td>\n",
       "      <td>0.100934</td>\n",
       "      <td>0.083269</td>\n",
       "      <td>-0.004068</td>\n",
       "      <td>0.168682</td>\n",
       "      <td>-0.049128</td>\n",
       "      <td>0.166905</td>\n",
       "      <td>...</td>\n",
       "      <td>0.102740</td>\n",
       "      <td>0.013979</td>\n",
       "      <td>-0.023307</td>\n",
       "      <td>0.003496</td>\n",
       "      <td>0.054171</td>\n",
       "      <td>-0.015698</td>\n",
       "      <td>0.016800</td>\n",
       "      <td>-0.029274</td>\n",
       "      <td>-0.007662</td>\n",
       "      <td>0.007088</td>\n",
       "    </tr>\n",
       "    <tr>\n",
       "      <th>beef</th>\n",
       "      <td>-0.054777</td>\n",
       "      <td>-0.047489</td>\n",
       "      <td>0.017223</td>\n",
       "      <td>0.099914</td>\n",
       "      <td>-0.042626</td>\n",
       "      <td>0.075339</td>\n",
       "      <td>-0.045415</td>\n",
       "      <td>-0.166767</td>\n",
       "      <td>0.017644</td>\n",
       "      <td>-0.185408</td>\n",
       "      <td>...</td>\n",
       "      <td>-0.080389</td>\n",
       "      <td>-0.152545</td>\n",
       "      <td>0.110243</td>\n",
       "      <td>-0.071589</td>\n",
       "      <td>0.059116</td>\n",
       "      <td>0.071744</td>\n",
       "      <td>-0.025815</td>\n",
       "      <td>-0.000542</td>\n",
       "      <td>0.026127</td>\n",
       "      <td>0.015469</td>\n",
       "    </tr>\n",
       "    <tr>\n",
       "      <th>banana</th>\n",
       "      <td>-0.033413</td>\n",
       "      <td>0.004419</td>\n",
       "      <td>-0.003539</td>\n",
       "      <td>0.031865</td>\n",
       "      <td>-0.054441</td>\n",
       "      <td>0.079518</td>\n",
       "      <td>-0.122516</td>\n",
       "      <td>-0.191057</td>\n",
       "      <td>0.199276</td>\n",
       "      <td>0.092278</td>\n",
       "      <td>...</td>\n",
       "      <td>-0.073772</td>\n",
       "      <td>-0.095443</td>\n",
       "      <td>-0.089414</td>\n",
       "      <td>0.071662</td>\n",
       "      <td>-0.095500</td>\n",
       "      <td>0.063658</td>\n",
       "      <td>0.023892</td>\n",
       "      <td>0.094725</td>\n",
       "      <td>0.011502</td>\n",
       "      <td>-0.027591</td>\n",
       "    </tr>\n",
       "  </tbody>\n",
       "</table>\n",
       "<p>130 rows × 60 columns</p>\n",
       "</div>"
      ],
      "text/plain": [
       "                           SV1       SV2       SV3       SV4       SV5  \\\n",
       "yeast                -0.002403 -0.004773  0.004080 -0.002764 -0.001896   \n",
       "wrapper              -0.015338  0.015584  0.012802 -0.002763 -0.000418   \n",
       "worcestershire_sauce -0.009521 -0.000061  0.013076 -0.000535 -0.009177   \n",
       "winged_bean          -0.008779  0.003726 -0.022449  0.006739 -0.003181   \n",
       "vinegar              -0.116846 -0.122291 -0.036176 -0.131102  0.039716   \n",
       "...                        ...       ...       ...       ...       ...   \n",
       "pork                 -0.230481 -0.201200  0.260732 -0.001460 -0.056777   \n",
       "corn                 -0.005150 -0.005755  0.000389  0.013557  0.001948   \n",
       "chicken              -0.327709  0.436494 -0.704683 -0.044670  0.100934   \n",
       "beef                 -0.054777 -0.047489  0.017223  0.099914 -0.042626   \n",
       "banana               -0.033413  0.004419 -0.003539  0.031865 -0.054441   \n",
       "\n",
       "                           SV6       SV7       SV8       SV9      SV10  ...  \\\n",
       "yeast                 0.004624 -0.021111  0.013710 -0.025298  0.021925  ...   \n",
       "wrapper               0.014742 -0.065729  0.051591  0.015981 -0.069661  ...   \n",
       "worcestershire_sauce -0.003211 -0.029946 -0.016476 -0.024509 -0.022969  ...   \n",
       "winged_bean          -0.000192  0.004246  0.008007 -0.020153  0.017945  ...   \n",
       "vinegar               0.001105  0.106531  0.069120 -0.097218  0.067874  ...   \n",
       "...                        ...       ...       ...       ...       ...  ...   \n",
       "pork                 -0.099814 -0.291894  0.288859  0.063261  0.348667  ...   \n",
       "corn                  0.015866 -0.024891 -0.038544  0.036503 -0.061973  ...   \n",
       "chicken               0.083269 -0.004068  0.168682 -0.049128  0.166905  ...   \n",
       "beef                  0.075339 -0.045415 -0.166767  0.017644 -0.185408  ...   \n",
       "banana                0.079518 -0.122516 -0.191057  0.199276  0.092278  ...   \n",
       "\n",
       "                          SV51      SV52      SV53      SV54      SV55  \\\n",
       "yeast                 0.002139  0.009431  0.008824 -0.049502  0.007933   \n",
       "wrapper               0.008492 -0.310549 -0.005533 -0.064960 -0.032950   \n",
       "worcestershire_sauce -0.016853 -0.029911 -0.091708  0.005832 -0.051234   \n",
       "winged_bean           0.031577  0.027524 -0.040319  0.021391 -0.029198   \n",
       "vinegar               0.168497 -0.084384  0.197693 -0.024853  0.076789   \n",
       "...                        ...       ...       ...       ...       ...   \n",
       "pork                  0.085743  0.017898 -0.064967 -0.032282  0.028270   \n",
       "corn                 -0.009691  0.050903 -0.090043  0.046670 -0.060181   \n",
       "chicken               0.102740  0.013979 -0.023307  0.003496  0.054171   \n",
       "beef                 -0.080389 -0.152545  0.110243 -0.071589  0.059116   \n",
       "banana               -0.073772 -0.095443 -0.089414  0.071662 -0.095500   \n",
       "\n",
       "                          SV56      SV57      SV58      SV59      SV60  \n",
       "yeast                 0.029602  0.024065  0.052074 -0.046443 -0.025464  \n",
       "wrapper               0.029734 -0.146654  0.066294 -0.016839 -0.127929  \n",
       "worcestershire_sauce  0.015906 -0.028511 -0.032802 -0.061044 -0.064772  \n",
       "winged_bean          -0.000508  0.052962 -0.020708 -0.110444  0.030894  \n",
       "vinegar               0.053772 -0.032308  0.056598  0.177027  0.039128  \n",
       "...                        ...       ...       ...       ...       ...  \n",
       "pork                 -0.029182 -0.005401 -0.078502  0.073715 -0.012916  \n",
       "corn                 -0.033297  0.041883 -0.007530 -0.025494  0.040268  \n",
       "chicken              -0.015698  0.016800 -0.029274 -0.007662  0.007088  \n",
       "beef                  0.071744 -0.025815 -0.000542  0.026127  0.015469  \n",
       "banana                0.063658  0.023892  0.094725  0.011502 -0.027591  \n",
       "\n",
       "[130 rows x 60 columns]"
      ]
     },
     "execution_count": 7,
     "metadata": {},
     "output_type": "execute_result"
    }
   ],
   "source": [
    "X_new = project_svd(q, s, 60)\n",
    "feature_names = dropped_df.columns\n",
    "weights_df = pd.DataFrame(p, index=feature_names)\n",
    "weights_df.columns = ['SV'+str(c+1) for c in weights_df.columns]\n",
    "weights_df = weights_df.iloc[:,:60]\n",
    "weights_df"
   ]
  },
  {
   "cell_type": "markdown",
   "metadata": {},
   "source": [
    "# 3b. SVD Plots"
   ]
  },
  {
   "cell_type": "code",
   "execution_count": 118,
   "metadata": {
    "ExecuteTime": {
     "end_time": "2021-09-05T16:14:24.762042Z",
     "start_time": "2021-09-05T16:14:24.743219Z"
    }
   },
   "outputs": [],
   "source": [
    "proj_theme = theme(strip_background = element_rect(fill=\"white\"), \\\n",
    "        legend_title = element_blank(), \\\n",
    "        legend_text = element_text(size = 9), \\\n",
    "        legend_position = (0.5, 0.93), \\\n",
    "        legend_direction = \"horizontal\", \\\n",
    "        legend_box_background = element_rect(fill = \"transparent\", color = \"transparent\"), \\\n",
    "        axis_text_x = element_text(size=9, color = \"#722502\"), \\\n",
    "        axis_text_y = element_text(size=9, color = \"#722502\", face=\"bold\"), \\\n",
    "        text = element_text(family = \"sans\", color = \"#722502\", size = 18), \\\n",
    "        axis_title_x = element_text(color='#DA4D2E', size=12, face=\"bold\", margin = {'t':15}), \\\n",
    "        axis_title_y = element_text(color='#DA4D2E', size=12, face=\"bold\", margin = {'r':15}), \\\n",
    "        plot_title = element_text(hjust = 0.5, size = 14, face=\"bold\", margin = {'b':33}), \\\n",
    "        panel_spacing = 0.5, \\\n",
    "        panel_background = element_rect(fill=\"#F7E2B1\", color =\"#722502\"), \\\n",
    "        plot_background = element_rect(fill=\"#F7E2B1\"),\n",
    "        panel_grid_major_x = element_line(colour=\"#F7E2B1\"), \\\n",
    "        panel_grid_major_y = element_line(colour=\"#cfa544\", linetype=\"dashed\"), \\\n",
    "        panel_grid_minor=element_blank(),\n",
    "        strip_text_x = element_text(size = 14, hjust = 0.5, color = \"#722502\", face=\"bold\"))\n",
    "\n",
    "proj_theme2 = theme(strip_background = element_rect(fill=\"white\"), \\\n",
    "        legend_title = element_blank(), \\\n",
    "        legend_text = element_text(size = 9), \\\n",
    "        legend_position = (0.5, 0.93), \\\n",
    "        legend_direction = \"horizontal\", \\\n",
    "        legend_box_background = element_rect(fill = \"transparent\", color = \"transparent\"), \\\n",
    "        axis_text_x = element_text(size=10, color = \"#722502\"), \\\n",
    "        axis_text_y = element_text(size=10, color = \"#722502\"), \\\n",
    "        text = element_text(family = \"sans\", color = \"#722502\", size = 18), \\\n",
    "        axis_title_x = element_text(color='#DA4D2E', size=12, face=\"bold\", margin = {'t':15}), \\\n",
    "        axis_title_y = element_text(color='#DA4D2E', size=12, face=\"bold\", margin = {'r':15}), \\\n",
    "        plot_title = element_text(hjust = 0.5, size = 14, face=\"bold\", margin = {'b':33}), \\\n",
    "        panel_spacing = 0.5, \\\n",
    "        panel_background = element_rect(fill=\"#F7E2B1\", color =\"#722502\"), \\\n",
    "        plot_background = element_rect(fill=\"#F7E2B1\"),\n",
    "        panel_grid_major_x = element_line(colour=\"#F7E2B1\"), \\\n",
    "        panel_grid_major_y = element_line(colour=\"#F7E2B1\", linetype=\"dashed\"), \\\n",
    "        panel_grid_minor=element_blank(),\n",
    "        axis_line = element_line(colour = \"#722502\"),\n",
    "        strip_text_x = element_text(size = 14, hjust = 0.5, color = \"#722502\", face=\"bold\"))\n",
    "\n",
    "proj_theme3 = theme(strip_background = element_rect(fill=\"white\"), \\\n",
    "        legend_title = element_blank(), \\\n",
    "        legend_text = element_text(size = 9), \\\n",
    "        legend_position = (0.5, 0.93), \\\n",
    "        legend_direction = \"horizontal\", \\\n",
    "        legend_box_background = element_rect(fill = \"transparent\", color = \"transparent\"), \\\n",
    "        axis_text_x = element_text(size=16, color = \"#722502\"), \\\n",
    "        axis_text_y = element_text(size=16, color = \"#722502\"), \\\n",
    "        text = element_text(family = \"sans\", color = \"#722502\", size = 22), \\\n",
    "        axis_title_x = element_text(color='#DA4D2E', size=12, face=\"bold\", margin = {'t':15}), \\\n",
    "        axis_title_y = element_text(color='#DA4D2E', size=12, face=\"bold\", margin = {'r':15}), \\\n",
    "        plot_title = element_text(hjust = 0.5, size = 14, face=\"bold\", margin = {'b':33}), \\\n",
    "        panel_spacing = 0.5, \\\n",
    "        panel_background = element_rect(fill=\"#F7E2B1\", color =\"#722502\"), \\\n",
    "        plot_background = element_rect(fill=\"#F7E2B1\"),\n",
    "        panel_grid_major_x = element_line(colour=\"#F7E2B1\"), \\\n",
    "        panel_grid_major_y = element_line(colour=\"#F7E2B1\", linetype=\"dashed\"), \\\n",
    "        panel_grid_minor=element_blank(),\n",
    "        axis_line = element_line(colour = \"#722502\"),\n",
    "        strip_text_x = element_text(size = 14, hjust = 0.5, color = \"#722502\", face=\"bold\"))\n",
    "\n",
    "\n",
    "def plot_svd_ulam(data, num_comp, num_ing, fill_fn, manual_fill_values):\n",
    "    pc = data.iloc[:,(num_comp-1)].reset_index()\n",
    "    pc.columns = ['ing', 'loading']\n",
    "    pc['abs_loading'] = np.abs(pc['loading'])\n",
    "    pc = pc.sort_values('abs_loading', ascending=False).head(num_ing)\n",
    "    pc['ing'] = pc['ing'].str.replace('_', ' ').str.title()\n",
    "    pc['ing']=pd.Categorical(pc['ing'], categories=pc['ing'], ordered=True)\n",
    "    pc['ing_color'] = fill_fn(pc['loading'])\n",
    "    \n",
    "    p = (ggplot(pc, aes(x='ing', y='loading')) +\n",
    "        geom_bar(aes(fill='ing_color'), stat='identity', show_legend=False) +\n",
    "        scale_fill_manual(values=manual_fill_values) +\n",
    "        coord_flip() +\n",
    "        xlab('') +  ylab('') +\n",
    "        proj_theme\n",
    "        );\n",
    "    \n",
    "    return p"
   ]
  },
  {
   "cell_type": "code",
   "execution_count": 9,
   "metadata": {},
   "outputs": [
    {
     "data": {
      "image/png": "[encoded data removed]",
      "text/plain": [
       "<Figure size 640x480 with 1 Axes>"
      ]
     },
     "metadata": {},
     "output_type": "display_data"
    },
    {
     "data": {
      "text/plain": [
       "<ggplot: (-9223371908886952879)>"
      ]
     },
     "execution_count": 9,
     "metadata": {},
     "output_type": "execute_result"
    }
   ],
   "source": [
    "def custom_color(x):\n",
    "    if x < 0:\n",
    "        return '#DA4D2E'\n",
    "\n",
    "plot_svd_ulam(data=weights_df,\n",
    "              num_comp=1,\n",
    "              num_ing=8,\n",
    "              fill_fn=np.vectorize(custom_color),\n",
    "              manual_fill_values=['#DA4D2E'])"
   ]
  },
  {
   "cell_type": "code",
   "execution_count": 10,
   "metadata": {
    "ExecuteTime": {
     "end_time": "2021-09-05T16:14:25.395638Z",
     "start_time": "2021-09-05T16:14:25.154578Z"
    },
    "scrolled": false
   },
   "outputs": [
    {
     "data": {
      "image/png": "[encoded data removed]",
      "text/plain": [
       "<Figure size 640x480 with 1 Axes>"
      ]
     },
     "metadata": {},
     "output_type": "display_data"
    },
    {
     "data": {
      "text/plain": [
       "<ggplot: (127968974116)>"
      ]
     },
     "execution_count": 10,
     "metadata": {},
     "output_type": "execute_result"
    }
   ],
   "source": [
    "def custom_color(x):\n",
    "    if x < 0:\n",
    "        return '#722502'\n",
    "    if x > 0:\n",
    "        return '#DA4D2E'\n",
    "\n",
    "plot_svd_ulam(data=weights_df,\n",
    "              num_comp=2,\n",
    "              num_ing=8,\n",
    "              fill_fn=np.vectorize(custom_color),\n",
    "              manual_fill_values=['#722502', '#DA4D2E'])"
   ]
  },
  {
   "cell_type": "code",
   "execution_count": 11,
   "metadata": {
    "ExecuteTime": {
     "end_time": "2021-09-05T16:14:25.649407Z",
     "start_time": "2021-09-05T16:14:25.395638Z"
    }
   },
   "outputs": [
    {
     "data": {
      "image/png": "[encoded data removed]",
      "text/plain": [
       "<Figure size 640x480 with 1 Axes>"
      ]
     },
     "metadata": {},
     "output_type": "display_data"
    },
    {
     "data": {
      "text/plain": [
       "<ggplot: (-9223371908884744125)>"
      ]
     },
     "execution_count": 11,
     "metadata": {},
     "output_type": "execute_result"
    }
   ],
   "source": [
    "import re\n",
    "def custom_color(x):\n",
    "    if x < 0:\n",
    "        return '#8D9F38'\n",
    "    if x > 0:\n",
    "        return '#DA4D2E'\n",
    "    \n",
    "plot_svd_ulam(data=weights_df,\n",
    "              num_comp=3,\n",
    "              num_ing=8,\n",
    "              fill_fn=np.vectorize(custom_color),\n",
    "              manual_fill_values=['#8D9F38', '#DA4D2E'])"
   ]
  },
  {
   "cell_type": "code",
   "execution_count": 12,
   "metadata": {},
   "outputs": [
    {
     "data": {
      "image/png": "[encoded data removed]",
      "text/plain": [
       "<Figure size 640x480 with 1 Axes>"
      ]
     },
     "metadata": {},
     "output_type": "display_data"
    },
    {
     "data": {
      "text/plain": [
       "<ggplot: (-9223371908884784405)>"
      ]
     },
     "execution_count": 12,
     "metadata": {},
     "output_type": "execute_result"
    }
   ],
   "source": [
    "def custom_color(x):\n",
    "    if x < 0:\n",
    "        return '#8D9F38'\n",
    "    if x > 0:\n",
    "        return '#DA4D2E'\n",
    "    \n",
    "plot_svd_ulam(data=weights_df,\n",
    "              num_comp=4,\n",
    "              num_ing=8,\n",
    "              fill_fn=np.vectorize(custom_color),\n",
    "              manual_fill_values=['#8D9F38', '#DA4D2E'])"
   ]
  },
  {
   "cell_type": "code",
   "execution_count": 13,
   "metadata": {
    "ExecuteTime": {
     "end_time": "2021-09-05T16:14:25.915260Z",
     "start_time": "2021-09-05T16:14:25.649407Z"
    },
    "scrolled": false
   },
   "outputs": [
    {
     "data": {
      "image/png": "[encoded data removed]",
      "text/plain": [
       "<Figure size 640x480 with 1 Axes>"
      ]
     },
     "metadata": {},
     "output_type": "display_data"
    },
    {
     "data": {
      "text/plain": [
       "<ggplot: (-9223371908884746110)>"
      ]
     },
     "execution_count": 13,
     "metadata": {},
     "output_type": "execute_result"
    }
   ],
   "source": [
    "def custom_color(x):\n",
    "    if x < 0:\n",
    "        return '#5E6A25'\n",
    "    if x > 0:\n",
    "        return '#8D9F38'\n",
    "func = np.vectorize(custom_color)\n",
    "\n",
    "plot_svd_ulam(data=weights_df,\n",
    "              num_comp=5,\n",
    "              num_ing=8,\n",
    "              fill_fn=np.vectorize(custom_color),\n",
    "              manual_fill_values=['#F4903E', '#8D9F38'])"
   ]
  },
  {
   "cell_type": "markdown",
   "metadata": {},
   "source": [
    "# 4a. Hierarchical Clustering (Wards)"
   ]
  },
  {
   "cell_type": "code",
   "execution_count": 330,
   "metadata": {
    "ExecuteTime": {
     "end_time": "2021-09-05T16:16:16.807622Z",
     "start_time": "2021-09-05T16:16:14.897531Z"
    }
   },
   "outputs": [],
   "source": [
    "from scipy.cluster import hierarchy\n",
    "\n",
    "def final_clustering(transformed_arr,\n",
    "                     orig_df,\n",
    "                     method,\n",
    "                     threshold,\n",
    "                     plot_threshold,\n",
    "                     break_biggest_cluster = False,\n",
    "                     link_colors=['#5594BA',\n",
    "                                  '#EFC564',\n",
    "                                  '#DA4D2E',\n",
    "                                  '#722502',\n",
    "                                  '#EFC564',\n",
    "                                  '#B3C55A']):\n",
    "    \n",
    "    Z = hierarchy.linkage(transformed_arr, method=method, optimal_ordering=True)\n",
    "    hierarchy.set_link_color_palette(link_colors)\n",
    "    y_pred = fcluster(Z, t=threshold, criterion='distance')\n",
    "    \n",
    "    if break_biggest_cluster:\n",
    "        X_cluster = orig_df.copy()\n",
    "        X_cluster['cluster'] = y_pred\n",
    "        \n",
    "        get_big_cluster = X_cluster.groupby(['cluster']).size().idxmax()\n",
    "        X_1 = X_cluster[X_cluster.cluster == get_big_cluster].drop(columns='cluster')\n",
    "        Z_1 = linkage(X_1, method='ward', optimal_ordering=True)\n",
    "        Z = Z_1\n",
    "        \n",
    "    fig, ax = plt.subplots(figsize=(10,6), dpi=150)\n",
    "\n",
    "    fig.patch.set_facecolor('#F7E2B1')\n",
    "    fig.patch.set_alpha(0.6)\n",
    "    ax.patch.set_facecolor('#F7E2B1')\n",
    "    ax.patch.set_alpha(0.0)\n",
    "\n",
    "    ax.spines['bottom'].set_color('#722502')\n",
    "    ax.spines['top'].set_color('#722502') \n",
    "    ax.spines['right'].set_color('#722502')\n",
    "    ax.spines['left'].set_color('#722502')\n",
    "    ax.tick_params(axis='x', colors='#722502')\n",
    "    ax.tick_params(axis='y', colors='#722502')\n",
    "    ax.set_ylabel(r'$\\Delta$')\n",
    "\n",
    "    dn = dendrogram(Z, ax=ax, p=plot_threshold, truncate_mode='level')\n",
    "    fig.show()\n",
    "    \n",
    "    return Z"
   ]
  },
  {
   "cell_type": "code",
   "execution_count": 331,
   "metadata": {},
   "outputs": [
    {
     "data": {
      "image/png": "[encoded data removed]",
      "text/plain": [
       "<Figure size 1500x900 with 1 Axes>"
      ]
     },
     "metadata": {},
     "output_type": "display_data"
    }
   ],
   "source": [
    "orig_df = pd.DataFrame(X, index=df_ing.dish_name, columns=dropped_df.columns)\n",
    "Z = final_clustering(X_new, orig_df, 'ward', 4.5, 5, False,\n",
    "                 link_colors=['#1F77B4',\n",
    "                              '#EFC564',\n",
    "                              '#DA4D2E',\n",
    "                              '#722502',\n",
    "                              '#F4903E',\n",
    "                              '#B3C55A'])\n",
    "y_pred = fcluster(Z, t=4.5, criterion='distance')\n",
    "X_cluster = orig_df.assign(cluster=y_pred)"
   ]
  },
  {
   "cell_type": "code",
   "execution_count": 332,
   "metadata": {
    "scrolled": false
   },
   "outputs": [
    {
     "data": {
      "image/png": "[encoded data removed]",
      "text/plain": [
       "<Figure size 1500x900 with 1 Axes>"
      ]
     },
     "metadata": {},
     "output_type": "display_data"
    }
   ],
   "source": [
    "Z_1 = final_clustering(X_new, orig_df, 'ward', 4.5, 6, break_biggest_cluster=True,\n",
    "                 link_colors=['#FA6961',\n",
    "                              '#FA6961',\n",
    "                              '#EFC564',\n",
    "                              '#CC9500',\n",
    "                              '#CC9500',\n",
    "                              '#1F77B4',\n",
    "                              '#1F77B4'])\n",
    "y_pred_1 = fcluster(Z_1, t=3.7, criterion='distance')\n",
    "get_big_cluster = X_cluster.groupby(['cluster']).size().idxmax()\n",
    "X_cluster_1 = X_cluster[X_cluster.cluster == get_big_cluster].drop(columns='cluster')\n",
    "X_cluster_1['cluster'] = y_pred_1 + 6"
   ]
  },
  {
   "cell_type": "code",
   "execution_count": 333,
   "metadata": {},
   "outputs": [
    {
     "data": {
      "text/html": [
       "<div>\n",
       "<style scoped>\n",
       "    .dataframe tbody tr th:only-of-type {\n",
       "        vertical-align: middle;\n",
       "    }\n",
       "\n",
       "    .dataframe tbody tr th {\n",
       "        vertical-align: top;\n",
       "    }\n",
       "\n",
       "    .dataframe thead th {\n",
       "        text-align: right;\n",
       "    }\n",
       "</style>\n",
       "<table border=\"1\" class=\"dataframe\">\n",
       "  <thead>\n",
       "    <tr style=\"text-align: right;\">\n",
       "      <th></th>\n",
       "      <th>yeast</th>\n",
       "      <th>wrapper</th>\n",
       "      <th>worcestershire_sauce</th>\n",
       "      <th>winged_bean</th>\n",
       "      <th>vinegar</th>\n",
       "      <th>tomato</th>\n",
       "      <th>tofu</th>\n",
       "      <th>toasted_rice_powder</th>\n",
       "      <th>taro</th>\n",
       "      <th>sweet_potato</th>\n",
       "      <th>...</th>\n",
       "      <th>pineapple</th>\n",
       "      <th>water</th>\n",
       "      <th>salt</th>\n",
       "      <th>rice</th>\n",
       "      <th>pork</th>\n",
       "      <th>corn</th>\n",
       "      <th>chicken</th>\n",
       "      <th>beef</th>\n",
       "      <th>banana</th>\n",
       "      <th>cluster</th>\n",
       "    </tr>\n",
       "    <tr>\n",
       "      <th>dish_name</th>\n",
       "      <th></th>\n",
       "      <th></th>\n",
       "      <th></th>\n",
       "      <th></th>\n",
       "      <th></th>\n",
       "      <th></th>\n",
       "      <th></th>\n",
       "      <th></th>\n",
       "      <th></th>\n",
       "      <th></th>\n",
       "      <th></th>\n",
       "      <th></th>\n",
       "      <th></th>\n",
       "      <th></th>\n",
       "      <th></th>\n",
       "      <th></th>\n",
       "      <th></th>\n",
       "      <th></th>\n",
       "      <th></th>\n",
       "      <th></th>\n",
       "      <th></th>\n",
       "    </tr>\n",
       "  </thead>\n",
       "  <tbody>\n",
       "    <tr>\n",
       "      <th>Chicken Barbecue</th>\n",
       "      <td>0.0</td>\n",
       "      <td>0.0</td>\n",
       "      <td>0.0</td>\n",
       "      <td>0.0</td>\n",
       "      <td>0.0</td>\n",
       "      <td>0.000000</td>\n",
       "      <td>0.0</td>\n",
       "      <td>0.0</td>\n",
       "      <td>0.0</td>\n",
       "      <td>0.0</td>\n",
       "      <td>...</td>\n",
       "      <td>0.0</td>\n",
       "      <td>0.000000</td>\n",
       "      <td>0.333333</td>\n",
       "      <td>0.0</td>\n",
       "      <td>0.0</td>\n",
       "      <td>0.0000</td>\n",
       "      <td>0.003527</td>\n",
       "      <td>0.000000</td>\n",
       "      <td>0.0</td>\n",
       "      <td>9</td>\n",
       "    </tr>\n",
       "    <tr>\n",
       "      <th>Spicy Sotanghon Chicken Soup</th>\n",
       "      <td>0.0</td>\n",
       "      <td>0.0</td>\n",
       "      <td>0.0</td>\n",
       "      <td>0.0</td>\n",
       "      <td>0.0</td>\n",
       "      <td>0.000000</td>\n",
       "      <td>0.0</td>\n",
       "      <td>0.0</td>\n",
       "      <td>0.0</td>\n",
       "      <td>0.0</td>\n",
       "      <td>...</td>\n",
       "      <td>0.0</td>\n",
       "      <td>0.125000</td>\n",
       "      <td>0.000000</td>\n",
       "      <td>0.0</td>\n",
       "      <td>0.0</td>\n",
       "      <td>0.0000</td>\n",
       "      <td>0.600000</td>\n",
       "      <td>0.000000</td>\n",
       "      <td>0.0</td>\n",
       "      <td>10</td>\n",
       "    </tr>\n",
       "    <tr>\n",
       "      <th>Chicken Sotanghon Soup with Malunggay and Sayote</th>\n",
       "      <td>0.0</td>\n",
       "      <td>0.0</td>\n",
       "      <td>0.0</td>\n",
       "      <td>0.0</td>\n",
       "      <td>0.0</td>\n",
       "      <td>0.000000</td>\n",
       "      <td>0.0</td>\n",
       "      <td>0.0</td>\n",
       "      <td>0.0</td>\n",
       "      <td>0.0</td>\n",
       "      <td>...</td>\n",
       "      <td>0.0</td>\n",
       "      <td>0.250000</td>\n",
       "      <td>0.000000</td>\n",
       "      <td>0.0</td>\n",
       "      <td>0.0</td>\n",
       "      <td>0.0000</td>\n",
       "      <td>0.400000</td>\n",
       "      <td>0.000000</td>\n",
       "      <td>0.0</td>\n",
       "      <td>10</td>\n",
       "    </tr>\n",
       "    <tr>\n",
       "      <th>Chicken Lollipop Recipe</th>\n",
       "      <td>0.0</td>\n",
       "      <td>0.0</td>\n",
       "      <td>0.0</td>\n",
       "      <td>0.0</td>\n",
       "      <td>0.0</td>\n",
       "      <td>0.000000</td>\n",
       "      <td>0.0</td>\n",
       "      <td>0.0</td>\n",
       "      <td>0.0</td>\n",
       "      <td>0.0</td>\n",
       "      <td>...</td>\n",
       "      <td>0.0</td>\n",
       "      <td>0.000000</td>\n",
       "      <td>0.500000</td>\n",
       "      <td>0.0</td>\n",
       "      <td>0.0</td>\n",
       "      <td>0.0000</td>\n",
       "      <td>0.008818</td>\n",
       "      <td>0.000000</td>\n",
       "      <td>0.0</td>\n",
       "      <td>10</td>\n",
       "    </tr>\n",
       "    <tr>\n",
       "      <th>Chicken Mami Recipe</th>\n",
       "      <td>0.0</td>\n",
       "      <td>0.0</td>\n",
       "      <td>0.0</td>\n",
       "      <td>0.0</td>\n",
       "      <td>0.0</td>\n",
       "      <td>0.000000</td>\n",
       "      <td>0.0</td>\n",
       "      <td>0.0</td>\n",
       "      <td>0.0</td>\n",
       "      <td>0.0</td>\n",
       "      <td>...</td>\n",
       "      <td>0.0</td>\n",
       "      <td>0.250000</td>\n",
       "      <td>0.000000</td>\n",
       "      <td>0.0</td>\n",
       "      <td>0.0</td>\n",
       "      <td>0.0000</td>\n",
       "      <td>0.001323</td>\n",
       "      <td>0.000000</td>\n",
       "      <td>0.0</td>\n",
       "      <td>10</td>\n",
       "    </tr>\n",
       "    <tr>\n",
       "      <th>...</th>\n",
       "      <td>...</td>\n",
       "      <td>...</td>\n",
       "      <td>...</td>\n",
       "      <td>...</td>\n",
       "      <td>...</td>\n",
       "      <td>...</td>\n",
       "      <td>...</td>\n",
       "      <td>...</td>\n",
       "      <td>...</td>\n",
       "      <td>...</td>\n",
       "      <td>...</td>\n",
       "      <td>...</td>\n",
       "      <td>...</td>\n",
       "      <td>...</td>\n",
       "      <td>...</td>\n",
       "      <td>...</td>\n",
       "      <td>...</td>\n",
       "      <td>...</td>\n",
       "      <td>...</td>\n",
       "      <td>...</td>\n",
       "      <td>...</td>\n",
       "    </tr>\n",
       "    <tr>\n",
       "      <th>Papaitan Recipe</th>\n",
       "      <td>0.0</td>\n",
       "      <td>0.0</td>\n",
       "      <td>0.0</td>\n",
       "      <td>0.0</td>\n",
       "      <td>0.0</td>\n",
       "      <td>0.000000</td>\n",
       "      <td>0.0</td>\n",
       "      <td>0.0</td>\n",
       "      <td>0.0</td>\n",
       "      <td>0.0</td>\n",
       "      <td>...</td>\n",
       "      <td>0.0</td>\n",
       "      <td>0.250000</td>\n",
       "      <td>0.026042</td>\n",
       "      <td>0.0</td>\n",
       "      <td>0.0</td>\n",
       "      <td>0.0000</td>\n",
       "      <td>0.000000</td>\n",
       "      <td>0.071429</td>\n",
       "      <td>0.0</td>\n",
       "      <td>10</td>\n",
       "    </tr>\n",
       "    <tr>\n",
       "      <th>Morcon Recipe</th>\n",
       "      <td>0.0</td>\n",
       "      <td>0.0</td>\n",
       "      <td>0.0</td>\n",
       "      <td>0.0</td>\n",
       "      <td>0.0</td>\n",
       "      <td>0.000000</td>\n",
       "      <td>0.0</td>\n",
       "      <td>0.0</td>\n",
       "      <td>0.0</td>\n",
       "      <td>0.0</td>\n",
       "      <td>...</td>\n",
       "      <td>0.0</td>\n",
       "      <td>0.000000</td>\n",
       "      <td>0.000868</td>\n",
       "      <td>0.0</td>\n",
       "      <td>0.0</td>\n",
       "      <td>0.0000</td>\n",
       "      <td>0.000000</td>\n",
       "      <td>0.285714</td>\n",
       "      <td>0.0</td>\n",
       "      <td>7</td>\n",
       "    </tr>\n",
       "    <tr>\n",
       "      <th>Beef Mechado Recipe</th>\n",
       "      <td>0.0</td>\n",
       "      <td>0.0</td>\n",
       "      <td>0.0</td>\n",
       "      <td>0.0</td>\n",
       "      <td>0.0</td>\n",
       "      <td>0.166667</td>\n",
       "      <td>0.0</td>\n",
       "      <td>0.0</td>\n",
       "      <td>0.0</td>\n",
       "      <td>0.0</td>\n",
       "      <td>...</td>\n",
       "      <td>0.0</td>\n",
       "      <td>0.031250</td>\n",
       "      <td>0.166667</td>\n",
       "      <td>0.0</td>\n",
       "      <td>0.0</td>\n",
       "      <td>0.0000</td>\n",
       "      <td>0.000000</td>\n",
       "      <td>0.285714</td>\n",
       "      <td>0.0</td>\n",
       "      <td>10</td>\n",
       "    </tr>\n",
       "    <tr>\n",
       "      <th>Bulalo Recipe</th>\n",
       "      <td>0.0</td>\n",
       "      <td>0.0</td>\n",
       "      <td>0.0</td>\n",
       "      <td>0.0</td>\n",
       "      <td>0.0</td>\n",
       "      <td>0.000000</td>\n",
       "      <td>0.0</td>\n",
       "      <td>0.0</td>\n",
       "      <td>0.0</td>\n",
       "      <td>0.0</td>\n",
       "      <td>...</td>\n",
       "      <td>0.0</td>\n",
       "      <td>0.132812</td>\n",
       "      <td>0.000000</td>\n",
       "      <td>0.0</td>\n",
       "      <td>0.0</td>\n",
       "      <td>0.5625</td>\n",
       "      <td>0.000000</td>\n",
       "      <td>0.285714</td>\n",
       "      <td>0.0</td>\n",
       "      <td>10</td>\n",
       "    </tr>\n",
       "    <tr>\n",
       "      <th>Lengua Estofada Recipe</th>\n",
       "      <td>0.0</td>\n",
       "      <td>0.0</td>\n",
       "      <td>0.0</td>\n",
       "      <td>0.0</td>\n",
       "      <td>0.0</td>\n",
       "      <td>0.166667</td>\n",
       "      <td>0.0</td>\n",
       "      <td>0.0</td>\n",
       "      <td>0.0</td>\n",
       "      <td>0.0</td>\n",
       "      <td>...</td>\n",
       "      <td>0.0</td>\n",
       "      <td>0.093750</td>\n",
       "      <td>0.000000</td>\n",
       "      <td>0.0</td>\n",
       "      <td>0.0</td>\n",
       "      <td>0.0000</td>\n",
       "      <td>0.000000</td>\n",
       "      <td>0.000000</td>\n",
       "      <td>0.0</td>\n",
       "      <td>10</td>\n",
       "    </tr>\n",
       "  </tbody>\n",
       "</table>\n",
       "<p>163 rows × 131 columns</p>\n",
       "</div>"
      ],
      "text/plain": [
       "                                                  yeast  wrapper  \\\n",
       "dish_name                                                          \n",
       "Chicken Barbecue                                    0.0      0.0   \n",
       "Spicy Sotanghon Chicken Soup                        0.0      0.0   \n",
       "Chicken Sotanghon Soup with Malunggay and Sayote    0.0      0.0   \n",
       "Chicken Lollipop Recipe                             0.0      0.0   \n",
       "Chicken Mami Recipe                                 0.0      0.0   \n",
       "...                                                 ...      ...   \n",
       "Papaitan Recipe                                     0.0      0.0   \n",
       "Morcon Recipe                                       0.0      0.0   \n",
       "Beef Mechado Recipe                                 0.0      0.0   \n",
       "Bulalo Recipe                                       0.0      0.0   \n",
       "Lengua Estofada Recipe                              0.0      0.0   \n",
       "\n",
       "                                                  worcestershire_sauce  \\\n",
       "dish_name                                                                \n",
       "Chicken Barbecue                                                   0.0   \n",
       "Spicy Sotanghon Chicken Soup                                       0.0   \n",
       "Chicken Sotanghon Soup with Malunggay and Sayote                   0.0   \n",
       "Chicken Lollipop Recipe                                            0.0   \n",
       "Chicken Mami Recipe                                                0.0   \n",
       "...                                                                ...   \n",
       "Papaitan Recipe                                                    0.0   \n",
       "Morcon Recipe                                                      0.0   \n",
       "Beef Mechado Recipe                                                0.0   \n",
       "Bulalo Recipe                                                      0.0   \n",
       "Lengua Estofada Recipe                                             0.0   \n",
       "\n",
       "                                                  winged_bean  vinegar  \\\n",
       "dish_name                                                                \n",
       "Chicken Barbecue                                          0.0      0.0   \n",
       "Spicy Sotanghon Chicken Soup                              0.0      0.0   \n",
       "Chicken Sotanghon Soup with Malunggay and Sayote          0.0      0.0   \n",
       "Chicken Lollipop Recipe                                   0.0      0.0   \n",
       "Chicken Mami Recipe                                       0.0      0.0   \n",
       "...                                                       ...      ...   \n",
       "Papaitan Recipe                                           0.0      0.0   \n",
       "Morcon Recipe                                             0.0      0.0   \n",
       "Beef Mechado Recipe                                       0.0      0.0   \n",
       "Bulalo Recipe                                             0.0      0.0   \n",
       "Lengua Estofada Recipe                                    0.0      0.0   \n",
       "\n",
       "                                                    tomato  tofu  \\\n",
       "dish_name                                                          \n",
       "Chicken Barbecue                                  0.000000   0.0   \n",
       "Spicy Sotanghon Chicken Soup                      0.000000   0.0   \n",
       "Chicken Sotanghon Soup with Malunggay and Sayote  0.000000   0.0   \n",
       "Chicken Lollipop Recipe                           0.000000   0.0   \n",
       "Chicken Mami Recipe                               0.000000   0.0   \n",
       "...                                                    ...   ...   \n",
       "Papaitan Recipe                                   0.000000   0.0   \n",
       "Morcon Recipe                                     0.000000   0.0   \n",
       "Beef Mechado Recipe                               0.166667   0.0   \n",
       "Bulalo Recipe                                     0.000000   0.0   \n",
       "Lengua Estofada Recipe                            0.166667   0.0   \n",
       "\n",
       "                                                  toasted_rice_powder  taro  \\\n",
       "dish_name                                                                     \n",
       "Chicken Barbecue                                                  0.0   0.0   \n",
       "Spicy Sotanghon Chicken Soup                                      0.0   0.0   \n",
       "Chicken Sotanghon Soup with Malunggay and Sayote                  0.0   0.0   \n",
       "Chicken Lollipop Recipe                                           0.0   0.0   \n",
       "Chicken Mami Recipe                                               0.0   0.0   \n",
       "...                                                               ...   ...   \n",
       "Papaitan Recipe                                                   0.0   0.0   \n",
       "Morcon Recipe                                                     0.0   0.0   \n",
       "Beef Mechado Recipe                                               0.0   0.0   \n",
       "Bulalo Recipe                                                     0.0   0.0   \n",
       "Lengua Estofada Recipe                                            0.0   0.0   \n",
       "\n",
       "                                                  sweet_potato  ...  \\\n",
       "dish_name                                                       ...   \n",
       "Chicken Barbecue                                           0.0  ...   \n",
       "Spicy Sotanghon Chicken Soup                               0.0  ...   \n",
       "Chicken Sotanghon Soup with Malunggay and Sayote           0.0  ...   \n",
       "Chicken Lollipop Recipe                                    0.0  ...   \n",
       "Chicken Mami Recipe                                        0.0  ...   \n",
       "...                                                        ...  ...   \n",
       "Papaitan Recipe                                            0.0  ...   \n",
       "Morcon Recipe                                              0.0  ...   \n",
       "Beef Mechado Recipe                                        0.0  ...   \n",
       "Bulalo Recipe                                              0.0  ...   \n",
       "Lengua Estofada Recipe                                     0.0  ...   \n",
       "\n",
       "                                                  pineapple     water  \\\n",
       "dish_name                                                               \n",
       "Chicken Barbecue                                        0.0  0.000000   \n",
       "Spicy Sotanghon Chicken Soup                            0.0  0.125000   \n",
       "Chicken Sotanghon Soup with Malunggay and Sayote        0.0  0.250000   \n",
       "Chicken Lollipop Recipe                                 0.0  0.000000   \n",
       "Chicken Mami Recipe                                     0.0  0.250000   \n",
       "...                                                     ...       ...   \n",
       "Papaitan Recipe                                         0.0  0.250000   \n",
       "Morcon Recipe                                           0.0  0.000000   \n",
       "Beef Mechado Recipe                                     0.0  0.031250   \n",
       "Bulalo Recipe                                           0.0  0.132812   \n",
       "Lengua Estofada Recipe                                  0.0  0.093750   \n",
       "\n",
       "                                                      salt  rice  pork  \\\n",
       "dish_name                                                                \n",
       "Chicken Barbecue                                  0.333333   0.0   0.0   \n",
       "Spicy Sotanghon Chicken Soup                      0.000000   0.0   0.0   \n",
       "Chicken Sotanghon Soup with Malunggay and Sayote  0.000000   0.0   0.0   \n",
       "Chicken Lollipop Recipe                           0.500000   0.0   0.0   \n",
       "Chicken Mami Recipe                               0.000000   0.0   0.0   \n",
       "...                                                    ...   ...   ...   \n",
       "Papaitan Recipe                                   0.026042   0.0   0.0   \n",
       "Morcon Recipe                                     0.000868   0.0   0.0   \n",
       "Beef Mechado Recipe                               0.166667   0.0   0.0   \n",
       "Bulalo Recipe                                     0.000000   0.0   0.0   \n",
       "Lengua Estofada Recipe                            0.000000   0.0   0.0   \n",
       "\n",
       "                                                    corn   chicken      beef  \\\n",
       "dish_name                                                                      \n",
       "Chicken Barbecue                                  0.0000  0.003527  0.000000   \n",
       "Spicy Sotanghon Chicken Soup                      0.0000  0.600000  0.000000   \n",
       "Chicken Sotanghon Soup with Malunggay and Sayote  0.0000  0.400000  0.000000   \n",
       "Chicken Lollipop Recipe                           0.0000  0.008818  0.000000   \n",
       "Chicken Mami Recipe                               0.0000  0.001323  0.000000   \n",
       "...                                                  ...       ...       ...   \n",
       "Papaitan Recipe                                   0.0000  0.000000  0.071429   \n",
       "Morcon Recipe                                     0.0000  0.000000  0.285714   \n",
       "Beef Mechado Recipe                               0.0000  0.000000  0.285714   \n",
       "Bulalo Recipe                                     0.5625  0.000000  0.285714   \n",
       "Lengua Estofada Recipe                            0.0000  0.000000  0.000000   \n",
       "\n",
       "                                                  banana  cluster  \n",
       "dish_name                                                          \n",
       "Chicken Barbecue                                     0.0        9  \n",
       "Spicy Sotanghon Chicken Soup                         0.0       10  \n",
       "Chicken Sotanghon Soup with Malunggay and Sayote     0.0       10  \n",
       "Chicken Lollipop Recipe                              0.0       10  \n",
       "Chicken Mami Recipe                                  0.0       10  \n",
       "...                                                  ...      ...  \n",
       "Papaitan Recipe                                      0.0       10  \n",
       "Morcon Recipe                                        0.0        7  \n",
       "Beef Mechado Recipe                                  0.0       10  \n",
       "Bulalo Recipe                                        0.0       10  \n",
       "Lengua Estofada Recipe                               0.0       10  \n",
       "\n",
       "[163 rows x 131 columns]"
      ]
     },
     "execution_count": 333,
     "metadata": {},
     "output_type": "execute_result"
    }
   ],
   "source": [
    "X_cluster.loc[X_cluster_1.index] = X_cluster_1\n",
    "renumber_cluster = dict(zip(sorted(X_cluster['cluster'].unique()), range(9)))\n",
    "X_cluster['cluster_no'] = X_cluster['cluster'].map(renumber_cluster).astype(str)\n",
    "X_new_df = pd.DataFrame(X_new)\n",
    "X_new_df.columns = [f'SV{i+1}' for i in X_new_df.columns]\n",
    "X_new_df['cluster_no'] = list(X_cluster['cluster_no'])\n",
    "X_cluster_1"
   ]
  },
  {
   "cell_type": "code",
   "execution_count": 334,
   "metadata": {
    "scrolled": false
   },
   "outputs": [
    {
     "name": "stdout",
     "output_type": "stream",
     "text": [
      "Cluster 0\n",
      "['Sinarsahang Manok' 'Pinoy Chicken Curry Recipe' 'Chicken Igado'\n",
      " 'Pineapple Chicken Afritada'\n",
      " 'Pininyahang Manok sa Gata (Pineapple Chicken in Coconut Milk)'\n",
      " 'Chicken Caldereta' 'Sarciadong Manok' 'Healthy Chicken Menudo'\n",
      " 'Chicken Curry'\n",
      " 'Special Chicken Embutido Recipe (Filipino Chicken Meatloaf)'\n",
      " 'Chicken Afritada with Bell Pepper' 'Pork Caldereta Recipe'\n",
      " 'Pork Menudo sa Gata' 'Spareribs Kaldereta'\n",
      " 'Pinoy Pork and Chicken Curry' 'Pork Kaldereta sa Gata'\n",
      " 'Spicy Pork Kaldereta' 'Calderetang Baboy Recipe'\n",
      " 'Special Pork Kaldereta' 'Afritadang Baboy Recipe'\n",
      " 'Pork Menudo with Ham Recipe' 'Pork Mechado Recipe'\n",
      " 'KBL (Kadyos, Baboy, at Langka) Recipe'\n",
      " 'Beef Kaldereta sa Gata with Peanut Butter' 'Beef Kaldereta Recipe'\n",
      " 'Mechadong Baka Recipe' 'How To Cook Beef Kaldereta']\n",
      "--------\n",
      "Cluster 1\n",
      "['Chicken Binagoongan Recipe'\n",
      " 'Pininyahang Manok Recipe (Pineapple Chicken)'\n",
      " 'Chicken Feet in Oyster Sauce with Salted Black Beans'\n",
      " 'Maxs Style Fried Chicken with Kamote Fries'\n",
      " 'Quick and Easy Fried Chicken' 'Pinoy Fried Chicken Recipe'\n",
      " 'Ginataang Manok with Papaya' 'Chicken Lumpia' 'Chicken Sotanghon Soup'\n",
      " 'Creamy Chicken Sopas' 'How to Cook Chicken Pastel'\n",
      " 'Ginataang Manok with Kalabasa Recipe' 'Chicken Tinola Recipe'\n",
      " 'Chicken Hamonado' 'Cheesy Chicken Afritada Recipe'\n",
      " 'Chicken Inasal BBQ Recipe' 'Bacon and Egg Filipino Chicken Adobo'\n",
      " 'Tinolang Manok sa Upo' 'How To Cook Filipino Chicken Arroz Caldo'\n",
      " 'Chicken Nilaga with Kalabasa Recipe' 'Chicken Adobo with Bacon and Egg'\n",
      " 'Ginataang Manok Na May Luyang Dilaw' 'Chicken Arroz Caldo Recipe'\n",
      " 'Pesang Baboy at Manok Recipe' 'Chicken Soup with Misua and Patola'\n",
      " 'Tinola Chicken Mami' 'Tinolang Manok sa Gata Recipe'\n",
      " 'Binakol na Manok Recipe' 'Tinolang Manok Recipe'\n",
      " 'Chicken Pastel in a Cup' 'Lechon Manok Recipe'\n",
      " 'Basic Chicken Afritada Recipe' 'Filipino Chicken Macaroni Sopas'\n",
      " 'Arroz Caldo with Tokwa (Chicken Congee with Fried Tofu)'\n",
      " 'Spicy Chicken Feet' 'Bicol Express Gising-gising Recipe'\n",
      " 'Bicol Express Recipe' 'How to Cook Bicol Express'\n",
      " 'Pata at Hipon sa Gata na May Monggo at Langka'\n",
      " 'Bicol Express ala Bebet – Bisita Kusina Episode 1'\n",
      " 'Pork Bola Bola Soup with Misua and Patola'\n",
      " 'Spicy Ginataang Baboy with Papaya and Malunggay'\n",
      " 'Pork Chop Bicol Express Recipe' 'Saucy Beef with Broccoli'\n",
      " 'Beef Tinola Recipe']\n",
      "--------\n",
      "Cluster 2\n",
      "['Ketchup Fried Chicken' 'Chicken Paksiw Recipe' 'Killer Chicken Adobo'\n",
      " 'Adobong Manok sa Gata' 'Chicken Adobong Puti'\n",
      " 'Easy Chicken Adobo Recipe' 'Pork and Chicken Adobo Recipe'\n",
      " 'Filipino Chicken Adobo Recipe' 'Chicken Adobo sa Gata'\n",
      " 'Sous Vide Chicken Adobo' 'Easy Lechon Paksiw' 'Sprite Pork Adobo Recipe'\n",
      " 'Crispy Dinakdakan Recipe' 'Lechon Kawali Recipe' 'Crispy Pata Recipe'\n",
      " 'Crispy Pork Belly Chicharon'\n",
      " 'Adobong Baboy sa Gata (Pork Adobo in Coconut Milk)'\n",
      " 'Lechon Belly Pork Adobo Recipe' 'Crispy Pata' 'Lechon Kawali'\n",
      " 'Paksiw na Lechon Kawali' 'How to Cook Pork Bagnet'\n",
      " 'Extremely Spicy Pork Adobo na Tuyo'\n",
      " 'How To Cook Super Crispy Lechon Kawali' 'Pata Paksiw Recipe'\n",
      " 'Basic Pork Adobo Recipe' 'Crispy Tenga Recipe (Crispy Pig Ears)'\n",
      " 'Crispy Bagbagis (Crispy Deep Fried Pork Intestine)'\n",
      " 'Lechon Carajay Recipe' 'Lechon Paksiw Recipe' 'Beef Asado Recipe']\n",
      "--------\n",
      "Cluster 3\n",
      "['How to Cook Chicken Kare-Kare sa Gata' 'Chicken Kare Kare Recipe'\n",
      " 'Crispy Kare-kare Recipe' 'How To Make Pata Kare-Kare'\n",
      " 'Pork Kare Kare Recipe' 'Bulalo Kare-kare' 'Oxtail Kare-Kare Recipe'\n",
      " 'Beef Short Rib Kare Kare']\n",
      "--------\n",
      "Cluster 4\n",
      "['Sinigang na Lechon' 'Sinigang na Pata with Gabi' 'Sinigang'\n",
      " 'Pork Chop Sinigang' 'Sinigang na Buntot ng Baboy with Gabi'\n",
      " 'Beef Ribs Sinigang' 'Corned Beef Sinigang'\n",
      " 'Beef Short Rib Sinigang Na May Pakwan']\n",
      "--------\n",
      "Cluster 5\n",
      "['Pinoy Style Chicken Macaroni Salad'\n",
      " 'Christmas Chicken and Ham Macaroni Salad' 'Pork Menudo Recipe'\n",
      " 'Meaty Spaghetti' 'How to Cook Embutido'\n",
      " 'Filipino Style Spaghetti Recipe' 'Filipino Pork Menudo Recipe'\n",
      " 'Pork Embutido (Steamed Filipino Meatloaf)' 'Fiesta Menudo'\n",
      " 'Morcon Recipe']\n",
      "--------\n",
      "Cluster 6\n",
      "['Nilagang Manok' 'Chicken Pochero' 'Pata Pochero'\n",
      " 'Pochero with Pork and Beans' 'Pocherong Baboy Recipe'\n",
      " 'Pork Pochero Recipe' 'Dinaldalem Recipe (Igado – Liver and Pork Adobo)'\n",
      " 'Pochero Recipe' 'Nilagang Baka Recipe'\n",
      " 'Puchero Bulalo Recipe (Beef Shank Pochero)' 'Pocherong Baka Recipe']\n",
      "--------\n",
      "Cluster 7\n",
      "['Chicken Barbecue' '7up Chicken Asado' 'Chicken Adobo with Egg'\n",
      " 'Chicken Molo Soup Recipe' 'Pata Estofado' 'Pata Tim Recipe'\n",
      " 'Pork Menudo sa Gata Recipe' 'How to Cook Humba (Bisaya Version)'\n",
      " 'Tokwa at Baboy Humba (Pork Humba with Tofu)' 'Sweet Pata Asado'\n",
      " 'Coke Pork Adobo' 'Sinantomas' 'Pork Barbecue' 'Lechon Belly Roll'\n",
      " 'Pork Adobo with Tokwa and Tausi and Garlic Fried Rice Adobo'\n",
      " 'Hamonadong Baboy' 'Easy Liempo Inihaw' 'Pork Adobo'\n",
      " 'Root Beer Pork Steak'\n",
      " 'Filipino Fried Pork Chop Recipe with Tomato and Salted Egg'\n",
      " 'Spicy Tokwat Baboy Recipe' 'Estofadong Baboy Recipe'\n",
      " 'How to Cook Crispy Pork Knuckles' 'Crispy Lechon Belly Recipe'\n",
      " 'Grilled Pork Belly with Garlic Fried Rice and Fried Egg – Liempo Sinangag Itlog'\n",
      " 'Filipino Style Pork BBQ' 'Pork Pata Humba Recipe'\n",
      " 'Pork Adobo with Sitaw Recipe' 'Liempo Estofado Recipe'\n",
      " 'Rellenong Talong Recipe (Stuffed Eggplant)' 'Pork Estofado Recipe'\n",
      " 'Humba Recipe' 'Ampalaya con Carne Recipe' 'Coca Cola Beef Tapa']\n",
      "--------\n",
      "Cluster 8\n",
      "['Spicy Sotanghon Chicken Soup'\n",
      " 'Chicken Sotanghon Soup with Malunggay and Sayote'\n",
      " 'Chicken Lollipop Recipe' 'Chicken Mami Recipe'\n",
      " 'Chicken Liver and Gizzard Stew with Quail Eggs and Snap Peas'\n",
      " 'Chicken Pancit Habhab' 'Chicken Bicol Express' 'Inasal'\n",
      " 'Chicken Pancit Recipe' 'Bopis na Manok' 'Chicken Mami'\n",
      " 'Shrimp and Chicken Pancit Canton'\n",
      " 'Ginataang Manok with Sitaw at Kalabasa' 'Chicken Lomi Recipe'\n",
      " 'Paksiw na Lechon Manok' 'Binagoongan Bagnet with Talong'\n",
      " 'Nagmamantikang Pork Adobo' 'Binagoongang Talong' 'Air Fryer Crispy Pata'\n",
      " 'Siopao Asado Recipe' 'Crispy Pork Belly Chips'\n",
      " 'Pork Dinuguan Isaw at Tenga' 'Pork Ribs Binagoongan'\n",
      " 'Spare Ribs Hamonado' 'Crispy Liempo Sinigang Rice'\n",
      " 'Low-Carb Breaded Pinatisang Baboy' 'Crispy Pork Binagoongan'\n",
      " 'Pork Siomai Recipe' 'Turbo Crispy Liempo' 'Sizzling Crispy Sisig'\n",
      " 'Crispy Dinuguan' 'Paklay Recipe' 'Pork Lomi' 'Dinuguan Recipe'\n",
      " 'Pinoy Pork Barbecue' 'Sinigang na Baboy with Gabi' 'Binagoongan Recipe'\n",
      " 'Deep Fried Siomai' 'Lumpia Recipe' 'Skinless Longganisa Recipe' 'Sisig'\n",
      " 'Pork Dinakdakan Recipe'\n",
      " 'Ginataang Lechon Kawali with Kalabasa and Long Green Beans'\n",
      " 'Sizzling Liempo Sisig Recipe' 'Crispy Bicol Express'\n",
      " 'Ginataang Monggo with Pork Recipe' 'Pork Ginataan Recipe'\n",
      " 'Pork Empanada Recipe' 'Buffalo Pork Ribs Recipe'\n",
      " 'Grilled Liempo with Fried Tofu' 'Tortang Talong with Ground Pork Recipe'\n",
      " 'Asadong Baboy Recipe' 'Shrimp Monggo with Lechon Kawali'\n",
      " 'Ginisang Monggo with Inihaw na Liempo' 'Pork Nilaga Recipe'\n",
      " 'Pork Monggo Recipe' 'Pork Dinuguan sa Gata Recipe' 'Pork Bicol Express'\n",
      " 'Inihaw na Baboy' 'Dinardaraan Recipe (Ilocano Dinuguan)'\n",
      " 'Pork Tenderloin Salpicao' 'Adobong Okra with Pork Recipe'\n",
      " 'Panlasang Pinoy Spaghetti' 'Grilled Liver Bistek' 'Tinumis Recipe'\n",
      " 'Dinuguan Laman-Loob Recipe (Blood Stew)' 'Pork Hamonado Recipe'\n",
      " 'Beef Salpicao' 'Burger Steak' 'Beef Pares sa Kanto'\n",
      " 'How to Make Goto Lamang Loob and Tokwa’t Baboy' 'Kinamatisang Baka'\n",
      " 'Beef Papaitan' 'Corned Beef Lomi Batangas Style' 'Beef Hinalang'\n",
      " 'Bulalugaw (Bulalo + Lugaw)' 'Kare-Kare Recipe (Beef Tripe)'\n",
      " 'Tapsilog Recipe' 'Beef Pares Recipe'\n",
      " 'Bistek Tagalog Recipe – Pinoy Beefsteak' 'How to Cook Kare Kare'\n",
      " 'Ginataang Baka – Beef in Coconut Milk with Green Beans and Spinach'\n",
      " 'Nilagang Baka with Kalabasa – Filipino boiled beef Soup'\n",
      " 'How to Cook Bulalo and Tagaytay Mahogany Market Tour'\n",
      " 'Sauteed Green Beans with Ground Beef' 'Beef Bulalo Recipe'\n",
      " 'Deep Fried Bulalo with Restaurant Style Teriyaki Sauce'\n",
      " 'Nilagang Buto-buto ng Baka Recipe' 'Nilagang Baka ala Bulalo'\n",
      " 'Gotong Batangas Recipe' 'Corned Beef with Cabbage and Potato'\n",
      " 'Bulalo Beef Pares Recipe' 'Sinabawang Corned Beef Recipe'\n",
      " 'Lengua in White Mushroom Sauce'\n",
      " 'Filipino Beef Morcon with Garlic Fried Rice and Eggs'\n",
      " 'Slow Cooked Beefsteak (Bistek Tagalog)' 'Beef Pares Mami Noodles Recipe'\n",
      " 'Classic Beef Morcon Recipe' 'Crockpot Beef Pares Recipe'\n",
      " 'Corned Beef Silog' 'Bistek Silog' 'Beef Kare-Kare Recipe'\n",
      " 'Cansi Recipe (Ilonggo Bulalo and Sinigang in one Delicious Soup Dish)'\n",
      " 'Beef Batchoy with Liver and Bung' 'Papaitan Recipe'\n",
      " 'Beef Mechado Recipe' 'Bulalo Recipe' 'Lengua Estofada Recipe']\n",
      "--------\n"
     ]
    }
   ],
   "source": [
    "clusters = X_cluster.reset_index().groupby('cluster_no')['dish_name'].unique()\n",
    "for k, v in enumerate(clusters):\n",
    "    print(f'Cluster {k}')\n",
    "    print(v)\n",
    "    print('--------')"
   ]
  },
  {
   "cell_type": "markdown",
   "metadata": {},
   "source": [
    "# 4b. Cluster Plots"
   ]
  },
  {
   "cell_type": "code",
   "execution_count": 19,
   "metadata": {},
   "outputs": [],
   "source": [
    "def custom_color(x):\n",
    "    if x == '0': \n",
    "        return '#DA4D2E' # carrot + patatas, ma-sarsa\n",
    "    elif x == '3':\n",
    "        return '#F4903E' # dahon, ma-sarsa\n",
    "    elif x == '4':\n",
    "        return '#8D9F38' # dahon, ma-sabaw\n",
    "    elif x == '6':\n",
    "        return '#EFC564' # carrot + patatas, ma-sabaw\n",
    "    else:\n",
    "        return '#D7D7D7'\n",
    "    \n",
    "def custom_alpha(x):\n",
    "    if x == '0': \n",
    "        return '1' # carrot + patatas, ma-sarsa\n",
    "    elif x == '3':\n",
    "        return '1' # dahon, ma-sarsa\n",
    "    elif x == '4':\n",
    "        return '1' # dahon, ma-sabaw\n",
    "    elif x == '6':\n",
    "        return '1' # carrot + patatas, ma-sabaw\n",
    "    else:\n",
    "        return '0'  \n",
    "    \n",
    "func = np.vectorize(custom_color)\n",
    "X_new_df['plot1_colors'] = func(X_new_df['cluster_no'])\n",
    "func = np.vectorize(custom_alpha)\n",
    "X_new_df['plot1_alphas'] = func(X_new_df['cluster_no'])"
   ]
  },
  {
   "cell_type": "code",
   "execution_count": 20,
   "metadata": {},
   "outputs": [],
   "source": [
    "def custom_color(x):\n",
    "    if x == '2': \n",
    "        return '#722502' # suka + toyo, maalat\n",
    "    elif x == '7':\n",
    "        return '#6A687A' # suka + toyo, matamis\n",
    "    elif x == '5':\n",
    "        return '#FA6961' # tomato-based, matamis\n",
    "    else:\n",
    "        return '#D7D7D7'\n",
    "    \n",
    "def custom_alpha(x):\n",
    "    if x == '2': \n",
    "        return '1' # carrot + patatas, ma-sarsa\n",
    "    elif x == '7':\n",
    "        return '1' # dahon, ma-sarsa\n",
    "    elif x == '5':\n",
    "        return '1' # dahon, ma-sabaw\n",
    "    else:\n",
    "        return '0'\n",
    "    \n",
    "func = np.vectorize(custom_color)\n",
    "X_new_df['plot2_colors'] = func(X_new_df['cluster_no'])\n",
    "func = np.vectorize(custom_alpha)\n",
    "X_new_df['plot2_alphas'] = func(X_new_df['cluster_no'])"
   ]
  },
  {
   "cell_type": "code",
   "execution_count": 119,
   "metadata": {},
   "outputs": [],
   "source": [
    "p = (ggplot(X_new_df, aes(x='SV2', y='SV5'))+\n",
    "    geom_hline(yintercept=0, color='#722502', size=1.5, linetype='dashed', alpha=0.5)+\n",
    "    geom_vline(xintercept=0, color='#722502', size=1.5, linetype='dashed', alpha=0.5)+\n",
    "    geom_point(aes(color='plot1_colors', alpha='plot1_alphas'), size=8, show_legend=False) +\n",
    "    scale_color_manual(values=['#8D9F38', '#F9F8FC', '#DA4D2E', '#EFC564', '#F4903E']) +\n",
    "    scale_alpha_manual(values=[0.25, 1]) +\n",
    "    xlab('') + ylab('') +\n",
    "    xlim(-1,1)+\n",
    "    proj_theme3\n",
    ")\n",
    "# p.save(filename = \"plot1.png\", width = 10.5, height=10.5, units='in')\n",
    "# p"
   ]
  },
  {
   "cell_type": "code",
   "execution_count": 124,
   "metadata": {},
   "outputs": [],
   "source": [
    "p = (ggplot(X_new_df, aes(x='SV2', y='SV5'))+\n",
    "    geom_point(aes(color='plot2_colors', alpha='plot2_alphas'), size=8, show_legend=False) +\n",
    "     geom_hline(yintercept=0, color='#722502', size=1.5, linetype='dashed', alpha=0.5)+\n",
    "    geom_vline(xintercept=0, color='#722502', size=1.5, linetype='dashed', alpha=0.5)+\n",
    "    scale_color_manual(values=['#e3a600', '#722502', '#F9F8FC', '#FA6961']) +\n",
    "    scale_alpha_manual(values=[0.25, 1]) +\n",
    "    xlab('') + ylab('') +\n",
    "    xlim(-1,1)+\n",
    "    proj_theme3\n",
    ")\n",
    "# p.save(filename = \"plot2.png\", width = 10.5, height=10.5, units='in')\n",
    "# p"
   ]
  },
  {
   "cell_type": "code",
   "execution_count": 125,
   "metadata": {},
   "outputs": [],
   "source": [
    "p = (ggplot(X_new_df, aes(x='SV2', y='SV5'))+\n",
    "    geom_point(aes(color='plot2_colors', alpha='plot2_alphas'), size=8, show_legend=False) +\n",
    "     geom_hline(yintercept=0, color='#722502', size=1.5, linetype='dashed', alpha=0.5)+\n",
    "    geom_vline(xintercept=0, color='#722502', size=1.5, linetype='dashed', alpha=0.5)+\n",
    "    scale_color_manual(values=['#e3a600', '#722502', '#F9F8FC', '#FA6961']) +\n",
    "    scale_alpha_manual(values=[0.25, 1]) +\n",
    "    xlab('') + ylab('') +\n",
    "    xlim(-1,1)+\n",
    "    coord_cartesian(ylim = [-0.40, 0.40], xlim = [-0.75, 0.75]) +\n",
    "    proj_theme3\n",
    ")\n",
    "# p.save(filename = \"plot2_zoomed.png\", width = 10.5, height = 10.5)\n",
    "# p"
   ]
  },
  {
   "cell_type": "markdown",
   "metadata": {},
   "source": [
    "# Plotly"
   ]
  },
  {
   "cell_type": "code",
   "execution_count": 126,
   "metadata": {},
   "outputs": [],
   "source": [
    "def custom_color(x):\n",
    "    if x == '0': \n",
    "        return '#DA4D2E' # carrot + patatas, ma-sarsa\n",
    "    elif x == '3':\n",
    "        return '#F4903E' # dahon, ma-sarsa\n",
    "    elif x == '4':\n",
    "        return '#8D9F38' # dahon, ma-sabaw\n",
    "    elif x == '6':\n",
    "        return '#EFC564' # carrot + patatas, ma-sabaw\n",
    "    elif x == '2': \n",
    "        return '#722502' # suka + toyo, maalat\n",
    "    elif x == '7':\n",
    "        return '#cc9500' # suka + toyo, matamis\n",
    "    elif x == '5':\n",
    "        return '#FA6961' # tomato-based, matamis\n",
    "    else:\n",
    "        return 'rgba(249, 248, 252, 0.4)'\n",
    "\n",
    "func = np.vectorize(custom_color)\n",
    "X_new_df['plotly_colors'] = func(X_new_df['cluster_no'])\n",
    "\n",
    "def custom_names(x):\n",
    "    if x == '0': \n",
    "        return 'Saucy Crops' # carrot + patatas, ma-sarsa\n",
    "    elif x == '3':\n",
    "        return 'Nutty Sauce' # dahon, ma-sarsa\n",
    "    elif x == '4':\n",
    "        return 'Sour Soup' # dahon, ma-sabaw\n",
    "    elif x == '6':\n",
    "        return 'Salty Soup' # carrot + patatas, ma-sabaw\n",
    "    elif x == '2': \n",
    "        return 'Soy Vinegar' # suka + toyo, maalat\n",
    "    elif x == '7':\n",
    "        return 'Soy Sweet' # suka + toyo, matamis\n",
    "    elif x == '5':\n",
    "        return 'Red Sweet' # tomato-based, matamis\n",
    "    else:\n",
    "        return 'Others'\n",
    "    \n",
    "func = np.vectorize(custom_names)\n",
    "X_new_df['cluster_names'] = func(X_new_df['cluster_no'])\n",
    "X_new_df['cluster_names'] = pd.Categorical(X_new_df['cluster_names'], ['Saucy Crops', 'Nutty Sauce', 'Sour Soup', 'Salty Soup', 'Soy Vinegar', 'Soy Sweet', 'Red Sweet', 'Others'], ordered=True)"
   ]
  },
  {
   "cell_type": "code",
   "execution_count": 114,
   "metadata": {},
   "outputs": [],
   "source": [
    "X_new_df['Dish Name'] = X_cluster.index\n",
    "dict_df = X_new_df[['cluster_no', 'plotly_colors']].drop_duplicates()\n",
    "c_map = dict(zip(dict_df['cluster_no'], dict_df['plotly_colors']))"
   ]
  },
  {
   "cell_type": "code",
   "execution_count": 113,
   "metadata": {
    "scrolled": false
   },
   "outputs": [
    {
     "data": {
      "application/vnd.plotly.v1+json": {
       "config": {
        "plotlyServerURL": "https://plot.ly"
       },
       "data": [
        {
         "customdata": [
          [
           "Sinarsahang Manok"
          ],
          [
           "Pork Menudo with Ham Recipe"
          ],
          [
           "Afritadang Baboy Recipe"
          ],
          [
           "Special Pork Kaldereta"
          ],
          [
           "Calderetang Baboy Recipe"
          ],
          [
           "Spicy Pork Kaldereta"
          ],
          [
           "Pork Kaldereta sa Gata"
          ],
          [
           "Healthy Chicken Menudo"
          ],
          [
           "Pinoy Pork and Chicken Curry"
          ],
          [
           "Spareribs Kaldereta"
          ],
          [
           "Pork Menudo sa Gata"
          ],
          [
           "Pork Caldereta Recipe"
          ],
          [
           "Chicken Afritada with Bell Pepper"
          ],
          [
           "Special Chicken Embutido Recipe (Filipino Chicken Meatloaf)"
          ],
          [
           "Chicken Curry"
          ],
          [
           "Sarciadong Manok"
          ],
          [
           "Chicken Caldereta"
          ],
          [
           "Pork Mechado Recipe"
          ],
          [
           "KBL (Kadyos, Baboy, at Langka) Recipe"
          ],
          [
           "Pinoy Chicken Curry Recipe"
          ],
          [
           "How To Cook Beef Kaldereta"
          ],
          [
           "Beef Kaldereta sa Gata with Peanut Butter"
          ],
          [
           "Beef Kaldereta Recipe"
          ],
          [
           "Pininyahang Manok sa Gata (Pineapple Chicken in Coconut Milk)"
          ],
          [
           "Mechadong Baka Recipe"
          ],
          [
           "Chicken Igado"
          ],
          [
           "Pineapple Chicken Afritada"
          ]
         ],
         "hovertemplate": "<b>Cluster</b>=Saucy Crops<br><b>Vegetable Range</b>=%{x}<br><b>Flavor Range</b>=%{y}<br><b>Dish Name</b>=%{customdata[0]}<extra></extra>",
         "legendgroup": "Saucy Crops",
         "marker": {
          "color": "#DA4D2E",
          "size": 14,
          "symbol": "circle"
         },
         "mode": "markers",
         "name": "Saucy Crops",
         "orientation": "v",
         "showlegend": true,
         "textfont": {
          "color": "#99D072"
         },
         "textposition": "top right",
         "type": "scatter",
         "x": [
          0.4628144444403887,
          0.7076290788069554,
          0.5082310391560247,
          0.6546194692445557,
          0.5869038298609611,
          0.4351717331524869,
          0.8210610195404827,
          0.8532723152185384,
          0.6936033132967843,
          0.6443368694633277,
          0.476378457373133,
          0.9178762643308715,
          0.8432635665125456,
          0.8809064091130812,
          0.45765318141104194,
          0.2983095942759831,
          1.3246436891342923,
          0.43201021100023074,
          0.013242021454267141,
          0.5625464514414286,
          0.672674806462952,
          0.4542246061690789,
          0.924459635184295,
          1.2004804588612794,
          0.06410480920025277,
          0.21314171793146677,
          0.9580847543195228
         ],
         "xaxis": "x",
         "y": [
          0.04343671943068493,
          -0.09477790073349326,
          -0.06971540712020972,
          -0.09890858078884092,
          -0.0839775216392856,
          -0.04774410415504404,
          0.004236017479281216,
          -0.06468906231050449,
          -0.08349560404033597,
          -0.08752865980398289,
          -0.04152807319354061,
          -0.11794454912023306,
          0.04831797505874708,
          0.07280394956632377,
          0.06994059142605376,
          0.18309494119311262,
          0.04268417416918112,
          -0.1398089711442563,
          0.007450291242655956,
          0.016133958241874496,
          -0.08047196480095913,
          -0.1042517322868485,
          -0.05127716248933942,
          0.03030197651192777,
          0.006981641377123609,
          -0.011244997518330909,
          0.050109563802198324
         ],
         "yaxis": "y"
        },
        {
         "customdata": [
          [
           "Beef Short Rib Kare Kare"
          ],
          [
           "Crispy Kare-kare Recipe"
          ],
          [
           "How To Make Pata Kare-Kare"
          ],
          [
           "Oxtail Kare-Kare Recipe"
          ],
          [
           "How to Cook Chicken Kare-Kare sa Gata"
          ],
          [
           "Pork Kare Kare Recipe"
          ],
          [
           "Bulalo Kare-kare"
          ],
          [
           "Chicken Kare Kare Recipe"
          ]
         ],
         "hovertemplate": "<b>Cluster</b>=Nutty Sauce<br><b>Vegetable Range</b>=%{x}<br><b>Flavor Range</b>=%{y}<br><b>Dish Name</b>=%{customdata[0]}<extra></extra>",
         "legendgroup": "Nutty Sauce",
         "marker": {
          "color": "#F4903E",
          "size": 14,
          "symbol": "circle"
         },
         "mode": "markers",
         "name": "Nutty Sauce",
         "orientation": "v",
         "showlegend": true,
         "textfont": {
          "color": "#99D072"
         },
         "textposition": "top right",
         "type": "scatter",
         "x": [
          -0.30982576120633654,
          -0.5990089238515419,
          -0.45551251617917077,
          -0.38757129463950785,
          -0.010925708452827672,
          -0.49576354092730124,
          -0.4427324023562172,
          0.2147373341366075
         ],
         "xaxis": "x",
         "y": [
          -0.9121896057692691,
          -1.173160813592443,
          -0.6606006442441705,
          -0.9575434798489321,
          -0.5847935328495915,
          -0.7490099696659593,
          -0.864980682775032,
          -0.5377738577277094
         ],
         "yaxis": "y"
        },
        {
         "customdata": [
          [
           "Sinigang na Buntot ng Baboy with Gabi"
          ],
          [
           "Sinigang na Pata with Gabi"
          ],
          [
           "Corned Beef Sinigang"
          ],
          [
           "Beef Ribs Sinigang"
          ],
          [
           "Beef Short Rib Sinigang Na May Pakwan"
          ],
          [
           "Pork Chop Sinigang"
          ],
          [
           "Sinigang na Lechon"
          ],
          [
           "Sinigang"
          ]
         ],
         "hovertemplate": "<b>Cluster</b>=Sour Soup<br><b>Vegetable Range</b>=%{x}<br><b>Flavor Range</b>=%{y}<br><b>Dish Name</b>=%{customdata[0]}<extra></extra>",
         "legendgroup": "Sour Soup",
         "marker": {
          "color": "#8D9F38",
          "size": 14,
          "symbol": "circle"
         },
         "mode": "markers",
         "name": "Sour Soup",
         "orientation": "v",
         "showlegend": true,
         "textfont": {
          "color": "#99D072"
         },
         "textposition": "top right",
         "type": "scatter",
         "x": [
          -0.29255543652546917,
          -0.342874660180909,
          -0.33208010698114354,
          -0.31896220266177994,
          -0.18233117698757056,
          -0.2828302899567323,
          -0.22820184455881853,
          -0.20842378183363142
         ],
         "xaxis": "x",
         "y": [
          0.750624815797782,
          1.1630678402119088,
          1.2610380551690032,
          1.165351956625367,
          0.8340120072779481,
          1.044269837254462,
          0.7463141826346228,
          0.7075739781155154
         ],
         "yaxis": "y"
        },
        {
         "customdata": [
          [
           "Dinaldalem Recipe (Igado – Liver and Pork Adobo)"
          ],
          [
           "Pork Pochero Recipe"
          ],
          [
           "Pata Pochero"
          ],
          [
           "Pocherong Baka Recipe"
          ],
          [
           "Pochero with Pork and Beans"
          ],
          [
           "Pocherong Baboy Recipe"
          ],
          [
           "Nilagang Baka Recipe"
          ],
          [
           "Chicken Pochero"
          ],
          [
           "Pochero Recipe"
          ],
          [
           "Nilagang Manok"
          ],
          [
           "Puchero Bulalo Recipe (Beef Shank Pochero)"
          ]
         ],
         "hovertemplate": "<b>Cluster</b>=Salty Soup<br><b>Vegetable Range</b>=%{x}<br><b>Flavor Range</b>=%{y}<br><b>Dish Name</b>=%{customdata[0]}<extra></extra>",
         "legendgroup": "Salty Soup",
         "marker": {
          "color": "#EFC564",
          "size": 14,
          "symbol": "circle"
         },
         "mode": "markers",
         "name": "Salty Soup",
         "orientation": "v",
         "showlegend": true,
         "textfont": {
          "color": "#99D072"
         },
         "textposition": "top right",
         "type": "scatter",
         "x": [
          -0.07880675622338362,
          -0.08405414806875455,
          -0.10038872983192543,
          -0.0063363484353871884,
          -0.1608862924813047,
          -0.0965567387185449,
          0.1948378625864121,
          0.3961674216498596,
          0.018820689828209218,
          0.3438203000554299,
          -0.014621322863244695
         ],
         "xaxis": "x",
         "y": [
          -0.0633474979320108,
          -0.1701862423843582,
          -0.11103823749573069,
          -0.2068229994582741,
          -0.16717275790341732,
          -0.1968369327811368,
          -0.3350192390909991,
          -0.20436575803454904,
          -0.13975096693786243,
          -0.1805617730341931,
          -0.21374842022263776
         ],
         "yaxis": "y"
        },
        {
         "customdata": [
          [
           "Lechon Kawali"
          ],
          [
           "Crispy Pata"
          ],
          [
           "Pata Paksiw Recipe"
          ],
          [
           "Lechon Belly Pork Adobo Recipe"
          ],
          [
           "Lechon Paksiw Recipe"
          ],
          [
           "Crispy Tenga Recipe (Crispy Pig Ears)"
          ],
          [
           "Basic Pork Adobo Recipe"
          ],
          [
           "Adobong Baboy sa Gata (Pork Adobo in Coconut Milk)"
          ],
          [
           "Chicken Adobong Puti"
          ],
          [
           "Crispy Bagbagis (Crispy Deep Fried Pork Intestine)"
          ],
          [
           "Sprite Pork Adobo Recipe"
          ],
          [
           "Easy Lechon Paksiw"
          ],
          [
           "Lechon Carajay Recipe"
          ],
          [
           "Paksiw na Lechon Kawali"
          ],
          [
           "Chicken Paksiw Recipe"
          ],
          [
           "Crispy Dinakdakan Recipe"
          ],
          [
           "Easy Chicken Adobo Recipe"
          ],
          [
           "Filipino Chicken Adobo Recipe"
          ],
          [
           "Crispy Pork Belly Chicharon"
          ],
          [
           "Crispy Pata Recipe"
          ],
          [
           "Lechon Kawali Recipe"
          ],
          [
           "Pork and Chicken Adobo Recipe"
          ],
          [
           "Adobong Manok sa Gata"
          ],
          [
           "Chicken Adobo sa Gata"
          ],
          [
           "Killer Chicken Adobo"
          ],
          [
           "Ketchup Fried Chicken"
          ],
          [
           "Beef Asado Recipe"
          ],
          [
           "How To Cook Super Crispy Lechon Kawali"
          ],
          [
           "Sous Vide Chicken Adobo"
          ],
          [
           "Extremely Spicy Pork Adobo na Tuyo"
          ],
          [
           "How to Cook Pork Bagnet"
          ]
         ],
         "hovertemplate": "<b>Cluster</b>=Soy Vinegar<br><b>Vegetable Range</b>=%{x}<br><b>Flavor Range</b>=%{y}<br><b>Dish Name</b>=%{customdata[0]}<extra></extra>",
         "legendgroup": "Soy Vinegar",
         "marker": {
          "color": "#722502",
          "size": 14,
          "symbol": "circle"
         },
         "mode": "markers",
         "name": "Soy Vinegar",
         "orientation": "v",
         "showlegend": true,
         "textfont": {
          "color": "#99D072"
         },
         "textposition": "top right",
         "type": "scatter",
         "x": [
          -0.28822583436493493,
          -0.5176102034309432,
          -0.46611146052847574,
          -0.31490229432470485,
          -0.5377330299386942,
          -0.39979120516937333,
          -0.4014044152709761,
          -0.4205640588850672,
          -0.057606178711795214,
          -0.24771390419324849,
          -0.42234308788709557,
          -0.367761404587605,
          -0.47605173181640137,
          -0.3163658148799188,
          -0.08371454228885632,
          -0.5648845612806894,
          0.005708190608143241,
          0.0009170280442035997,
          -0.31091277152471036,
          -0.4979051271558172,
          -0.25328589476223573,
          -0.20455855076672635,
          -0.09329815256089237,
          0.12590757235667135,
          0.1467059022066762,
          -0.3379796625091298,
          -0.3367588794584352,
          -0.30992663991425656,
          -0.07247719060657408,
          -0.5875203911557154,
          -0.21078499614890917
         ],
         "xaxis": "x",
         "y": [
          0.13256976825444344,
          0.08052106694492267,
          0.03327714203384779,
          0.02367575002245764,
          0.08018094365492502,
          0.06808563638934922,
          0.001696797401063388,
          -0.014809743248091853,
          0.07557611549982042,
          0.10435084974900263,
          0.015446627956085455,
          0.056753514256886045,
          0.08555484937387411,
          0.0769750733622483,
          0.061941583845277585,
          0.1985026984661813,
          0.167783517937392,
          0.06017745851944295,
          0.1601085913450494,
          0.22113671440620036,
          0.11482230884091955,
          0.10019287847057849,
          0.0828687418080886,
          0.1558157594042652,
          0.20148816832277128,
          0.009864014503198393,
          0.042368768922046614,
          0.12267432854369023,
          0.15081372545236266,
          0.15541649126828833,
          0.08268721326444953
         ],
         "yaxis": "y"
        },
        {
         "customdata": [
          [
           "Pork Barbecue"
          ],
          [
           "Pork Estofado Recipe"
          ],
          [
           "Pork Adobo"
          ],
          [
           "Sweet Pata Asado"
          ],
          [
           "Spicy Tokwat Baboy Recipe"
          ],
          [
           "Coke Pork Adobo"
          ],
          [
           "Lechon Belly Roll"
          ],
          [
           "Sinantomas"
          ],
          [
           "Filipino Fried Pork Chop Recipe with Tomato and Salted Egg"
          ],
          [
           "Easy Liempo Inihaw"
          ],
          [
           "Root Beer Pork Steak"
          ],
          [
           "Pork Adobo with Tokwa and Tausi and Garlic Fried Rice Adobo"
          ],
          [
           "Liempo Estofado Recipe"
          ],
          [
           "Rellenong Talong Recipe (Stuffed Eggplant)"
          ],
          [
           "Tokwa at Baboy Humba (Pork Humba with Tofu)"
          ],
          [
           "Hamonadong Baboy"
          ],
          [
           "Estofadong Baboy Recipe"
          ],
          [
           "Pork Menudo sa Gata Recipe"
          ],
          [
           "7up Chicken Asado"
          ],
          [
           "Pork Pata Humba Recipe"
          ],
          [
           "Filipino Style Pork BBQ"
          ],
          [
           "Pork Adobo with Sitaw Recipe"
          ],
          [
           "Grilled Pork Belly with Garlic Fried Rice and Fried Egg – Liempo Sinangag Itlog"
          ],
          [
           "How to Cook Humba (Bisaya Version)"
          ],
          [
           "Chicken Molo Soup Recipe"
          ],
          [
           "Chicken Barbecue"
          ],
          [
           "Crispy Lechon Belly Recipe"
          ],
          [
           "Pata Estofado"
          ],
          [
           "Chicken Adobo with Egg"
          ],
          [
           "Pata Tim Recipe"
          ],
          [
           "Coca Cola Beef Tapa"
          ],
          [
           "How to Cook Crispy Pork Knuckles"
          ],
          [
           "Ampalaya con Carne Recipe"
          ],
          [
           "Humba Recipe"
          ]
         ],
         "hovertemplate": "<b>Cluster</b>=Soy Sweet<br><b>Vegetable Range</b>=%{x}<br><b>Flavor Range</b>=%{y}<br><b>Dish Name</b>=%{customdata[0]}<extra></extra>",
         "legendgroup": "Soy Sweet",
         "marker": {
          "color": "#cc9500",
          "size": 14,
          "symbol": "circle"
         },
         "mode": "markers",
         "name": "Soy Sweet",
         "orientation": "v",
         "showlegend": true,
         "textfont": {
          "color": "#99D072"
         },
         "textposition": "top right",
         "type": "scatter",
         "x": [
          -0.32715531565185074,
          -0.06172619632572063,
          -0.30570997315056275,
          -0.30292546345460675,
          -0.555110144726758,
          -0.44404662601626355,
          -0.5071822453004761,
          -0.328991839876159,
          -0.2681393864888845,
          -0.2299241342580455,
          -0.2527449663535956,
          -0.5351768630897524,
          -0.10830824602939502,
          -0.36871239175429765,
          -0.30521863234324154,
          -0.358527026581667,
          -0.3050449429796152,
          0.03703763460745463,
          -0.3277437214001246,
          -0.41847291562257216,
          -0.349424890503937,
          -0.22221863473834788,
          -0.20238430290314907,
          -0.3969315814142628,
          -0.10260936944990254,
          -0.14679769739793913,
          -0.34579096124333963,
          -0.34168399110985176,
          -0.23415457904416842,
          -0.3209423015258349,
          -0.15985357679634085,
          -0.3749207812301125,
          -0.16997855032585862,
          -0.32468456474104845
         ],
         "xaxis": "x",
         "y": [
          -0.11796547293505687,
          0.031062613123162774,
          0.07935644880459881,
          -0.0695054876660512,
          0.3441084261833213,
          0.005729750074548642,
          -0.07351233079999721,
          -0.058983407910371426,
          -0.15293252736815635,
          -0.09485426755203616,
          -0.06569253790191293,
          -0.1135994865021926,
          -0.03330701105158265,
          -0.07479125344331296,
          -0.10458918250900752,
          -0.08693586584547015,
          -0.11116852205024093,
          -0.002153549805639747,
          -0.001990539653815748,
          -0.09578019828025172,
          -0.028833619922854107,
          -0.07888609705013651,
          -0.09641943489699989,
          -0.18689527564804131,
          -0.17061945989998437,
          0.016262061712562396,
          0.006034655543786421,
          -0.015394725528714553,
          -0.013233771648070599,
          -0.13905570877840842,
          -0.025743663189331807,
          0.06082709337548813,
          -0.1364368185777217,
          -0.1648641713674838
         ],
         "yaxis": "y"
        },
        {
         "customdata": [
          [
           "Christmas Chicken and Ham Macaroni Salad"
          ],
          [
           "Filipino Style Spaghetti Recipe"
          ],
          [
           "Pinoy Style Chicken Macaroni Salad"
          ],
          [
           "Meaty Spaghetti"
          ],
          [
           "Pork Menudo Recipe"
          ],
          [
           "How to Cook Embutido"
          ],
          [
           "Filipino Pork Menudo Recipe"
          ],
          [
           "Pork Embutido (Steamed Filipino Meatloaf)"
          ],
          [
           "Morcon Recipe"
          ],
          [
           "Fiesta Menudo"
          ]
         ],
         "hovertemplate": "<b>Cluster</b>=Red Sweet<br><b>Vegetable Range</b>=%{x}<br><b>Flavor Range</b>=%{y}<br><b>Dish Name</b>=%{customdata[0]}<extra></extra>",
         "legendgroup": "Red Sweet",
         "marker": {
          "color": "#FA6961",
          "size": 14,
          "symbol": "circle"
         },
         "mode": "markers",
         "name": "Red Sweet",
         "orientation": "v",
         "showlegend": true,
         "textfont": {
          "color": "#99D072"
         },
         "textposition": "top right",
         "type": "scatter",
         "x": [
          0.20378729432589868,
          -0.030864304602504247,
          0.3329564909270871,
          -0.0840607274696421,
          -0.039229701337002286,
          0.43025557491105587,
          0.04241443459556892,
          0.4197511608464161,
          0.14459398010616695,
          0.11742938774711972
         ],
         "xaxis": "x",
         "y": [
          0.07167641531979328,
          -0.014569987286081748,
          0.04619798664219907,
          0.007055792414433134,
          -0.04798282506438526,
          -0.01764824011644242,
          -0.037030504997137725,
          -0.02376631220910796,
          -0.01794528109305813,
          -0.049323624060582674
         ],
         "yaxis": "y"
        },
        {
         "customdata": [
          [
           "Grilled Liver Bistek"
          ],
          [
           "Spicy Ginataang Baboy with Papaya and Malunggay"
          ],
          [
           "Chicken Lollipop Recipe"
          ],
          [
           "Dinardaraan Recipe (Ilocano Dinuguan)"
          ],
          [
           "Pork Tenderloin Salpicao"
          ],
          [
           "Adobong Okra with Pork Recipe"
          ],
          [
           "Pork Chop Bicol Express Recipe"
          ],
          [
           "Panlasang Pinoy Spaghetti"
          ],
          [
           "Chicken Mami Recipe"
          ],
          [
           "Tinumis Recipe"
          ],
          [
           "Dinuguan Laman-Loob Recipe (Blood Stew)"
          ],
          [
           "Cheesy Chicken Afritada Recipe"
          ],
          [
           "Beef Papaitan"
          ],
          [
           "Beef Salpicao"
          ],
          [
           "Nilagang Buto-buto ng Baka Recipe"
          ],
          [
           "Chicken Binagoongan Recipe"
          ],
          [
           "Nilagang Baka ala Bulalo"
          ],
          [
           "Gotong Batangas Recipe"
          ],
          [
           "Corned Beef with Cabbage and Potato"
          ],
          [
           "Bulalo Beef Pares Recipe"
          ],
          [
           "Sinabawang Corned Beef Recipe"
          ],
          [
           "Lengua in White Mushroom Sauce"
          ],
          [
           "Filipino Beef Morcon with Garlic Fried Rice and Eggs"
          ],
          [
           "Deep Fried Bulalo with Restaurant Style Teriyaki Sauce"
          ],
          [
           "Slow Cooked Beefsteak (Bistek Tagalog)"
          ],
          [
           "Classic Beef Morcon Recipe"
          ],
          [
           "Crockpot Beef Pares Recipe"
          ],
          [
           "Corned Beef Silog"
          ],
          [
           "Bistek Silog"
          ],
          [
           "Beef Kare-Kare Recipe"
          ],
          [
           "Cansi Recipe (Ilonggo Bulalo and Sinigang in one Delicious Soup Dish)"
          ],
          [
           "Beef Batchoy with Liver and Bung"
          ],
          [
           "Papaitan Recipe"
          ],
          [
           "Beef Mechado Recipe"
          ],
          [
           "Beef Pares Mami Noodles Recipe"
          ],
          [
           "Beef Bulalo Recipe"
          ],
          [
           "Sauteed Green Beans with Ground Beef"
          ],
          [
           "Beef Tinola Recipe"
          ],
          [
           "Burger Steak"
          ],
          [
           "Beef Pares sa Kanto"
          ],
          [
           "How to Make Goto Lamang Loob and Tokwa’t Baboy"
          ],
          [
           "Kinamatisang Baka"
          ],
          [
           "Chicken Sotanghon Soup with Malunggay and Sayote"
          ],
          [
           "Corned Beef Lomi Batangas Style"
          ],
          [
           "Saucy Beef with Broccoli"
          ],
          [
           "Beef Hinalang"
          ],
          [
           "Maxs Style Fried Chicken with Kamote Fries"
          ],
          [
           "Bulalugaw (Bulalo + Lugaw)"
          ],
          [
           "Kare-Kare Recipe (Beef Tripe)"
          ],
          [
           "Tapsilog Recipe"
          ],
          [
           "Beef Pares Recipe"
          ],
          [
           "Bistek Tagalog Recipe – Pinoy Beefsteak"
          ],
          [
           "How to Cook Kare Kare"
          ],
          [
           "Ginataang Baka – Beef in Coconut Milk with Green Beans and Spinach"
          ],
          [
           "Nilagang Baka with Kalabasa – Filipino boiled beef Soup"
          ],
          [
           "How to Cook Bulalo and Tagaytay Mahogany Market Tour"
          ],
          [
           "Chicken Feet in Oyster Sauce with Salted Black Beans"
          ],
          [
           "Pininyahang Manok Recipe (Pineapple Chicken)"
          ],
          [
           "Spicy Sotanghon Chicken Soup"
          ],
          [
           "Pork Hamonado Recipe"
          ],
          [
           "Inihaw na Baboy"
          ],
          [
           "Ginataang Monggo with Pork Recipe"
          ],
          [
           "Pork Dinuguan sa Gata Recipe"
          ],
          [
           "How to Cook Chicken Pastel"
          ],
          [
           "Lechon Manok Recipe"
          ],
          [
           "Basic Chicken Afritada Recipe"
          ],
          [
           "Filipino Chicken Macaroni Sopas"
          ],
          [
           "Arroz Caldo with Tokwa (Chicken Congee with Fried Tofu)"
          ],
          [
           "Spicy Chicken Feet"
          ],
          [
           "Binagoongan Bagnet with Talong"
          ],
          [
           "Nagmamantikang Pork Adobo"
          ],
          [
           "Binagoongang Talong"
          ],
          [
           "Air Fryer Crispy Pata"
          ],
          [
           "Siopao Asado Recipe"
          ],
          [
           "Bicol Express Gising-gising Recipe"
          ],
          [
           "Creamy Chicken Sopas"
          ],
          [
           "Bicol Express Recipe"
          ],
          [
           "Crispy Pork Belly Chips"
          ],
          [
           "Pork Dinuguan Isaw at Tenga"
          ],
          [
           "Pork Ribs Binagoongan"
          ],
          [
           "Chicken Pancit Recipe"
          ],
          [
           "Spare Ribs Hamonado"
          ],
          [
           "Paksiw na Lechon Manok"
          ],
          [
           "Crispy Liempo Sinigang Rice"
          ],
          [
           "Chicken Pastel in a Cup"
          ],
          [
           "Tinolang Manok Recipe"
          ],
          [
           "Bopis na Manok"
          ],
          [
           "Chicken Inasal BBQ Recipe"
          ],
          [
           "Bacon and Egg Filipino Chicken Adobo"
          ],
          [
           "Chicken Mami"
          ],
          [
           "Tinolang Manok sa Upo"
          ],
          [
           "Shrimp and Chicken Pancit Canton"
          ],
          [
           "How To Cook Filipino Chicken Arroz Caldo"
          ],
          [
           "Chicken Nilaga with Kalabasa Recipe"
          ],
          [
           "Chicken Adobo with Bacon and Egg"
          ],
          [
           "Ginataang Manok Na May Luyang Dilaw"
          ],
          [
           "Chicken Tinola Recipe"
          ],
          [
           "Chicken Arroz Caldo Recipe"
          ],
          [
           "Ginataang Manok with Sitaw at Kalabasa"
          ],
          [
           "Pesang Baboy at Manok Recipe"
          ],
          [
           "Chicken Soup with Misua and Patola"
          ],
          [
           "Chicken Lomi Recipe"
          ],
          [
           "Tinola Chicken Mami"
          ],
          [
           "Tinolang Manok sa Gata Recipe"
          ],
          [
           "Binakol na Manok Recipe"
          ],
          [
           "Ginataang Manok with Kalabasa Recipe"
          ],
          [
           "Pork Bicol Express"
          ],
          [
           "Inasal"
          ],
          [
           "Low-Carb Breaded Pinatisang Baboy"
          ],
          [
           "Chicken Liver and Gizzard Stew with Quail Eggs and Snap Peas"
          ],
          [
           "Crispy Bicol Express"
          ],
          [
           "Pata at Hipon sa Gata na May Monggo at Langka"
          ],
          [
           "Bicol Express ala Bebet – Bisita Kusina Episode 1"
          ],
          [
           "Pork Bola Bola Soup with Misua and Patola"
          ],
          [
           "Chicken Hamonado"
          ],
          [
           "Pork Ginataan Recipe"
          ],
          [
           "Pork Empanada Recipe"
          ],
          [
           "Ginataang Manok with Papaya"
          ],
          [
           "Buffalo Pork Ribs Recipe"
          ],
          [
           "Grilled Liempo with Fried Tofu"
          ],
          [
           "Tortang Talong with Ground Pork Recipe"
          ],
          [
           "Asadong Baboy Recipe"
          ],
          [
           "Pinoy Fried Chicken Recipe"
          ],
          [
           "Shrimp Monggo with Lechon Kawali"
          ],
          [
           "Ginisang Monggo with Inihaw na Liempo"
          ],
          [
           "Pork Nilaga Recipe"
          ],
          [
           "Pork Monggo Recipe"
          ],
          [
           "Quick and Easy Fried Chicken"
          ],
          [
           "Sizzling Liempo Sisig Recipe"
          ],
          [
           "Chicken Sotanghon Soup"
          ],
          [
           "Ginataang Lechon Kawali with Kalabasa and Long Green Beans"
          ],
          [
           "Pork Dinakdakan Recipe"
          ],
          [
           "Crispy Pork Binagoongan"
          ],
          [
           "Pork Siomai Recipe"
          ],
          [
           "Chicken Lumpia"
          ],
          [
           "Turbo Crispy Liempo"
          ],
          [
           "Sizzling Crispy Sisig"
          ],
          [
           "Crispy Dinuguan"
          ],
          [
           "Paklay Recipe"
          ],
          [
           "Pork Lomi"
          ],
          [
           "Dinuguan Recipe"
          ],
          [
           "Pinoy Pork Barbecue"
          ],
          [
           "Sinigang na Baboy with Gabi"
          ],
          [
           "Binagoongan Recipe"
          ],
          [
           "Deep Fried Siomai"
          ],
          [
           "Lumpia Recipe"
          ],
          [
           "Bulalo Recipe"
          ],
          [
           "How to Cook Bicol Express"
          ],
          [
           "Skinless Longganisa Recipe"
          ],
          [
           "Chicken Bicol Express"
          ],
          [
           "Sisig"
          ],
          [
           "Chicken Pancit Habhab"
          ],
          [
           "Lengua Estofada Recipe"
          ]
         ],
         "hovertemplate": "<b>Cluster</b>=Others<br><b>Vegetable Range</b>=%{x}<br><b>Flavor Range</b>=%{y}<br><b>Dish Name</b>=%{customdata[0]}<extra></extra>",
         "legendgroup": "Others",
         "marker": {
          "color": "rgba(249, 248, 252, 0.4)",
          "size": 14,
          "symbol": "circle"
         },
         "mode": "markers",
         "name": "Others",
         "orientation": "v",
         "showlegend": true,
         "textfont": {
          "color": "#99D072"
         },
         "textposition": "top right",
         "type": "scatter",
         "x": [
          -0.1373359354075424,
          -0.160666167814395,
          -0.0812010491867847,
          -0.21109139188719214,
          -0.138882191188796,
          -0.20324571890363674,
          -0.2873851705028466,
          -0.05428135897819132,
          0.1510122705945513,
          -0.26125299280554515,
          -0.24232386931762823,
          0.8989844452536764,
          -0.20136936709192546,
          -0.0678032083607325,
          0.004631554151086761,
          0.12235497100602333,
          0.005329323375513959,
          -0.14134026847049072,
          -0.054101352397251515,
          -0.2182345399926971,
          0.00770792133419017,
          -0.16716117228481686,
          -0.005187571415883819,
          -0.2421350237999966,
          -0.1175602565943433,
          0.05193167916090415,
          -0.15778563074784172,
          -0.06343167815919189,
          0.007461768769348165,
          -0.16922449600919567,
          -0.21353397530732884,
          -0.1662904162978328,
          -0.17969175399133805,
          -0.1161183842710688,
          -0.05783445834913269,
          -0.04103122863669294,
          -0.06686176171294864,
          -0.13618909890514927,
          -0.019969458879363806,
          -0.23530372242001749,
          -0.4218286645502366,
          -0.09188622691169321,
          0.009073514955116177,
          0.04023335862653962,
          -0.06744707063072654,
          -0.29455009439029584,
          0.21596512862890846,
          -0.1119994505708033,
          -0.2629929630064554,
          -0.20829840034388009,
          -0.23798263740180042,
          -0.17873130382614308,
          -0.29988482581501963,
          -0.19626239526878703,
          -0.10164601904943142,
          -0.08150841835634594,
          0.12540453843328314,
          0.8407936667855,
          0.14849793878496917,
          -0.11098966030553838,
          -0.12520335373078553,
          -0.2880204769610062,
          -0.26300366628769756,
          0.5346975849272225,
          0.11260981699319952,
          0.4832034190784336,
          0.46596436000344477,
          -0.0005224680976913887,
          0.2643479125183059,
          -0.35523768997237093,
          -0.3327123787317694,
          -0.3497142187688533,
          -0.18644181058031326,
          -0.1567277776031327,
          -0.2503917410898873,
          0.144997325501736,
          -0.35069931324869014,
          -0.17849893860022678,
          -0.5544408111968434,
          -0.30383082987997334,
          0.6208219324366444,
          -0.15535538395489423,
          -0.2111938904489019,
          -0.2698116751540948,
          0.456545287790101,
          0.31291371275405794,
          0.14403107879017324,
          0.27002951598806807,
          0.17680165967940012,
          0.43097466246199945,
          0.22846147575027298,
          0.08566052284201284,
          0.18080406968738058,
          0.4572458142392046,
          0.17680165967940076,
          0.23083990159167153,
          0.02793701760667994,
          0.2757441104929112,
          0.2762089543058286,
          0.26396572611762636,
          -0.05346623001729934,
          0.14249894421663337,
          0.06981467568737429,
          0.2674708829207123,
          0.2778311585601127,
          0.28328917261790176,
          -0.23240855291689125,
          -0.15560827425130275,
          -0.08580972714620962,
          0.0588085076669707,
          -0.37799386328876267,
          -0.3847716218948308,
          -0.28424962992852615,
          -0.1486403620491688,
          0.1906029250864791,
          -0.3278195572300697,
          0.25584170841883397,
          0.017558507335843878,
          -0.15237247717348992,
          -0.2433990735886041,
          -0.10116445420761286,
          -0.18893935440371504,
          0.32676699197823955,
          -0.24566256404619854,
          -0.14129058309776116,
          -0.048071320896480446,
          -0.19908412866295355,
          0.1519029655922967,
          -0.1408840549053215,
          0.41220592270036877,
          -0.09392514455655537,
          -0.18159114464205736,
          -0.3059934484283228,
          0.11985267366201612,
          0.3242302237651619,
          -0.23452744149536792,
          -0.17506219987154042,
          -0.465063909030374,
          0.06690010032160054,
          -0.022391933103737216,
          -0.20986470041102376,
          -0.23738560803564698,
          -0.1975543770494708,
          -0.3294954490275673,
          -0.05626621827869413,
          0.2873988414417232,
          -0.03261896857838163,
          -0.3370765272674047,
          -0.16189794953118053,
          0.052144987724089244,
          -0.13428562042695125,
          0.10058562394170585,
          0.05902370479386859
         ],
         "xaxis": "x",
         "y": [
          -0.0409629711981442,
          0.08301630453356408,
          0.039443057360027636,
          0.000693181971916567,
          -0.11134953508097478,
          0.13137125733275373,
          0.03292445537732501,
          0.008801431798292896,
          0.03484508237002199,
          0.18541674963464314,
          0.04200719964081927,
          0.038836022626224355,
          0.15207397497842476,
          -0.045869839414511296,
          -0.14325054434202755,
          -0.058958293008796465,
          0.011100594407093689,
          0.023091035248365574,
          -0.05991600889511455,
          -0.051694988311768,
          -0.02602964058506786,
          -0.045109665817719274,
          -0.006701484501690601,
          -0.06764718337709284,
          -0.05492046869621143,
          -0.04319591514457819,
          -0.05805213731004502,
          -0.038078941567974596,
          -0.005973329446519364,
          -0.2726408075273088,
          0.12976222282998848,
          -0.04111124014624439,
          -0.018836218331469912,
          -0.010885161798971945,
          0.02968385109043625,
          0.018908715066064365,
          -0.008526315158344224,
          0.18473291659021587,
          0.0041607642069322924,
          -0.05804835758240142,
          0.07672441211258582,
          0.04406760592972329,
          0.0070102969739493206,
          -0.02089051102907717,
          -0.017076497719591105,
          0.08008997213219542,
          0.24137455926968623,
          0.02081707242789568,
          -0.40111809002238624,
          -0.16645842693781898,
          -0.07435676626540921,
          -0.02723610174743716,
          -0.49538824680432486,
          0.12114282105750429,
          -0.088239487021696,
          0.006572724330053831,
          -0.007221472392259073,
          0.09836469598626268,
          0.1526828655400473,
          -0.02224891896390585,
          -0.03223313434588093,
          0.5768444323432373,
          0.030556704034542914,
          0.08505843984581585,
          0.14458320530268123,
          0.1179960351560159,
          0.07939182420900506,
          0.022299369316529732,
          0.08973703222294137,
          -0.2253519796072145,
          -0.04691036361417691,
          -0.20986531536160918,
          0.020899577244509658,
          -0.03514452030106933,
          -0.1602524194579264,
          -0.0005815296626820341,
          -0.34545863296144264,
          0.06658509817032317,
          0.09765255427522622,
          -0.2442068925358819,
          0.08576132761993996,
          -0.06396770700897672,
          -0.015097991077874528,
          0.3322761635124494,
          0.03700725800986363,
          0.16729090943766486,
          0.26785488828582305,
          0.09216398106818197,
          0.021610729111577808,
          0.0617355056139728,
          0.08956704240049759,
          -0.01599101605966517,
          -0.031190007681472873,
          -0.010355396703787047,
          0.021610729111577888,
          0.12198205072614686,
          0.0917856563740462,
          0.04486984006211239,
          0.04480281652269035,
          0.10313196320034214,
          0.03133852286080934,
          -0.014747638415771517,
          0.02146089977625499,
          0.14436688837402403,
          0.19226198838173741,
          0.05278777465804045,
          0.025624212877833966,
          -0.08325591778724403,
          0.014490693859904046,
          -0.08891783601704928,
          -0.013832026628764274,
          0.11441656416509602,
          -0.21731419507631544,
          -0.04504320565783444,
          0.032570099409413376,
          0.6258920119827688,
          -0.01608081743473356,
          0.15987750150561422,
          0.018015845334623963,
          0.08879079018801919,
          -0.037726061528223734,
          -0.035255950637517616,
          0.12275919068056272,
          0.6146400549264153,
          0.059507636679918444,
          -0.03874465690664314,
          0.6056142130154781,
          0.08389000555260148,
          0.04544549046341851,
          0.08516876095561625,
          -0.03428408204090131,
          0.19488672764545809,
          -0.2246558031673468,
          -0.013645815128903645,
          0.08137075102914954,
          -0.1616932667346697,
          0.10232047070821076,
          0.1439963931071582,
          -0.03161519550281238,
          -0.038948688350617294,
          0.06907617830867092,
          -0.03936634705357516,
          0.6610392890875683,
          -0.2903696612101061,
          0.04939674641398819,
          0.018886803877734747,
          0.0023249752892818666,
          -0.11447885405320864,
          -0.0459676227133205,
          0.01581022721089404,
          0.04089823761027437,
          -0.22893995152309593,
          0.007792689826751162
         ],
         "yaxis": "y"
        }
       ],
       "layout": {
        "font": {
         "color": "#722502",
         "size": 20
        },
        "height": 800,
        "legend": {
         "title": {
          "text": "<b>Cluster</b>"
         },
         "tracegroupgap": 0
        },
        "margin": {
         "b": 0,
         "l": 0,
         "r": 0,
         "t": 100
        },
        "paper_bgcolor": "#F7E2B1",
        "plot_bgcolor": "#F7E2B1",
        "shapes": [
         {
          "line": {
           "color": "rgba(114, 37, 2, 0.5)",
           "width": 2.5
          },
          "x0": 0,
          "x1": 1,
          "xref": "paper",
          "y0": 0,
          "y1": 0,
          "yref": "y"
         },
         {
          "line": {
           "color": "rgba(114, 37, 2, 0.5)",
           "width": 2.5
          },
          "type": "line",
          "x0": 0,
          "x1": 0,
          "xref": "x",
          "y0": 0,
          "y1": 1,
          "yref": "paper"
         }
        ],
        "template": {
         "data": {
          "bar": [
           {
            "error_x": {
             "color": "#2a3f5f"
            },
            "error_y": {
             "color": "#2a3f5f"
            },
            "marker": {
             "line": {
              "color": "#E5ECF6",
              "width": 0.5
             },
             "pattern": {
              "fillmode": "overlay",
              "size": 10,
              "solidity": 0.2
             }
            },
            "type": "bar"
           }
          ],
          "barpolar": [
           {
            "marker": {
             "line": {
              "color": "#E5ECF6",
              "width": 0.5
             },
             "pattern": {
              "fillmode": "overlay",
              "size": 10,
              "solidity": 0.2
             }
            },
            "type": "barpolar"
           }
          ],
          "carpet": [
           {
            "aaxis": {
             "endlinecolor": "#2a3f5f",
             "gridcolor": "white",
             "linecolor": "white",
             "minorgridcolor": "white",
             "startlinecolor": "#2a3f5f"
            },
            "baxis": {
             "endlinecolor": "#2a3f5f",
             "gridcolor": "white",
             "linecolor": "white",
             "minorgridcolor": "white",
             "startlinecolor": "#2a3f5f"
            },
            "type": "carpet"
           }
          ],
          "choropleth": [
           {
            "colorbar": {
             "outlinewidth": 0,
             "ticks": ""
            },
            "type": "choropleth"
           }
          ],
          "contour": [
           {
            "colorbar": {
             "outlinewidth": 0,
             "ticks": ""
            },
            "colorscale": [
             [
              0,
              "#0d0887"
             ],
             [
              0.1111111111111111,
              "#46039f"
             ],
             [
              0.2222222222222222,
              "#7201a8"
             ],
             [
              0.3333333333333333,
              "#9c179e"
             ],
             [
              0.4444444444444444,
              "#bd3786"
             ],
             [
              0.5555555555555556,
              "#d8576b"
             ],
             [
              0.6666666666666666,
              "#ed7953"
             ],
             [
              0.7777777777777778,
              "#fb9f3a"
             ],
             [
              0.8888888888888888,
              "#fdca26"
             ],
             [
              1,
              "#f0f921"
             ]
            ],
            "type": "contour"
           }
          ],
          "contourcarpet": [
           {
            "colorbar": {
             "outlinewidth": 0,
             "ticks": ""
            },
            "type": "contourcarpet"
           }
          ],
          "heatmap": [
           {
            "colorbar": {
             "outlinewidth": 0,
             "ticks": ""
            },
            "colorscale": [
             [
              0,
              "#0d0887"
             ],
             [
              0.1111111111111111,
              "#46039f"
             ],
             [
              0.2222222222222222,
              "#7201a8"
             ],
             [
              0.3333333333333333,
              "#9c179e"
             ],
             [
              0.4444444444444444,
              "#bd3786"
             ],
             [
              0.5555555555555556,
              "#d8576b"
             ],
             [
              0.6666666666666666,
              "#ed7953"
             ],
             [
              0.7777777777777778,
              "#fb9f3a"
             ],
             [
              0.8888888888888888,
              "#fdca26"
             ],
             [
              1,
              "#f0f921"
             ]
            ],
            "type": "heatmap"
           }
          ],
          "heatmapgl": [
           {
            "colorbar": {
             "outlinewidth": 0,
             "ticks": ""
            },
            "colorscale": [
             [
              0,
              "#0d0887"
             ],
             [
              0.1111111111111111,
              "#46039f"
             ],
             [
              0.2222222222222222,
              "#7201a8"
             ],
             [
              0.3333333333333333,
              "#9c179e"
             ],
             [
              0.4444444444444444,
              "#bd3786"
             ],
             [
              0.5555555555555556,
              "#d8576b"
             ],
             [
              0.6666666666666666,
              "#ed7953"
             ],
             [
              0.7777777777777778,
              "#fb9f3a"
             ],
             [
              0.8888888888888888,
              "#fdca26"
             ],
             [
              1,
              "#f0f921"
             ]
            ],
            "type": "heatmapgl"
           }
          ],
          "histogram": [
           {
            "marker": {
             "pattern": {
              "fillmode": "overlay",
              "size": 10,
              "solidity": 0.2
             }
            },
            "type": "histogram"
           }
          ],
          "histogram2d": [
           {
            "colorbar": {
             "outlinewidth": 0,
             "ticks": ""
            },
            "colorscale": [
             [
              0,
              "#0d0887"
             ],
             [
              0.1111111111111111,
              "#46039f"
             ],
             [
              0.2222222222222222,
              "#7201a8"
             ],
             [
              0.3333333333333333,
              "#9c179e"
             ],
             [
              0.4444444444444444,
              "#bd3786"
             ],
             [
              0.5555555555555556,
              "#d8576b"
             ],
             [
              0.6666666666666666,
              "#ed7953"
             ],
             [
              0.7777777777777778,
              "#fb9f3a"
             ],
             [
              0.8888888888888888,
              "#fdca26"
             ],
             [
              1,
              "#f0f921"
             ]
            ],
            "type": "histogram2d"
           }
          ],
          "histogram2dcontour": [
           {
            "colorbar": {
             "outlinewidth": 0,
             "ticks": ""
            },
            "colorscale": [
             [
              0,
              "#0d0887"
             ],
             [
              0.1111111111111111,
              "#46039f"
             ],
             [
              0.2222222222222222,
              "#7201a8"
             ],
             [
              0.3333333333333333,
              "#9c179e"
             ],
             [
              0.4444444444444444,
              "#bd3786"
             ],
             [
              0.5555555555555556,
              "#d8576b"
             ],
             [
              0.6666666666666666,
              "#ed7953"
             ],
             [
              0.7777777777777778,
              "#fb9f3a"
             ],
             [
              0.8888888888888888,
              "#fdca26"
             ],
             [
              1,
              "#f0f921"
             ]
            ],
            "type": "histogram2dcontour"
           }
          ],
          "mesh3d": [
           {
            "colorbar": {
             "outlinewidth": 0,
             "ticks": ""
            },
            "type": "mesh3d"
           }
          ],
          "parcoords": [
           {
            "line": {
             "colorbar": {
              "outlinewidth": 0,
              "ticks": ""
             }
            },
            "type": "parcoords"
           }
          ],
          "pie": [
           {
            "automargin": true,
            "type": "pie"
           }
          ],
          "scatter": [
           {
            "marker": {
             "colorbar": {
              "outlinewidth": 0,
              "ticks": ""
             }
            },
            "type": "scatter"
           }
          ],
          "scatter3d": [
           {
            "line": {
             "colorbar": {
              "outlinewidth": 0,
              "ticks": ""
             }
            },
            "marker": {
             "colorbar": {
              "outlinewidth": 0,
              "ticks": ""
             }
            },
            "type": "scatter3d"
           }
          ],
          "scattercarpet": [
           {
            "marker": {
             "colorbar": {
              "outlinewidth": 0,
              "ticks": ""
             }
            },
            "type": "scattercarpet"
           }
          ],
          "scattergeo": [
           {
            "marker": {
             "colorbar": {
              "outlinewidth": 0,
              "ticks": ""
             }
            },
            "type": "scattergeo"
           }
          ],
          "scattergl": [
           {
            "marker": {
             "colorbar": {
              "outlinewidth": 0,
              "ticks": ""
             }
            },
            "type": "scattergl"
           }
          ],
          "scattermapbox": [
           {
            "marker": {
             "colorbar": {
              "outlinewidth": 0,
              "ticks": ""
             }
            },
            "type": "scattermapbox"
           }
          ],
          "scatterpolar": [
           {
            "marker": {
             "colorbar": {
              "outlinewidth": 0,
              "ticks": ""
             }
            },
            "type": "scatterpolar"
           }
          ],
          "scatterpolargl": [
           {
            "marker": {
             "colorbar": {
              "outlinewidth": 0,
              "ticks": ""
             }
            },
            "type": "scatterpolargl"
           }
          ],
          "scatterternary": [
           {
            "marker": {
             "colorbar": {
              "outlinewidth": 0,
              "ticks": ""
             }
            },
            "type": "scatterternary"
           }
          ],
          "surface": [
           {
            "colorbar": {
             "outlinewidth": 0,
             "ticks": ""
            },
            "colorscale": [
             [
              0,
              "#0d0887"
             ],
             [
              0.1111111111111111,
              "#46039f"
             ],
             [
              0.2222222222222222,
              "#7201a8"
             ],
             [
              0.3333333333333333,
              "#9c179e"
             ],
             [
              0.4444444444444444,
              "#bd3786"
             ],
             [
              0.5555555555555556,
              "#d8576b"
             ],
             [
              0.6666666666666666,
              "#ed7953"
             ],
             [
              0.7777777777777778,
              "#fb9f3a"
             ],
             [
              0.8888888888888888,
              "#fdca26"
             ],
             [
              1,
              "#f0f921"
             ]
            ],
            "type": "surface"
           }
          ],
          "table": [
           {
            "cells": {
             "fill": {
              "color": "#EBF0F8"
             },
             "line": {
              "color": "white"
             }
            },
            "header": {
             "fill": {
              "color": "#C8D4E3"
             },
             "line": {
              "color": "white"
             }
            },
            "type": "table"
           }
          ]
         },
         "layout": {
          "annotationdefaults": {
           "arrowcolor": "#2a3f5f",
           "arrowhead": 0,
           "arrowwidth": 1
          },
          "autotypenumbers": "strict",
          "coloraxis": {
           "colorbar": {
            "outlinewidth": 0,
            "ticks": ""
           }
          },
          "colorscale": {
           "diverging": [
            [
             0,
             "#8e0152"
            ],
            [
             0.1,
             "#c51b7d"
            ],
            [
             0.2,
             "#de77ae"
            ],
            [
             0.3,
             "#f1b6da"
            ],
            [
             0.4,
             "#fde0ef"
            ],
            [
             0.5,
             "#f7f7f7"
            ],
            [
             0.6,
             "#e6f5d0"
            ],
            [
             0.7,
             "#b8e186"
            ],
            [
             0.8,
             "#7fbc41"
            ],
            [
             0.9,
             "#4d9221"
            ],
            [
             1,
             "#276419"
            ]
           ],
           "sequential": [
            [
             0,
             "#0d0887"
            ],
            [
             0.1111111111111111,
             "#46039f"
            ],
            [
             0.2222222222222222,
             "#7201a8"
            ],
            [
             0.3333333333333333,
             "#9c179e"
            ],
            [
             0.4444444444444444,
             "#bd3786"
            ],
            [
             0.5555555555555556,
             "#d8576b"
            ],
            [
             0.6666666666666666,
             "#ed7953"
            ],
            [
             0.7777777777777778,
             "#fb9f3a"
            ],
            [
             0.8888888888888888,
             "#fdca26"
            ],
            [
             1,
             "#f0f921"
            ]
           ],
           "sequentialminus": [
            [
             0,
             "#0d0887"
            ],
            [
             0.1111111111111111,
             "#46039f"
            ],
            [
             0.2222222222222222,
             "#7201a8"
            ],
            [
             0.3333333333333333,
             "#9c179e"
            ],
            [
             0.4444444444444444,
             "#bd3786"
            ],
            [
             0.5555555555555556,
             "#d8576b"
            ],
            [
             0.6666666666666666,
             "#ed7953"
            ],
            [
             0.7777777777777778,
             "#fb9f3a"
            ],
            [
             0.8888888888888888,
             "#fdca26"
            ],
            [
             1,
             "#f0f921"
            ]
           ]
          },
          "colorway": [
           "#636efa",
           "#EF553B",
           "#00cc96",
           "#ab63fa",
           "#FFA15A",
           "#19d3f3",
           "#FF6692",
           "#B6E880",
           "#FF97FF",
           "#FECB52"
          ],
          "font": {
           "color": "#2a3f5f"
          },
          "geo": {
           "bgcolor": "white",
           "lakecolor": "white",
           "landcolor": "#E5ECF6",
           "showlakes": true,
           "showland": true,
           "subunitcolor": "white"
          },
          "hoverlabel": {
           "align": "left"
          },
          "hovermode": "closest",
          "mapbox": {
           "style": "light"
          },
          "paper_bgcolor": "white",
          "plot_bgcolor": "#E5ECF6",
          "polar": {
           "angularaxis": {
            "gridcolor": "white",
            "linecolor": "white",
            "ticks": ""
           },
           "bgcolor": "#E5ECF6",
           "radialaxis": {
            "gridcolor": "white",
            "linecolor": "white",
            "ticks": ""
           }
          },
          "scene": {
           "xaxis": {
            "backgroundcolor": "#E5ECF6",
            "gridcolor": "white",
            "gridwidth": 2,
            "linecolor": "white",
            "showbackground": true,
            "ticks": "",
            "zerolinecolor": "white"
           },
           "yaxis": {
            "backgroundcolor": "#E5ECF6",
            "gridcolor": "white",
            "gridwidth": 2,
            "linecolor": "white",
            "showbackground": true,
            "ticks": "",
            "zerolinecolor": "white"
           },
           "zaxis": {
            "backgroundcolor": "#E5ECF6",
            "gridcolor": "white",
            "gridwidth": 2,
            "linecolor": "white",
            "showbackground": true,
            "ticks": "",
            "zerolinecolor": "white"
           }
          },
          "shapedefaults": {
           "line": {
            "color": "#2a3f5f"
           }
          },
          "ternary": {
           "aaxis": {
            "gridcolor": "white",
            "linecolor": "white",
            "ticks": ""
           },
           "baxis": {
            "gridcolor": "white",
            "linecolor": "white",
            "ticks": ""
           },
           "bgcolor": "#E5ECF6",
           "caxis": {
            "gridcolor": "white",
            "linecolor": "white",
            "ticks": ""
           }
          },
          "title": {
           "x": 0.05
          },
          "xaxis": {
           "automargin": true,
           "gridcolor": "white",
           "linecolor": "white",
           "ticks": "",
           "title": {
            "standoff": 15
           },
           "zerolinecolor": "white",
           "zerolinewidth": 2
          },
          "yaxis": {
           "automargin": true,
           "gridcolor": "white",
           "linecolor": "white",
           "ticks": "",
           "title": {
            "standoff": 15
           },
           "zerolinecolor": "white",
           "zerolinewidth": 2
          }
         }
        },
        "title": {
         "text": "<b>What's in your ulam, pare?</b>",
         "x": 0.5,
         "xanchor": "center",
         "yanchor": "top"
        },
        "width": 1000,
        "xaxis": {
         "anchor": "y",
         "domain": [
          0,
          1
         ],
         "gridcolor": "#F7E2B1",
         "linecolor": "#722502",
         "linewidth": 2,
         "range": [
          -1,
          1
         ],
         "showline": true,
         "title": {
          "text": "<b>Vegetable Range</b>"
         }
        },
        "yaxis": {
         "anchor": "x",
         "domain": [
          0,
          1
         ],
         "gridcolor": "#F7E2B1",
         "linecolor": "#722502",
         "linewidth": 2,
         "range": [
          -1,
          1
         ],
         "showline": true,
         "title": {
          "text": "<b>Flavor Range</b>"
         }
        }
       }
      },
      "text/html": [
       "<div>                            <div id=\"10fefda1-fd25-4207-837e-8026ca5fc53b\" class=\"plotly-graph-div\" style=\"height:800px; width:1000px;\"></div>            <script type=\"text/javascript\">                require([\"plotly\"], function(Plotly) {                    window.PLOTLYENV=window.PLOTLYENV || {};                                    if (document.getElementById(\"10fefda1-fd25-4207-837e-8026ca5fc53b\")) {                    Plotly.newPlot(                        \"10fefda1-fd25-4207-837e-8026ca5fc53b\",                        [{\"customdata\":[[\"Sinarsahang Manok\"],[\"Pork Menudo with Ham Recipe\"],[\"Afritadang Baboy Recipe\"],[\"Special Pork Kaldereta\"],[\"Calderetang Baboy Recipe\"],[\"Spicy Pork Kaldereta\"],[\"Pork Kaldereta sa Gata\"],[\"Healthy Chicken Menudo\"],[\"Pinoy Pork and Chicken Curry\"],[\"Spareribs Kaldereta\"],[\"Pork Menudo sa Gata\"],[\"Pork Caldereta Recipe\"],[\"Chicken Afritada with Bell Pepper\"],[\"Special Chicken Embutido Recipe (Filipino Chicken Meatloaf)\"],[\"Chicken Curry\"],[\"Sarciadong Manok\"],[\"Chicken Caldereta\"],[\"Pork Mechado Recipe\"],[\"KBL (Kadyos, Baboy, at Langka) Recipe\"],[\"Pinoy Chicken Curry Recipe\"],[\"How To Cook Beef Kaldereta\"],[\"Beef Kaldereta sa Gata with Peanut Butter\"],[\"Beef Kaldereta Recipe\"],[\"Pininyahang Manok sa Gata (Pineapple Chicken in Coconut Milk)\"],[\"Mechadong Baka Recipe\"],[\"Chicken Igado\"],[\"Pineapple Chicken Afritada\"]],\"hovertemplate\":\"<b>Cluster</b>=Saucy Crops<br><b>Vegetable Range</b>=%{x}<br><b>Flavor Range</b>=%{y}<br><b>Dish Name</b>=%{customdata[0]}<extra></extra>\",\"legendgroup\":\"Saucy Crops\",\"marker\":{\"color\":\"#DA4D2E\",\"size\":14,\"symbol\":\"circle\"},\"mode\":\"markers\",\"name\":\"Saucy Crops\",\"orientation\":\"v\",\"showlegend\":true,\"textfont\":{\"color\":\"#99D072\"},\"textposition\":\"top right\",\"type\":\"scatter\",\"x\":[0.4628144444403887,0.7076290788069554,0.5082310391560247,0.6546194692445557,0.5869038298609611,0.4351717331524869,0.8210610195404827,0.8532723152185384,0.6936033132967843,0.6443368694633277,0.476378457373133,0.9178762643308715,0.8432635665125456,0.8809064091130812,0.45765318141104194,0.2983095942759831,1.3246436891342923,0.43201021100023074,0.013242021454267141,0.5625464514414286,0.672674806462952,0.4542246061690789,0.924459635184295,1.2004804588612794,0.06410480920025277,0.21314171793146677,0.9580847543195228],\"xaxis\":\"x\",\"y\":[0.04343671943068493,-0.09477790073349326,-0.06971540712020972,-0.09890858078884092,-0.0839775216392856,-0.04774410415504404,0.004236017479281216,-0.06468906231050449,-0.08349560404033597,-0.08752865980398289,-0.04152807319354061,-0.11794454912023306,0.04831797505874708,0.07280394956632377,0.06994059142605376,0.18309494119311262,0.04268417416918112,-0.1398089711442563,0.007450291242655956,0.016133958241874496,-0.08047196480095913,-0.1042517322868485,-0.05127716248933942,0.03030197651192777,0.006981641377123609,-0.011244997518330909,0.050109563802198324],\"yaxis\":\"y\"},{\"customdata\":[[\"Beef Short Rib Kare Kare\"],[\"Crispy Kare-kare Recipe\"],[\"How To Make Pata Kare-Kare\"],[\"Oxtail Kare-Kare Recipe\"],[\"How to Cook Chicken Kare-Kare sa Gata\"],[\"Pork Kare Kare Recipe\"],[\"Bulalo Kare-kare\"],[\"Chicken Kare Kare Recipe\"]],\"hovertemplate\":\"<b>Cluster</b>=Nutty Sauce<br><b>Vegetable Range</b>=%{x}<br><b>Flavor Range</b>=%{y}<br><b>Dish Name</b>=%{customdata[0]}<extra></extra>\",\"legendgroup\":\"Nutty Sauce\",\"marker\":{\"color\":\"#F4903E\",\"size\":14,\"symbol\":\"circle\"},\"mode\":\"markers\",\"name\":\"Nutty Sauce\",\"orientation\":\"v\",\"showlegend\":true,\"textfont\":{\"color\":\"#99D072\"},\"textposition\":\"top right\",\"type\":\"scatter\",\"x\":[-0.30982576120633654,-0.5990089238515419,-0.45551251617917077,-0.38757129463950785,-0.010925708452827672,-0.49576354092730124,-0.4427324023562172,0.2147373341366075],\"xaxis\":\"x\",\"y\":[-0.9121896057692691,-1.173160813592443,-0.6606006442441705,-0.9575434798489321,-0.5847935328495915,-0.7490099696659593,-0.864980682775032,-0.5377738577277094],\"yaxis\":\"y\"},{\"customdata\":[[\"Sinigang na Buntot ng Baboy with Gabi\"],[\"Sinigang na Pata with Gabi\"],[\"Corned Beef Sinigang\"],[\"Beef Ribs Sinigang\"],[\"Beef Short Rib Sinigang Na May Pakwan\"],[\"Pork Chop Sinigang\"],[\"Sinigang na Lechon\"],[\"Sinigang\"]],\"hovertemplate\":\"<b>Cluster</b>=Sour Soup<br><b>Vegetable Range</b>=%{x}<br><b>Flavor Range</b>=%{y}<br><b>Dish Name</b>=%{customdata[0]}<extra></extra>\",\"legendgroup\":\"Sour Soup\",\"marker\":{\"color\":\"#8D9F38\",\"size\":14,\"symbol\":\"circle\"},\"mode\":\"markers\",\"name\":\"Sour Soup\",\"orientation\":\"v\",\"showlegend\":true,\"textfont\":{\"color\":\"#99D072\"},\"textposition\":\"top right\",\"type\":\"scatter\",\"x\":[-0.29255543652546917,-0.342874660180909,-0.33208010698114354,-0.31896220266177994,-0.18233117698757056,-0.2828302899567323,-0.22820184455881853,-0.20842378183363142],\"xaxis\":\"x\",\"y\":[0.750624815797782,1.1630678402119088,1.2610380551690032,1.165351956625367,0.8340120072779481,1.044269837254462,0.7463141826346228,0.7075739781155154],\"yaxis\":\"y\"},{\"customdata\":[[\"Dinaldalem Recipe (Igado \\u2013 Liver and Pork Adobo)\"],[\"Pork Pochero Recipe\"],[\"Pata Pochero\"],[\"Pocherong Baka Recipe\"],[\"Pochero with Pork and Beans\"],[\"Pocherong Baboy Recipe\"],[\"Nilagang Baka Recipe\"],[\"Chicken Pochero\"],[\"Pochero Recipe\"],[\"Nilagang Manok\"],[\"Puchero Bulalo Recipe (Beef Shank Pochero)\"]],\"hovertemplate\":\"<b>Cluster</b>=Salty Soup<br><b>Vegetable Range</b>=%{x}<br><b>Flavor Range</b>=%{y}<br><b>Dish Name</b>=%{customdata[0]}<extra></extra>\",\"legendgroup\":\"Salty Soup\",\"marker\":{\"color\":\"#EFC564\",\"size\":14,\"symbol\":\"circle\"},\"mode\":\"markers\",\"name\":\"Salty Soup\",\"orientation\":\"v\",\"showlegend\":true,\"textfont\":{\"color\":\"#99D072\"},\"textposition\":\"top right\",\"type\":\"scatter\",\"x\":[-0.07880675622338362,-0.08405414806875455,-0.10038872983192543,-0.0063363484353871884,-0.1608862924813047,-0.0965567387185449,0.1948378625864121,0.3961674216498596,0.018820689828209218,0.3438203000554299,-0.014621322863244695],\"xaxis\":\"x\",\"y\":[-0.0633474979320108,-0.1701862423843582,-0.11103823749573069,-0.2068229994582741,-0.16717275790341732,-0.1968369327811368,-0.3350192390909991,-0.20436575803454904,-0.13975096693786243,-0.1805617730341931,-0.21374842022263776],\"yaxis\":\"y\"},{\"customdata\":[[\"Lechon Kawali\"],[\"Crispy Pata\"],[\"Pata Paksiw Recipe\"],[\"Lechon Belly Pork Adobo Recipe\"],[\"Lechon Paksiw Recipe\"],[\"Crispy Tenga Recipe (Crispy Pig Ears)\"],[\"Basic Pork Adobo Recipe\"],[\"Adobong Baboy sa Gata (Pork Adobo in Coconut Milk)\"],[\"Chicken Adobong Puti\"],[\"Crispy Bagbagis (Crispy Deep Fried Pork Intestine)\"],[\"Sprite Pork Adobo Recipe\"],[\"Easy Lechon Paksiw\"],[\"Lechon Carajay Recipe\"],[\"Paksiw na Lechon Kawali\"],[\"Chicken Paksiw Recipe\"],[\"Crispy Dinakdakan Recipe\"],[\"Easy Chicken Adobo Recipe\"],[\"Filipino Chicken Adobo Recipe\"],[\"Crispy Pork Belly Chicharon\"],[\"Crispy Pata Recipe\"],[\"Lechon Kawali Recipe\"],[\"Pork and Chicken Adobo Recipe\"],[\"Adobong Manok sa Gata\"],[\"Chicken Adobo sa Gata\"],[\"Killer Chicken Adobo\"],[\"Ketchup Fried Chicken\"],[\"Beef Asado Recipe\"],[\"How To Cook Super Crispy Lechon Kawali\"],[\"Sous Vide Chicken Adobo\"],[\"Extremely Spicy Pork Adobo na Tuyo\"],[\"How to Cook Pork Bagnet\"]],\"hovertemplate\":\"<b>Cluster</b>=Soy Vinegar<br><b>Vegetable Range</b>=%{x}<br><b>Flavor Range</b>=%{y}<br><b>Dish Name</b>=%{customdata[0]}<extra></extra>\",\"legendgroup\":\"Soy Vinegar\",\"marker\":{\"color\":\"#722502\",\"size\":14,\"symbol\":\"circle\"},\"mode\":\"markers\",\"name\":\"Soy Vinegar\",\"orientation\":\"v\",\"showlegend\":true,\"textfont\":{\"color\":\"#99D072\"},\"textposition\":\"top right\",\"type\":\"scatter\",\"x\":[-0.28822583436493493,-0.5176102034309432,-0.46611146052847574,-0.31490229432470485,-0.5377330299386942,-0.39979120516937333,-0.4014044152709761,-0.4205640588850672,-0.057606178711795214,-0.24771390419324849,-0.42234308788709557,-0.367761404587605,-0.47605173181640137,-0.3163658148799188,-0.08371454228885632,-0.5648845612806894,0.005708190608143241,0.0009170280442035997,-0.31091277152471036,-0.4979051271558172,-0.25328589476223573,-0.20455855076672635,-0.09329815256089237,0.12590757235667135,0.1467059022066762,-0.3379796625091298,-0.3367588794584352,-0.30992663991425656,-0.07247719060657408,-0.5875203911557154,-0.21078499614890917],\"xaxis\":\"x\",\"y\":[0.13256976825444344,0.08052106694492267,0.03327714203384779,0.02367575002245764,0.08018094365492502,0.06808563638934922,0.001696797401063388,-0.014809743248091853,0.07557611549982042,0.10435084974900263,0.015446627956085455,0.056753514256886045,0.08555484937387411,0.0769750733622483,0.061941583845277585,0.1985026984661813,0.167783517937392,0.06017745851944295,0.1601085913450494,0.22113671440620036,0.11482230884091955,0.10019287847057849,0.0828687418080886,0.1558157594042652,0.20148816832277128,0.009864014503198393,0.042368768922046614,0.12267432854369023,0.15081372545236266,0.15541649126828833,0.08268721326444953],\"yaxis\":\"y\"},{\"customdata\":[[\"Pork Barbecue\"],[\"Pork Estofado Recipe\"],[\"Pork Adobo\"],[\"Sweet Pata Asado\"],[\"Spicy Tokwat Baboy Recipe\"],[\"Coke Pork Adobo\"],[\"Lechon Belly Roll\"],[\"Sinantomas\"],[\"Filipino Fried Pork Chop Recipe with Tomato and Salted Egg\"],[\"Easy Liempo Inihaw\"],[\"Root Beer Pork Steak\"],[\"Pork Adobo with Tokwa and Tausi and Garlic Fried Rice Adobo\"],[\"Liempo Estofado Recipe\"],[\"Rellenong Talong Recipe (Stuffed Eggplant)\"],[\"Tokwa at Baboy Humba (Pork Humba with Tofu)\"],[\"Hamonadong Baboy\"],[\"Estofadong Baboy Recipe\"],[\"Pork Menudo sa Gata Recipe\"],[\"7up Chicken Asado\"],[\"Pork Pata Humba Recipe\"],[\"Filipino Style Pork BBQ\"],[\"Pork Adobo with Sitaw Recipe\"],[\"Grilled Pork Belly with Garlic Fried Rice and Fried Egg \\u2013 Liempo Sinangag Itlog\"],[\"How to Cook Humba (Bisaya Version)\"],[\"Chicken Molo Soup Recipe\"],[\"Chicken Barbecue\"],[\"Crispy Lechon Belly Recipe\"],[\"Pata Estofado\"],[\"Chicken Adobo with Egg\"],[\"Pata Tim Recipe\"],[\"Coca Cola Beef Tapa\"],[\"How to Cook Crispy Pork Knuckles\"],[\"Ampalaya con Carne Recipe\"],[\"Humba Recipe\"]],\"hovertemplate\":\"<b>Cluster</b>=Soy Sweet<br><b>Vegetable Range</b>=%{x}<br><b>Flavor Range</b>=%{y}<br><b>Dish Name</b>=%{customdata[0]}<extra></extra>\",\"legendgroup\":\"Soy Sweet\",\"marker\":{\"color\":\"#cc9500\",\"size\":14,\"symbol\":\"circle\"},\"mode\":\"markers\",\"name\":\"Soy Sweet\",\"orientation\":\"v\",\"showlegend\":true,\"textfont\":{\"color\":\"#99D072\"},\"textposition\":\"top right\",\"type\":\"scatter\",\"x\":[-0.32715531565185074,-0.06172619632572063,-0.30570997315056275,-0.30292546345460675,-0.555110144726758,-0.44404662601626355,-0.5071822453004761,-0.328991839876159,-0.2681393864888845,-0.2299241342580455,-0.2527449663535956,-0.5351768630897524,-0.10830824602939502,-0.36871239175429765,-0.30521863234324154,-0.358527026581667,-0.3050449429796152,0.03703763460745463,-0.3277437214001246,-0.41847291562257216,-0.349424890503937,-0.22221863473834788,-0.20238430290314907,-0.3969315814142628,-0.10260936944990254,-0.14679769739793913,-0.34579096124333963,-0.34168399110985176,-0.23415457904416842,-0.3209423015258349,-0.15985357679634085,-0.3749207812301125,-0.16997855032585862,-0.32468456474104845],\"xaxis\":\"x\",\"y\":[-0.11796547293505687,0.031062613123162774,0.07935644880459881,-0.0695054876660512,0.3441084261833213,0.005729750074548642,-0.07351233079999721,-0.058983407910371426,-0.15293252736815635,-0.09485426755203616,-0.06569253790191293,-0.1135994865021926,-0.03330701105158265,-0.07479125344331296,-0.10458918250900752,-0.08693586584547015,-0.11116852205024093,-0.002153549805639747,-0.001990539653815748,-0.09578019828025172,-0.028833619922854107,-0.07888609705013651,-0.09641943489699989,-0.18689527564804131,-0.17061945989998437,0.016262061712562396,0.006034655543786421,-0.015394725528714553,-0.013233771648070599,-0.13905570877840842,-0.025743663189331807,0.06082709337548813,-0.1364368185777217,-0.1648641713674838],\"yaxis\":\"y\"},{\"customdata\":[[\"Christmas Chicken and Ham Macaroni Salad\"],[\"Filipino Style Spaghetti Recipe\"],[\"Pinoy Style Chicken Macaroni Salad\"],[\"Meaty Spaghetti\"],[\"Pork Menudo Recipe\"],[\"How to Cook Embutido\"],[\"Filipino Pork Menudo Recipe\"],[\"Pork Embutido (Steamed Filipino Meatloaf)\"],[\"Morcon Recipe\"],[\"Fiesta Menudo\"]],\"hovertemplate\":\"<b>Cluster</b>=Red Sweet<br><b>Vegetable Range</b>=%{x}<br><b>Flavor Range</b>=%{y}<br><b>Dish Name</b>=%{customdata[0]}<extra></extra>\",\"legendgroup\":\"Red Sweet\",\"marker\":{\"color\":\"#FA6961\",\"size\":14,\"symbol\":\"circle\"},\"mode\":\"markers\",\"name\":\"Red Sweet\",\"orientation\":\"v\",\"showlegend\":true,\"textfont\":{\"color\":\"#99D072\"},\"textposition\":\"top right\",\"type\":\"scatter\",\"x\":[0.20378729432589868,-0.030864304602504247,0.3329564909270871,-0.0840607274696421,-0.039229701337002286,0.43025557491105587,0.04241443459556892,0.4197511608464161,0.14459398010616695,0.11742938774711972],\"xaxis\":\"x\",\"y\":[0.07167641531979328,-0.014569987286081748,0.04619798664219907,0.007055792414433134,-0.04798282506438526,-0.01764824011644242,-0.037030504997137725,-0.02376631220910796,-0.01794528109305813,-0.049323624060582674],\"yaxis\":\"y\"},{\"customdata\":[[\"Grilled Liver Bistek\"],[\"Spicy Ginataang Baboy with Papaya and Malunggay\"],[\"Chicken Lollipop Recipe\"],[\"Dinardaraan Recipe (Ilocano Dinuguan)\"],[\"Pork Tenderloin Salpicao\"],[\"Adobong Okra with Pork Recipe\"],[\"Pork Chop Bicol Express Recipe\"],[\"Panlasang Pinoy Spaghetti\"],[\"Chicken Mami Recipe\"],[\"Tinumis Recipe\"],[\"Dinuguan Laman-Loob Recipe (Blood Stew)\"],[\"Cheesy Chicken Afritada Recipe\"],[\"Beef Papaitan\"],[\"Beef Salpicao\"],[\"Nilagang Buto-buto ng Baka Recipe\"],[\"Chicken Binagoongan Recipe\"],[\"Nilagang Baka ala Bulalo\"],[\"Gotong Batangas Recipe\"],[\"Corned Beef with Cabbage and Potato\"],[\"Bulalo Beef Pares Recipe\"],[\"Sinabawang Corned Beef Recipe\"],[\"Lengua in White Mushroom Sauce\"],[\"Filipino Beef Morcon with Garlic Fried Rice and Eggs\"],[\"Deep Fried Bulalo with Restaurant Style Teriyaki Sauce\"],[\"Slow Cooked Beefsteak (Bistek Tagalog)\"],[\"Classic Beef Morcon Recipe\"],[\"Crockpot Beef Pares Recipe\"],[\"Corned Beef Silog\"],[\"Bistek Silog\"],[\"Beef Kare-Kare Recipe\"],[\"Cansi Recipe (Ilonggo Bulalo and Sinigang in one Delicious Soup Dish)\"],[\"Beef Batchoy with Liver and Bung\"],[\"Papaitan Recipe\"],[\"Beef Mechado Recipe\"],[\"Beef Pares Mami Noodles Recipe\"],[\"Beef Bulalo Recipe\"],[\"Sauteed Green Beans with Ground Beef\"],[\"Beef Tinola Recipe\"],[\"Burger Steak\"],[\"Beef Pares sa Kanto\"],[\"How to Make Goto Lamang Loob and Tokwa\\u2019t Baboy\"],[\"Kinamatisang Baka\"],[\"Chicken Sotanghon Soup with Malunggay and Sayote\"],[\"Corned Beef Lomi Batangas Style\"],[\"Saucy Beef with Broccoli\"],[\"Beef Hinalang\"],[\"Maxs Style Fried Chicken with Kamote Fries\"],[\"Bulalugaw (Bulalo + Lugaw)\"],[\"Kare-Kare Recipe (Beef Tripe)\"],[\"Tapsilog Recipe\"],[\"Beef Pares Recipe\"],[\"Bistek Tagalog Recipe \\u2013 Pinoy Beefsteak\"],[\"How to Cook Kare Kare\"],[\"Ginataang Baka \\u2013 Beef in Coconut Milk with Green Beans and Spinach\"],[\"Nilagang Baka with Kalabasa \\u2013 Filipino boiled beef Soup\"],[\"How to Cook Bulalo and Tagaytay Mahogany Market Tour\"],[\"Chicken Feet in Oyster Sauce with Salted Black Beans\"],[\"Pininyahang Manok Recipe (Pineapple Chicken)\"],[\"Spicy Sotanghon Chicken Soup\"],[\"Pork Hamonado Recipe\"],[\"Inihaw na Baboy\"],[\"Ginataang Monggo with Pork Recipe\"],[\"Pork Dinuguan sa Gata Recipe\"],[\"How to Cook Chicken Pastel\"],[\"Lechon Manok Recipe\"],[\"Basic Chicken Afritada Recipe\"],[\"Filipino Chicken Macaroni Sopas\"],[\"Arroz Caldo with Tokwa (Chicken Congee with Fried Tofu)\"],[\"Spicy Chicken Feet\"],[\"Binagoongan Bagnet with Talong\"],[\"Nagmamantikang Pork Adobo\"],[\"Binagoongang Talong\"],[\"Air Fryer Crispy Pata\"],[\"Siopao Asado Recipe\"],[\"Bicol Express Gising-gising Recipe\"],[\"Creamy Chicken Sopas\"],[\"Bicol Express Recipe\"],[\"Crispy Pork Belly Chips\"],[\"Pork Dinuguan Isaw at Tenga\"],[\"Pork Ribs Binagoongan\"],[\"Chicken Pancit Recipe\"],[\"Spare Ribs Hamonado\"],[\"Paksiw na Lechon Manok\"],[\"Crispy Liempo Sinigang Rice\"],[\"Chicken Pastel in a Cup\"],[\"Tinolang Manok Recipe\"],[\"Bopis na Manok\"],[\"Chicken Inasal BBQ Recipe\"],[\"Bacon and Egg Filipino Chicken Adobo\"],[\"Chicken Mami\"],[\"Tinolang Manok sa Upo\"],[\"Shrimp and Chicken Pancit Canton\"],[\"How To Cook Filipino Chicken Arroz Caldo\"],[\"Chicken Nilaga with Kalabasa Recipe\"],[\"Chicken Adobo with Bacon and Egg\"],[\"Ginataang Manok Na May Luyang Dilaw\"],[\"Chicken Tinola Recipe\"],[\"Chicken Arroz Caldo Recipe\"],[\"Ginataang Manok with Sitaw at Kalabasa\"],[\"Pesang Baboy at Manok Recipe\"],[\"Chicken Soup with Misua and Patola\"],[\"Chicken Lomi Recipe\"],[\"Tinola Chicken Mami\"],[\"Tinolang Manok sa Gata Recipe\"],[\"Binakol na Manok Recipe\"],[\"Ginataang Manok with Kalabasa Recipe\"],[\"Pork Bicol Express\"],[\"Inasal\"],[\"Low-Carb Breaded Pinatisang Baboy\"],[\"Chicken Liver and Gizzard Stew with Quail Eggs and Snap Peas\"],[\"Crispy Bicol Express\"],[\"Pata at Hipon sa Gata na May Monggo at Langka\"],[\"Bicol Express ala Bebet \\u2013 Bisita Kusina Episode 1\"],[\"Pork Bola Bola Soup with Misua and Patola\"],[\"Chicken Hamonado\"],[\"Pork Ginataan Recipe\"],[\"Pork Empanada Recipe\"],[\"Ginataang Manok with Papaya\"],[\"Buffalo Pork Ribs Recipe\"],[\"Grilled Liempo with Fried Tofu\"],[\"Tortang Talong with Ground Pork Recipe\"],[\"Asadong Baboy Recipe\"],[\"Pinoy Fried Chicken Recipe\"],[\"Shrimp Monggo with Lechon Kawali\"],[\"Ginisang Monggo with Inihaw na Liempo\"],[\"Pork Nilaga Recipe\"],[\"Pork Monggo Recipe\"],[\"Quick and Easy Fried Chicken\"],[\"Sizzling Liempo Sisig Recipe\"],[\"Chicken Sotanghon Soup\"],[\"Ginataang Lechon Kawali with Kalabasa and Long Green Beans\"],[\"Pork Dinakdakan Recipe\"],[\"Crispy Pork Binagoongan\"],[\"Pork Siomai Recipe\"],[\"Chicken Lumpia\"],[\"Turbo Crispy Liempo\"],[\"Sizzling Crispy Sisig\"],[\"Crispy Dinuguan\"],[\"Paklay Recipe\"],[\"Pork Lomi\"],[\"Dinuguan Recipe\"],[\"Pinoy Pork Barbecue\"],[\"Sinigang na Baboy with Gabi\"],[\"Binagoongan Recipe\"],[\"Deep Fried Siomai\"],[\"Lumpia Recipe\"],[\"Bulalo Recipe\"],[\"How to Cook Bicol Express\"],[\"Skinless Longganisa Recipe\"],[\"Chicken Bicol Express\"],[\"Sisig\"],[\"Chicken Pancit Habhab\"],[\"Lengua Estofada Recipe\"]],\"hovertemplate\":\"<b>Cluster</b>=Others<br><b>Vegetable Range</b>=%{x}<br><b>Flavor Range</b>=%{y}<br><b>Dish Name</b>=%{customdata[0]}<extra></extra>\",\"legendgroup\":\"Others\",\"marker\":{\"color\":\"rgba(249, 248, 252, 0.4)\",\"size\":14,\"symbol\":\"circle\"},\"mode\":\"markers\",\"name\":\"Others\",\"orientation\":\"v\",\"showlegend\":true,\"textfont\":{\"color\":\"#99D072\"},\"textposition\":\"top right\",\"type\":\"scatter\",\"x\":[-0.1373359354075424,-0.160666167814395,-0.0812010491867847,-0.21109139188719214,-0.138882191188796,-0.20324571890363674,-0.2873851705028466,-0.05428135897819132,0.1510122705945513,-0.26125299280554515,-0.24232386931762823,0.8989844452536764,-0.20136936709192546,-0.0678032083607325,0.004631554151086761,0.12235497100602333,0.005329323375513959,-0.14134026847049072,-0.054101352397251515,-0.2182345399926971,0.00770792133419017,-0.16716117228481686,-0.005187571415883819,-0.2421350237999966,-0.1175602565943433,0.05193167916090415,-0.15778563074784172,-0.06343167815919189,0.007461768769348165,-0.16922449600919567,-0.21353397530732884,-0.1662904162978328,-0.17969175399133805,-0.1161183842710688,-0.05783445834913269,-0.04103122863669294,-0.06686176171294864,-0.13618909890514927,-0.019969458879363806,-0.23530372242001749,-0.4218286645502366,-0.09188622691169321,0.009073514955116177,0.04023335862653962,-0.06744707063072654,-0.29455009439029584,0.21596512862890846,-0.1119994505708033,-0.2629929630064554,-0.20829840034388009,-0.23798263740180042,-0.17873130382614308,-0.29988482581501963,-0.19626239526878703,-0.10164601904943142,-0.08150841835634594,0.12540453843328314,0.8407936667855,0.14849793878496917,-0.11098966030553838,-0.12520335373078553,-0.2880204769610062,-0.26300366628769756,0.5346975849272225,0.11260981699319952,0.4832034190784336,0.46596436000344477,-0.0005224680976913887,0.2643479125183059,-0.35523768997237093,-0.3327123787317694,-0.3497142187688533,-0.18644181058031326,-0.1567277776031327,-0.2503917410898873,0.144997325501736,-0.35069931324869014,-0.17849893860022678,-0.5544408111968434,-0.30383082987997334,0.6208219324366444,-0.15535538395489423,-0.2111938904489019,-0.2698116751540948,0.456545287790101,0.31291371275405794,0.14403107879017324,0.27002951598806807,0.17680165967940012,0.43097466246199945,0.22846147575027298,0.08566052284201284,0.18080406968738058,0.4572458142392046,0.17680165967940076,0.23083990159167153,0.02793701760667994,0.2757441104929112,0.2762089543058286,0.26396572611762636,-0.05346623001729934,0.14249894421663337,0.06981467568737429,0.2674708829207123,0.2778311585601127,0.28328917261790176,-0.23240855291689125,-0.15560827425130275,-0.08580972714620962,0.0588085076669707,-0.37799386328876267,-0.3847716218948308,-0.28424962992852615,-0.1486403620491688,0.1906029250864791,-0.3278195572300697,0.25584170841883397,0.017558507335843878,-0.15237247717348992,-0.2433990735886041,-0.10116445420761286,-0.18893935440371504,0.32676699197823955,-0.24566256404619854,-0.14129058309776116,-0.048071320896480446,-0.19908412866295355,0.1519029655922967,-0.1408840549053215,0.41220592270036877,-0.09392514455655537,-0.18159114464205736,-0.3059934484283228,0.11985267366201612,0.3242302237651619,-0.23452744149536792,-0.17506219987154042,-0.465063909030374,0.06690010032160054,-0.022391933103737216,-0.20986470041102376,-0.23738560803564698,-0.1975543770494708,-0.3294954490275673,-0.05626621827869413,0.2873988414417232,-0.03261896857838163,-0.3370765272674047,-0.16189794953118053,0.052144987724089244,-0.13428562042695125,0.10058562394170585,0.05902370479386859],\"xaxis\":\"x\",\"y\":[-0.0409629711981442,0.08301630453356408,0.039443057360027636,0.000693181971916567,-0.11134953508097478,0.13137125733275373,0.03292445537732501,0.008801431798292896,0.03484508237002199,0.18541674963464314,0.04200719964081927,0.038836022626224355,0.15207397497842476,-0.045869839414511296,-0.14325054434202755,-0.058958293008796465,0.011100594407093689,0.023091035248365574,-0.05991600889511455,-0.051694988311768,-0.02602964058506786,-0.045109665817719274,-0.006701484501690601,-0.06764718337709284,-0.05492046869621143,-0.04319591514457819,-0.05805213731004502,-0.038078941567974596,-0.005973329446519364,-0.2726408075273088,0.12976222282998848,-0.04111124014624439,-0.018836218331469912,-0.010885161798971945,0.02968385109043625,0.018908715066064365,-0.008526315158344224,0.18473291659021587,0.0041607642069322924,-0.05804835758240142,0.07672441211258582,0.04406760592972329,0.0070102969739493206,-0.02089051102907717,-0.017076497719591105,0.08008997213219542,0.24137455926968623,0.02081707242789568,-0.40111809002238624,-0.16645842693781898,-0.07435676626540921,-0.02723610174743716,-0.49538824680432486,0.12114282105750429,-0.088239487021696,0.006572724330053831,-0.007221472392259073,0.09836469598626268,0.1526828655400473,-0.02224891896390585,-0.03223313434588093,0.5768444323432373,0.030556704034542914,0.08505843984581585,0.14458320530268123,0.1179960351560159,0.07939182420900506,0.022299369316529732,0.08973703222294137,-0.2253519796072145,-0.04691036361417691,-0.20986531536160918,0.020899577244509658,-0.03514452030106933,-0.1602524194579264,-0.0005815296626820341,-0.34545863296144264,0.06658509817032317,0.09765255427522622,-0.2442068925358819,0.08576132761993996,-0.06396770700897672,-0.015097991077874528,0.3322761635124494,0.03700725800986363,0.16729090943766486,0.26785488828582305,0.09216398106818197,0.021610729111577808,0.0617355056139728,0.08956704240049759,-0.01599101605966517,-0.031190007681472873,-0.010355396703787047,0.021610729111577888,0.12198205072614686,0.0917856563740462,0.04486984006211239,0.04480281652269035,0.10313196320034214,0.03133852286080934,-0.014747638415771517,0.02146089977625499,0.14436688837402403,0.19226198838173741,0.05278777465804045,0.025624212877833966,-0.08325591778724403,0.014490693859904046,-0.08891783601704928,-0.013832026628764274,0.11441656416509602,-0.21731419507631544,-0.04504320565783444,0.032570099409413376,0.6258920119827688,-0.01608081743473356,0.15987750150561422,0.018015845334623963,0.08879079018801919,-0.037726061528223734,-0.035255950637517616,0.12275919068056272,0.6146400549264153,0.059507636679918444,-0.03874465690664314,0.6056142130154781,0.08389000555260148,0.04544549046341851,0.08516876095561625,-0.03428408204090131,0.19488672764545809,-0.2246558031673468,-0.013645815128903645,0.08137075102914954,-0.1616932667346697,0.10232047070821076,0.1439963931071582,-0.03161519550281238,-0.038948688350617294,0.06907617830867092,-0.03936634705357516,0.6610392890875683,-0.2903696612101061,0.04939674641398819,0.018886803877734747,0.0023249752892818666,-0.11447885405320864,-0.0459676227133205,0.01581022721089404,0.04089823761027437,-0.22893995152309593,0.007792689826751162],\"yaxis\":\"y\"}],                        {\"font\":{\"color\":\"#722502\",\"size\":20},\"height\":800,\"legend\":{\"title\":{\"text\":\"<b>Cluster</b>\"},\"tracegroupgap\":0},\"margin\":{\"b\":0,\"l\":0,\"r\":0,\"t\":100},\"paper_bgcolor\":\"#F7E2B1\",\"plot_bgcolor\":\"#F7E2B1\",\"shapes\":[{\"line\":{\"color\":\"rgba(114, 37, 2, 0.5)\",\"width\":2.5},\"x0\":0,\"x1\":1,\"xref\":\"paper\",\"y0\":0,\"y1\":0,\"yref\":\"y\"},{\"line\":{\"color\":\"rgba(114, 37, 2, 0.5)\",\"width\":2.5},\"type\":\"line\",\"x0\":0,\"x1\":0,\"xref\":\"x\",\"y0\":0,\"y1\":1,\"yref\":\"paper\"}],\"template\":{\"data\":{\"bar\":[{\"error_x\":{\"color\":\"#2a3f5f\"},\"error_y\":{\"color\":\"#2a3f5f\"},\"marker\":{\"line\":{\"color\":\"#E5ECF6\",\"width\":0.5},\"pattern\":{\"fillmode\":\"overlay\",\"size\":10,\"solidity\":0.2}},\"type\":\"bar\"}],\"barpolar\":[{\"marker\":{\"line\":{\"color\":\"#E5ECF6\",\"width\":0.5},\"pattern\":{\"fillmode\":\"overlay\",\"size\":10,\"solidity\":0.2}},\"type\":\"barpolar\"}],\"carpet\":[{\"aaxis\":{\"endlinecolor\":\"#2a3f5f\",\"gridcolor\":\"white\",\"linecolor\":\"white\",\"minorgridcolor\":\"white\",\"startlinecolor\":\"#2a3f5f\"},\"baxis\":{\"endlinecolor\":\"#2a3f5f\",\"gridcolor\":\"white\",\"linecolor\":\"white\",\"minorgridcolor\":\"white\",\"startlinecolor\":\"#2a3f5f\"},\"type\":\"carpet\"}],\"choropleth\":[{\"colorbar\":{\"outlinewidth\":0,\"ticks\":\"\"},\"type\":\"choropleth\"}],\"contour\":[{\"colorbar\":{\"outlinewidth\":0,\"ticks\":\"\"},\"colorscale\":[[0.0,\"#0d0887\"],[0.1111111111111111,\"#46039f\"],[0.2222222222222222,\"#7201a8\"],[0.3333333333333333,\"#9c179e\"],[0.4444444444444444,\"#bd3786\"],[0.5555555555555556,\"#d8576b\"],[0.6666666666666666,\"#ed7953\"],[0.7777777777777778,\"#fb9f3a\"],[0.8888888888888888,\"#fdca26\"],[1.0,\"#f0f921\"]],\"type\":\"contour\"}],\"contourcarpet\":[{\"colorbar\":{\"outlinewidth\":0,\"ticks\":\"\"},\"type\":\"contourcarpet\"}],\"heatmap\":[{\"colorbar\":{\"outlinewidth\":0,\"ticks\":\"\"},\"colorscale\":[[0.0,\"#0d0887\"],[0.1111111111111111,\"#46039f\"],[0.2222222222222222,\"#7201a8\"],[0.3333333333333333,\"#9c179e\"],[0.4444444444444444,\"#bd3786\"],[0.5555555555555556,\"#d8576b\"],[0.6666666666666666,\"#ed7953\"],[0.7777777777777778,\"#fb9f3a\"],[0.8888888888888888,\"#fdca26\"],[1.0,\"#f0f921\"]],\"type\":\"heatmap\"}],\"heatmapgl\":[{\"colorbar\":{\"outlinewidth\":0,\"ticks\":\"\"},\"colorscale\":[[0.0,\"#0d0887\"],[0.1111111111111111,\"#46039f\"],[0.2222222222222222,\"#7201a8\"],[0.3333333333333333,\"#9c179e\"],[0.4444444444444444,\"#bd3786\"],[0.5555555555555556,\"#d8576b\"],[0.6666666666666666,\"#ed7953\"],[0.7777777777777778,\"#fb9f3a\"],[0.8888888888888888,\"#fdca26\"],[1.0,\"#f0f921\"]],\"type\":\"heatmapgl\"}],\"histogram\":[{\"marker\":{\"pattern\":{\"fillmode\":\"overlay\",\"size\":10,\"solidity\":0.2}},\"type\":\"histogram\"}],\"histogram2d\":[{\"colorbar\":{\"outlinewidth\":0,\"ticks\":\"\"},\"colorscale\":[[0.0,\"#0d0887\"],[0.1111111111111111,\"#46039f\"],[0.2222222222222222,\"#7201a8\"],[0.3333333333333333,\"#9c179e\"],[0.4444444444444444,\"#bd3786\"],[0.5555555555555556,\"#d8576b\"],[0.6666666666666666,\"#ed7953\"],[0.7777777777777778,\"#fb9f3a\"],[0.8888888888888888,\"#fdca26\"],[1.0,\"#f0f921\"]],\"type\":\"histogram2d\"}],\"histogram2dcontour\":[{\"colorbar\":{\"outlinewidth\":0,\"ticks\":\"\"},\"colorscale\":[[0.0,\"#0d0887\"],[0.1111111111111111,\"#46039f\"],[0.2222222222222222,\"#7201a8\"],[0.3333333333333333,\"#9c179e\"],[0.4444444444444444,\"#bd3786\"],[0.5555555555555556,\"#d8576b\"],[0.6666666666666666,\"#ed7953\"],[0.7777777777777778,\"#fb9f3a\"],[0.8888888888888888,\"#fdca26\"],[1.0,\"#f0f921\"]],\"type\":\"histogram2dcontour\"}],\"mesh3d\":[{\"colorbar\":{\"outlinewidth\":0,\"ticks\":\"\"},\"type\":\"mesh3d\"}],\"parcoords\":[{\"line\":{\"colorbar\":{\"outlinewidth\":0,\"ticks\":\"\"}},\"type\":\"parcoords\"}],\"pie\":[{\"automargin\":true,\"type\":\"pie\"}],\"scatter\":[{\"marker\":{\"colorbar\":{\"outlinewidth\":0,\"ticks\":\"\"}},\"type\":\"scatter\"}],\"scatter3d\":[{\"line\":{\"colorbar\":{\"outlinewidth\":0,\"ticks\":\"\"}},\"marker\":{\"colorbar\":{\"outlinewidth\":0,\"ticks\":\"\"}},\"type\":\"scatter3d\"}],\"scattercarpet\":[{\"marker\":{\"colorbar\":{\"outlinewidth\":0,\"ticks\":\"\"}},\"type\":\"scattercarpet\"}],\"scattergeo\":[{\"marker\":{\"colorbar\":{\"outlinewidth\":0,\"ticks\":\"\"}},\"type\":\"scattergeo\"}],\"scattergl\":[{\"marker\":{\"colorbar\":{\"outlinewidth\":0,\"ticks\":\"\"}},\"type\":\"scattergl\"}],\"scattermapbox\":[{\"marker\":{\"colorbar\":{\"outlinewidth\":0,\"ticks\":\"\"}},\"type\":\"scattermapbox\"}],\"scatterpolar\":[{\"marker\":{\"colorbar\":{\"outlinewidth\":0,\"ticks\":\"\"}},\"type\":\"scatterpolar\"}],\"scatterpolargl\":[{\"marker\":{\"colorbar\":{\"outlinewidth\":0,\"ticks\":\"\"}},\"type\":\"scatterpolargl\"}],\"scatterternary\":[{\"marker\":{\"colorbar\":{\"outlinewidth\":0,\"ticks\":\"\"}},\"type\":\"scatterternary\"}],\"surface\":[{\"colorbar\":{\"outlinewidth\":0,\"ticks\":\"\"},\"colorscale\":[[0.0,\"#0d0887\"],[0.1111111111111111,\"#46039f\"],[0.2222222222222222,\"#7201a8\"],[0.3333333333333333,\"#9c179e\"],[0.4444444444444444,\"#bd3786\"],[0.5555555555555556,\"#d8576b\"],[0.6666666666666666,\"#ed7953\"],[0.7777777777777778,\"#fb9f3a\"],[0.8888888888888888,\"#fdca26\"],[1.0,\"#f0f921\"]],\"type\":\"surface\"}],\"table\":[{\"cells\":{\"fill\":{\"color\":\"#EBF0F8\"},\"line\":{\"color\":\"white\"}},\"header\":{\"fill\":{\"color\":\"#C8D4E3\"},\"line\":{\"color\":\"white\"}},\"type\":\"table\"}]},\"layout\":{\"annotationdefaults\":{\"arrowcolor\":\"#2a3f5f\",\"arrowhead\":0,\"arrowwidth\":1},\"autotypenumbers\":\"strict\",\"coloraxis\":{\"colorbar\":{\"outlinewidth\":0,\"ticks\":\"\"}},\"colorscale\":{\"diverging\":[[0,\"#8e0152\"],[0.1,\"#c51b7d\"],[0.2,\"#de77ae\"],[0.3,\"#f1b6da\"],[0.4,\"#fde0ef\"],[0.5,\"#f7f7f7\"],[0.6,\"#e6f5d0\"],[0.7,\"#b8e186\"],[0.8,\"#7fbc41\"],[0.9,\"#4d9221\"],[1,\"#276419\"]],\"sequential\":[[0.0,\"#0d0887\"],[0.1111111111111111,\"#46039f\"],[0.2222222222222222,\"#7201a8\"],[0.3333333333333333,\"#9c179e\"],[0.4444444444444444,\"#bd3786\"],[0.5555555555555556,\"#d8576b\"],[0.6666666666666666,\"#ed7953\"],[0.7777777777777778,\"#fb9f3a\"],[0.8888888888888888,\"#fdca26\"],[1.0,\"#f0f921\"]],\"sequentialminus\":[[0.0,\"#0d0887\"],[0.1111111111111111,\"#46039f\"],[0.2222222222222222,\"#7201a8\"],[0.3333333333333333,\"#9c179e\"],[0.4444444444444444,\"#bd3786\"],[0.5555555555555556,\"#d8576b\"],[0.6666666666666666,\"#ed7953\"],[0.7777777777777778,\"#fb9f3a\"],[0.8888888888888888,\"#fdca26\"],[1.0,\"#f0f921\"]]},\"colorway\":[\"#636efa\",\"#EF553B\",\"#00cc96\",\"#ab63fa\",\"#FFA15A\",\"#19d3f3\",\"#FF6692\",\"#B6E880\",\"#FF97FF\",\"#FECB52\"],\"font\":{\"color\":\"#2a3f5f\"},\"geo\":{\"bgcolor\":\"white\",\"lakecolor\":\"white\",\"landcolor\":\"#E5ECF6\",\"showlakes\":true,\"showland\":true,\"subunitcolor\":\"white\"},\"hoverlabel\":{\"align\":\"left\"},\"hovermode\":\"closest\",\"mapbox\":{\"style\":\"light\"},\"paper_bgcolor\":\"white\",\"plot_bgcolor\":\"#E5ECF6\",\"polar\":{\"angularaxis\":{\"gridcolor\":\"white\",\"linecolor\":\"white\",\"ticks\":\"\"},\"bgcolor\":\"#E5ECF6\",\"radialaxis\":{\"gridcolor\":\"white\",\"linecolor\":\"white\",\"ticks\":\"\"}},\"scene\":{\"xaxis\":{\"backgroundcolor\":\"#E5ECF6\",\"gridcolor\":\"white\",\"gridwidth\":2,\"linecolor\":\"white\",\"showbackground\":true,\"ticks\":\"\",\"zerolinecolor\":\"white\"},\"yaxis\":{\"backgroundcolor\":\"#E5ECF6\",\"gridcolor\":\"white\",\"gridwidth\":2,\"linecolor\":\"white\",\"showbackground\":true,\"ticks\":\"\",\"zerolinecolor\":\"white\"},\"zaxis\":{\"backgroundcolor\":\"#E5ECF6\",\"gridcolor\":\"white\",\"gridwidth\":2,\"linecolor\":\"white\",\"showbackground\":true,\"ticks\":\"\",\"zerolinecolor\":\"white\"}},\"shapedefaults\":{\"line\":{\"color\":\"#2a3f5f\"}},\"ternary\":{\"aaxis\":{\"gridcolor\":\"white\",\"linecolor\":\"white\",\"ticks\":\"\"},\"baxis\":{\"gridcolor\":\"white\",\"linecolor\":\"white\",\"ticks\":\"\"},\"bgcolor\":\"#E5ECF6\",\"caxis\":{\"gridcolor\":\"white\",\"linecolor\":\"white\",\"ticks\":\"\"}},\"title\":{\"x\":0.05},\"xaxis\":{\"automargin\":true,\"gridcolor\":\"white\",\"linecolor\":\"white\",\"ticks\":\"\",\"title\":{\"standoff\":15},\"zerolinecolor\":\"white\",\"zerolinewidth\":2},\"yaxis\":{\"automargin\":true,\"gridcolor\":\"white\",\"linecolor\":\"white\",\"ticks\":\"\",\"title\":{\"standoff\":15},\"zerolinecolor\":\"white\",\"zerolinewidth\":2}}},\"title\":{\"text\":\"<b>What's in your ulam, pare?</b>\",\"x\":0.5,\"xanchor\":\"center\",\"yanchor\":\"top\"},\"width\":1000,\"xaxis\":{\"anchor\":\"y\",\"domain\":[0.0,1.0],\"gridcolor\":\"#F7E2B1\",\"linecolor\":\"#722502\",\"linewidth\":2,\"range\":[-1,1],\"showline\":true,\"title\":{\"text\":\"<b>Vegetable Range</b>\"}},\"yaxis\":{\"anchor\":\"x\",\"domain\":[0.0,1.0],\"gridcolor\":\"#F7E2B1\",\"linecolor\":\"#722502\",\"linewidth\":2,\"range\":[-1,1],\"showline\":true,\"title\":{\"text\":\"<b>Flavor Range</b>\"}}},                        {\"responsive\": true}                    ).then(function(){\n",
       "                            \n",
       "var gd = document.getElementById('10fefda1-fd25-4207-837e-8026ca5fc53b');\n",
       "var x = new MutationObserver(function (mutations, observer) {{\n",
       "        var display = window.getComputedStyle(gd).display;\n",
       "        if (!display || display === 'none') {{\n",
       "            console.log([gd, 'removed!']);\n",
       "            Plotly.purge(gd);\n",
       "            observer.disconnect();\n",
       "        }}\n",
       "}});\n",
       "\n",
       "// Listen for the removal of the full notebook cells\n",
       "var notebookContainer = gd.closest('#notebook-container');\n",
       "if (notebookContainer) {{\n",
       "    x.observe(notebookContainer, {childList: true});\n",
       "}}\n",
       "\n",
       "// Listen for the clearing of the current output cell\n",
       "var outputEl = gd.closest('.output');\n",
       "if (outputEl) {{\n",
       "    x.observe(outputEl, {childList: true});\n",
       "}}\n",
       "\n",
       "                        })                };                });            </script>        </div>"
      ]
     },
     "metadata": {},
     "output_type": "display_data"
    }
   ],
   "source": [
    "data = X_new_df\n",
    "x = 'SV2'\n",
    "y = 'SV5'\n",
    "c = 'cluster_names'\n",
    "tooltip = ['Dish Name']\n",
    "y_ref = 0\n",
    "x_ref = 0\n",
    "\n",
    "fig = px.scatter(data.sort_values('cluster_names'),\n",
    "                 x=x,\n",
    "                 y=y,\n",
    "                 color=c,\n",
    "                 hover_data=tooltip,\n",
    "                 labels={\n",
    "                     x: '<b>Vegetable Range</b>',\n",
    "                     y: '<b>Flavor Range</b>',\n",
    "                     c: '<b>Cluster</b>',\n",
    "                     'Dish Name': '<b>Dish Name</b>'},\n",
    "                 color_discrete_map=cmap,\n",
    "                 width=1000, height=800)\n",
    "fig.update_traces(marker={'size': 14})\n",
    "fig.for_each_trace(lambda t: t.update(textfont_color='#99D072',\n",
    "                                       textposition='top right'))\n",
    "fig.add_shape(\n",
    "    yref='y',\n",
    "    y0=y_ref,\n",
    "    y1=y_ref,   # adding a horizontal line at Y = 1\n",
    "    xref='paper',\n",
    "    x0=0,\n",
    "    x1=1,\n",
    "    line=dict(\n",
    "        color='rgba(114, 37, 2, 0.5)',\n",
    "        width=2.5)\n",
    ")\n",
    "fig.add_shape(\n",
    "    type='line',\n",
    "    yref='paper',\n",
    "    y0=0,\n",
    "    y1=1,\n",
    "    xref='x',\n",
    "    x0=x_ref,\n",
    "    x1=x_ref,\n",
    "    line=dict(\n",
    "        color='rgba(114, 37, 2, 0.5)',\n",
    "        width=2.5)\n",
    ")\n",
    "fig.update_layout(\n",
    "    title={'text': f\"<b>What's in your ulam, pare?</b>\",\n",
    "           'xanchor': 'center',\n",
    "           'yanchor': 'top',\n",
    "           'x': 0.5},\n",
    "    margin=dict(l=0, r=0, t=100, b=0),\n",
    "    font={'size': 20, 'color': '#722502'},\n",
    "    plot_bgcolor='#F7E2B1',\n",
    "    xaxis_range=[-1, 1],\n",
    "    yaxis_range=[-1, 1],\n",
    "    paper_bgcolor='#F7E2B1'\n",
    ")\n",
    "fig.update_xaxes(showline=True, linewidth=2, linecolor='#722502', gridcolor='#F7E2B1')\n",
    "fig.update_yaxes(showline=True, linewidth=2, linecolor='#722502', gridcolor='#F7E2B1')\n",
    "fig.show()"
   ]
  },
  {
   "cell_type": "code",
   "execution_count": 78,
   "metadata": {},
   "outputs": [],
   "source": [
    "import plotly.io as pio\n",
    "pio.write_html(fig, file='try.html', auto_open=True)"
   ]
  },
  {
   "cell_type": "markdown",
   "metadata": {},
   "source": [
    "# SCRATCH"
   ]
  },
  {
   "cell_type": "code",
   "execution_count": 27,
   "metadata": {
    "ExecuteTime": {
     "end_time": "2021-09-05T16:39:40.356004Z",
     "start_time": "2021-09-05T16:39:37.617561Z"
    }
   },
   "outputs": [
    {
     "data": {
      "image/png": "[encoded data removed]",
      "text/plain": [
       "<Figure size 1440x576 with 1 Axes>"
      ]
     },
     "metadata": {
      "needs_background": "light"
     },
     "output_type": "display_data"
    }
   ],
   "source": [
    "fig = plt.figure(figsize=(20,8))\n",
    "pd.plotting.parallel_coordinates(\n",
    "    X_cluster, 'cluster', color=('#556270', '#4ECDC4', '#C7F464'), \n",
    "    figure=fig\n",
    ");"
   ]
  },
  {
   "cell_type": "code",
   "execution_count": 28,
   "metadata": {
    "ExecuteTime": {
     "end_time": "2021-09-05T16:42:09.762646Z",
     "start_time": "2021-09-05T16:42:07.440537Z"
    },
    "scrolled": false
   },
   "outputs": [
    {
     "data": {
      "text/plain": [
       "<AxesSubplot:>"
      ]
     },
     "execution_count": 28,
     "metadata": {},
     "output_type": "execute_result"
    },
    {
     "data": {
      "image/png": "[encoded data removed]",
      "text/plain": [
       "<Figure size 1440x576 with 1 Axes>"
      ]
     },
     "metadata": {
      "needs_background": "light"
     },
     "output_type": "display_data"
    }
   ],
   "source": [
    "X_means =  X_cluster.groupby(\"cluster\").mean()\n",
    "\n",
    "X_means = X_means.reset_index()\n",
    "fig = plt.figure(figsize=(20,8))\n",
    "pd.plotting.parallel_coordinates(\n",
    "    X_means, 'cluster', color=('#556270', '#4ECDC4', '#C7F464'),figure=fig, \n",
    ")"
   ]
  },
  {
   "cell_type": "code",
   "execution_count": 29,
   "metadata": {},
   "outputs": [],
   "source": [
    "# # def ind_color(x):\n",
    "# # #     if x == '2': \n",
    "# # #         return '#DA4D2E' # carrot + patatas, ma-sarsa\n",
    "# #     if x == '7':\n",
    "# #         return '#F4903E' # dahon, ma-sarsa\n",
    "# # #     elif x == '5':\n",
    "# # #         return '#8D9F38' # dahon, ma-sabaw\n",
    "# #     else:\n",
    "# #         return '#D7D7D7'\n",
    "\n",
    "# # func = np.vectorize(ind_color)\n",
    "# # X_new_df['ind_color'] = func(X_new_df['cluster_no'])\n",
    "\n",
    "# (ggplot(X_new_df, aes(x='SV2', y='SV5'))+\n",
    "#     geom_point(aes(color='ind_color')) +\n",
    "#     #scale_color_manual(values=['#DA4D2E', '#8D9F38', '#F4903E', '#8D9F38', '#EFC564']) +\n",
    "#     proj_theme\n",
    "# )\n",
    "\n",
    "# # first - '#8D9F38'\n",
    "# # third - '#DA4D2E'\n",
    "# # fourth - '#EFC564'\n",
    "# # fifth - '#F4903E'\n",
    "\n",
    "# # first - '#F4903E'\n",
    "# # second - '#DA4D2E' \n",
    "# # third - '#8D9F38'"
   ]
  }
 ],
 "metadata": {
  "kernelspec": {
   "display_name": "Python 3",
   "language": "python",
   "name": "python3"
  },
  "language_info": {
   "codemirror_mode": {
    "name": "ipython",
    "version": 3
   },
   "file_extension": ".py",
   "mimetype": "text/x-python",
   "name": "python",
   "nbconvert_exporter": "python",
   "pygments_lexer": "ipython3",
   "version": "3.7.1"
  }
 },
 "nbformat": 4,
 "nbformat_minor": 4
}
